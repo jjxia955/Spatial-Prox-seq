{
 "cells": [
  {
   "cell_type": "code",
   "execution_count": 19,
   "id": "dc926096-5416-4fe9-bb82-0a1cd4643cc9",
   "metadata": {
    "tags": []
   },
   "outputs": [],
   "source": [
    "#### Load library\n",
    "import scanpy as sc\n",
    "import numpy as np\n",
    "import seaborn as sns\n",
    "import matplotlib.pyplot as plt\n",
    "import pandas as pd\n",
    "import matplotlib.image as mpimg\n",
    "import matplotlib as mpl\n",
    "from matplotlib.pyplot import rc_context\n",
    "import SpatialproxseqClasses as SPC\n",
    "import Proxseqnetwork as WPPI\n",
    "\n",
    "#*****\n",
    "mpl.rcdefaults()\n",
    "# Set font to be arial\n",
    "mpl.rc('font', **{'sans-serif':'Arial', 'size':12})\n",
    "mpl.rcParams['mathtext.rm'] = 'sans' # to have non-italic greek letter, use r'$\\mathrm{\\alpha}$', does NOT work with f-string\n",
    "mpl.rcParams['axes.titlesize'] = 12\n",
    "# Set default tick size\n",
    "mpl.rcParams['xtick.major.size'] = 5.5\n",
    "mpl.rcParams['ytick.major.size'] = 5.5\n",
    "mpl.rcParams['xtick.minor.size'] = 2.5\n",
    "mpl.rcParams['ytick.minor.size'] = 2.5\n",
    "# Default legend settings\n",
    "mpl.rcParams['legend.fancybox'] = False\n",
    "mpl.rcParams['legend.edgecolor'] = 'k'\n",
    "\n",
    "#to store text as text, not as path\n",
    "new_rc_params = {'text.usetex': False,\n",
    "                 \"svg.fonttype\": 'none'}\n",
    "mpl.rcParams.update(new_rc_params)\n",
    "sc.settings.verbosity = 3\n"
   ]
  },
  {
   "cell_type": "code",
   "execution_count": 20,
   "id": "e37945eb-d058-4f52-8320-7e0441a05b9b",
   "metadata": {
    "tags": []
   },
   "outputs": [
    {
     "name": "stderr",
     "output_type": "stream",
     "text": [
      "/var/folders/zq/r1fxzh5j34100gjpvnw5chf40000gp/T/ipykernel_67338/3191033855.py:7: UserWarning: This pattern is interpreted as a regular expression, and has match groups. To actually get the groups, use str.extract.\n",
      "  valid_condition_A1 = ~data_A1.index.str.contains(r'((:.*_A)|(_B:))', regex=True)\n"
     ]
    }
   ],
   "source": [
    "#read PLA data and transform the data\n",
    "data_A1 = pd.read_csv('A1-PLA_count_matrix.txt.gz', sep=\"\\t\",index_col=0)\n",
    "# Update row names (index)\n",
    "data_A1.index = data_A1.index.str.replace(r\"^VCAM1_B:(.*)$\", r\"CD40_A:\\1\", regex=True)\n",
    "data_A1.index = data_A1.index.str.replace(r\"^CD29_B:(.*)$\", r\"CD279_A:\\1\", regex=True)\n",
    "data_A1.index = data_A1.index.str.replace(r\"^LFA1_B:(.*)$\", r\"CD11a_A:\\1\", regex=True)\n",
    "valid_condition_A1 = ~data_A1.index.str.contains(r'((:.*_A)|(_B:))', regex=True)\n",
    "\n",
    "# Apply the filter to the dataframe\n",
    "pla_A1 = data_A1[valid_condition_A1]\n",
    "\n",
    "#remover suffix \n",
    "pla_A1.index = pla_A1.index.str.replace(r'(_A|_B)', '', regex=True)\n",
    "pla_A1 = pla_A1.loc[~pla_A1.index.str.contains('HLADPRQ'),:]\n",
    "\n",
    "pla_obj_A1 = SPC.sproxseqObject(pla_A1)\n",
    "pla_obj_A1.compute_protein_abundance()\n",
    "pla_obj_A1.compute_protein_pair_counts()\n",
    "pla_obj_A1.protein_pair_count['bulk'] = pla_obj_A1.protein_pair_count.sum(axis=1)\n",
    "pla_obj_A1.protein_count['bulk'] = pla_obj_A1.protein_count.sum(axis=1)"
   ]
  },
  {
   "cell_type": "code",
   "execution_count": 21,
   "id": "50711418-dc62-4cdf-ae55-4768b0be100e",
   "metadata": {
    "tags": []
   },
   "outputs": [
    {
     "name": "stderr",
     "output_type": "stream",
     "text": [
      "/var/folders/zq/r1fxzh5j34100gjpvnw5chf40000gp/T/ipykernel_67338/2851708631.py:7: UserWarning: This pattern is interpreted as a regular expression, and has match groups. To actually get the groups, use str.extract.\n",
      "  valid_condition_B1 = ~data_B1.index.str.contains(r'((:.*_A)|(_B:))', regex=True)\n"
     ]
    }
   ],
   "source": [
    "#read PLA data and transform the data\n",
    "data_B1 = pd.read_csv('B1-PLA_count_matrix.txt.gz', sep=\"\\t\",index_col=0)\n",
    "# Update row names (index)\n",
    "data_B1.index = data_B1.index.str.replace(r\"^VCAM1_B:(.*)$\", r\"CD40_A:\\1\", regex=True)\n",
    "data_B1.index = data_B1.index.str.replace(r\"^CD29_B:(.*)$\", r\"CD279_A:\\1\", regex=True)\n",
    "data_B1.index = data_B1.index.str.replace(r\"^LFA1_B:(.*)$\", r\"CD11a_A:\\1\", regex=True)\n",
    "valid_condition_B1 = ~data_B1.index.str.contains(r'((:.*_A)|(_B:))', regex=True)\n",
    "\n",
    "# Apply the filter to the dataframe\n",
    "pla_B1 = data_B1[valid_condition_B1]\n",
    "\n",
    "#remover suffix \n",
    "pla_B1.index = pla_B1.index.str.replace(r'(_A|_B)', '', regex=True)\n",
    "pla_B1 = pla_B1.loc[~pla_B1.index.str.contains('HLADPRQ'),:]\n",
    "\n",
    "pla_obj_B1 = SPC.sproxseqObject(pla_B1)\n",
    "pla_obj_B1.compute_protein_abundance()\n",
    "pla_obj_B1.compute_protein_pair_counts()\n",
    "pla_obj_B1.protein_pair_count['bulk'] = pla_obj_B1.protein_pair_count.sum(axis=1)\n",
    "pla_obj_B1.protein_count['bulk'] = pla_obj_B1.protein_count.sum(axis=1)"
   ]
  },
  {
   "cell_type": "code",
   "execution_count": 22,
   "id": "524c385f-335e-4fd3-9cab-cbb955dbd9de",
   "metadata": {
    "tags": []
   },
   "outputs": [
    {
     "name": "stderr",
     "output_type": "stream",
     "text": [
      "/var/folders/zq/r1fxzh5j34100gjpvnw5chf40000gp/T/ipykernel_67338/1797181939.py:7: UserWarning: This pattern is interpreted as a regular expression, and has match groups. To actually get the groups, use str.extract.\n",
      "  valid_condition_D1 = ~data_D1.index.str.contains(r'((:.*_A)|(_B:))', regex=True)\n"
     ]
    }
   ],
   "source": [
    "#read PLA data and transform the data\n",
    "data_D1 = pd.read_csv('D1-PLA_count_matrix.txt.gz', sep=\"\\t\",index_col=0)\n",
    "# Update row names (index)\n",
    "data_D1.index = data_D1.index.str.replace(r\"^VCAM1_B:(.*)$\", r\"CD40_A:\\1\", regex=True)\n",
    "data_D1.index = data_D1.index.str.replace(r\"^CD29_B:(.*)$\", r\"CD279_A:\\1\", regex=True)\n",
    "data_D1.index = data_D1.index.str.replace(r\"^LFA1_B:(.*)$\", r\"CD11a_A:\\1\", regex=True)\n",
    "valid_condition_D1 = ~data_D1.index.str.contains(r'((:.*_A)|(_B:))', regex=True)\n",
    "\n",
    "# Apply the filter to the dataframe\n",
    "pla_D1 = data_D1[valid_condition_D1]\n",
    "\n",
    "#remover suffix \n",
    "pla_D1.index = pla_D1.index.str.replace(r'(_A|_B)', '', regex=True)\n",
    "pla_D1 = pla_D1.loc[~pla_D1.index.str.contains('HLADPRQ'),:]\n",
    "\n",
    "pla_obj_D1 = SPC.sproxseqObject(pla_D1)\n",
    "pla_obj_D1.compute_protein_abundance()\n",
    "pla_obj_D1.compute_protein_pair_counts()\n",
    "pla_obj_D1.protein_pair_count['bulk'] = pla_obj_D1.protein_pair_count.sum(axis=1)\n",
    "pla_obj_D1.protein_count['bulk'] = pla_obj_D1.protein_count.sum(axis=1)"
   ]
  },
  {
   "cell_type": "code",
   "execution_count": 23,
   "id": "03c9a70f-ca9e-43ab-bfb7-0427f7828801",
   "metadata": {
    "tags": []
   },
   "outputs": [],
   "source": [
    "#calculate weighted_df \n",
    "w_sc_pla_A1 = pla_obj_A1.compute_fractional_overlap(method='average')\n",
    "w_sc_pla_A1 = pla_obj_A1.fractional_overlap\n",
    "w_sc_pla_A1.fillna(0, inplace=True)\n",
    "w_sc_pla_A1 = w_sc_pla_A1.loc[:, ~w_sc_pla_A1.columns.str.contains('bulk', case=False, na=False)]\n",
    "w_sc_pla_A1.to_csv(\"A1_weighted_sc_pla.csv\")\n",
    "\n"
   ]
  },
  {
   "cell_type": "code",
   "execution_count": 24,
   "id": "249f3ff5-414a-4e81-9ac2-76448c0f3622",
   "metadata": {},
   "outputs": [],
   "source": [
    "#calculate weighted_df \n",
    "w_sc_pla_B1 = pla_obj_B1.compute_fractional_overlap(method='average')\n",
    "w_sc_pla_B1 = pla_obj_B1.fractional_overlap\n",
    "w_sc_pla_B1.fillna(0, inplace=True)\n",
    "w_sc_pla_B1 = w_sc_pla_B1.loc[:, ~w_sc_pla_B1.columns.str.contains('bulk', case=False, na=False)]\n",
    "w_sc_pla_B1.to_csv(\"B1_weighted_sc_pla.csv\")"
   ]
  },
  {
   "cell_type": "code",
   "execution_count": 25,
   "id": "ca9af36a-7a1d-4fcb-80eb-2784d4d0312f",
   "metadata": {
    "tags": []
   },
   "outputs": [],
   "source": [
    "#calculate weighted_df \n",
    "w_sc_pla_D1 = pla_obj_D1.compute_fractional_overlap(method='average')\n",
    "w_sc_pla_D1 = pla_obj_D1.fractional_overlap\n",
    "w_sc_pla_D1.fillna(0, inplace=True)\n",
    "w_sc_pla_D1 = w_sc_pla_D1.loc[:, ~w_sc_pla_D1.columns.str.contains('bulk', case=False, na=False)]\n",
    "w_sc_pla_D1.to_csv(\"D1_weighted_sc_pla.csv\")"
   ]
  },
  {
   "cell_type": "code",
   "execution_count": null,
   "id": "8e1ed55e-d6a9-4d20-8605-675f962c9a14",
   "metadata": {},
   "outputs": [],
   "source": []
  }
 ],
 "metadata": {
  "kernelspec": {
   "display_name": "scanpy-Proxseq",
   "language": "python",
   "name": "python3"
  },
  "language_info": {
   "codemirror_mode": {
    "name": "ipython",
    "version": 3
   },
   "file_extension": ".py",
   "mimetype": "text/x-python",
   "name": "python",
   "nbconvert_exporter": "python",
   "pygments_lexer": "ipython3",
   "version": "3.10.11"
  }
 },
 "nbformat": 4,
 "nbformat_minor": 5
}
