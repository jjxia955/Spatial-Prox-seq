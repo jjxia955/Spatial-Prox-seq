{
 "cells": [
  {
   "cell_type": "code",
   "execution_count": 1,
   "id": "dc926096-5416-4fe9-bb82-0a1cd4643cc9",
   "metadata": {
    "tags": []
   },
   "outputs": [],
   "source": [
    "#### Load library\n",
    "import scanpy as sc\n",
    "import numpy as np\n",
    "import seaborn as sns\n",
    "import matplotlib.pyplot as plt\n",
    "import pandas as pd\n",
    "import matplotlib.image as mpimg\n",
    "import matplotlib as mpl\n",
    "from matplotlib.pyplot import rc_context\n",
    "import SpatialproxseqClasses as SPC\n",
    "import Proxseqnetwork as WPPI\n",
    "\n",
    "#*****\n",
    "mpl.rcdefaults()\n",
    "# Set font to be arial\n",
    "mpl.rc('font', **{'sans-serif':'Arial', 'size':12})\n",
    "mpl.rcParams['mathtext.rm'] = 'sans' \n",
    "mpl.rcParams['axes.titlesize'] = 12\n",
    "# Set default tick size\n",
    "mpl.rcParams['xtick.major.size'] = 5.5\n",
    "mpl.rcParams['ytick.major.size'] = 5.5\n",
    "mpl.rcParams['xtick.minor.size'] = 2.5\n",
    "mpl.rcParams['ytick.minor.size'] = 2.5\n",
    "# Default legend settings\n",
    "mpl.rcParams['legend.fancybox'] = False\n",
    "mpl.rcParams['legend.edgecolor'] = 'k'\n",
    "\n",
    "#to store text as text, not as path\n",
    "new_rc_params = {'text.usetex': False,\n",
    "                 \"svg.fonttype\": 'none'}\n",
    "mpl.rcParams.update(new_rc_params)\n",
    "sc.settings.verbosity = 3\n"
   ]
  },
  {
   "cell_type": "code",
   "execution_count": 2,
   "id": "e37945eb-d058-4f52-8320-7e0441a05b9b",
   "metadata": {
    "tags": []
   },
   "outputs": [
    {
     "name": "stderr",
     "output_type": "stream",
     "text": [
      "/var/folders/zq/r1fxzh5j34100gjpvnw5chf40000gp/T/ipykernel_19530/2951619913.py:7: UserWarning: This pattern is interpreted as a regular expression, and has match groups. To actually get the groups, use str.extract.\n",
      "  valid_condition_A1 = ~data_A1.index.str.contains(r'((:.*_A)|(_B:))', regex=True)\n"
     ]
    }
   ],
   "source": [
    "#read PLA data and transform the data\n",
    "data_A1 = pd.read_csv('A1-PLA_count_matrix.txt.gz', sep=\"\\t\",index_col=0)\n",
    "# Update row names (index)\n",
    "data_A1.index = data_A1.index.str.replace(r\"^VCAM1_B:(.*)$\", r\"CD40_A:\\1\", regex=True)\n",
    "data_A1.index = data_A1.index.str.replace(r\"^CD29_B:(.*)$\", r\"CD279_A:\\1\", regex=True)\n",
    "data_A1.index = data_A1.index.str.replace(r\"^LFA1_B:(.*)$\", r\"CD11a_A:\\1\", regex=True)\n",
    "valid_condition_A1 = ~data_A1.index.str.contains(r'((:.*_A)|(_B:))', regex=True)\n",
    "\n",
    "# Apply the filter to the dataframe\n",
    "pla_A1 = data_A1[valid_condition_A1]\n",
    "\n",
    "#remover suffix \n",
    "pla_A1.index = pla_A1.index.str.replace(r'(_A|_B)', '', regex=True)\n",
    "pla_A1 = pla_A1.loc[~pla_A1.index.str.contains('HLADPRQ'),:]"
   ]
  },
  {
   "cell_type": "code",
   "execution_count": 3,
   "id": "8352024f-0a0e-47db-8b61-7d70f04b1d56",
   "metadata": {
    "tags": []
   },
   "outputs": [],
   "source": [
    "pla_obj_A1 = SPC.sproxseqObject(pla_A1)\n",
    "pla_obj_A1.compute_protein_abundance()\n",
    "pla_obj_A1.compute_protein_pair_counts()\n"
   ]
  },
  {
   "cell_type": "code",
   "execution_count": 4,
   "id": "8f5c2229-e75a-48cb-9715-307fd722c26d",
   "metadata": {
    "tags": []
   },
   "outputs": [],
   "source": [
    "pla_obj_A1.compute_fisher_pvalues()"
   ]
  },
  {
   "cell_type": "code",
   "execution_count": 5,
   "id": "285a3548-9b2e-40df-bde0-3235cef8b3c2",
   "metadata": {
    "tags": []
   },
   "outputs": [],
   "source": [
    "pla_obj_A1.fisher_value.to_csv('A1_fisher_test.csv')"
   ]
  },
  {
   "cell_type": "code",
   "execution_count": 6,
   "id": "93f9f2be-fa28-4a90-97bc-80f97c661c73",
   "metadata": {
    "tags": []
   },
   "outputs": [
    {
     "name": "stderr",
     "output_type": "stream",
     "text": [
      "/var/folders/zq/r1fxzh5j34100gjpvnw5chf40000gp/T/ipykernel_19530/3589421970.py:7: UserWarning: This pattern is interpreted as a regular expression, and has match groups. To actually get the groups, use str.extract.\n",
      "  valid_condition_B1 = ~data_B1.index.str.contains(r'((:.*_A)|(_B:))', regex=True)\n"
     ]
    }
   ],
   "source": [
    "#read PLA data and transform the data\n",
    "data_B1 = pd.read_csv('B1-PLA_count_matrix.txt.gz', sep=\"\\t\",index_col=0)\n",
    "# Update row names (index)\n",
    "data_B1.index = data_B1.index.str.replace(r\"^VCAM1_B:(.*)$\", r\"CD40_A:\\1\", regex=True)\n",
    "data_B1.index = data_B1.index.str.replace(r\"^CD29_B:(.*)$\", r\"CD279_A:\\1\", regex=True)\n",
    "data_B1.index = data_B1.index.str.replace(r\"^LFA1_B:(.*)$\", r\"CD11a_A:\\1\", regex=True)\n",
    "valid_condition_B1 = ~data_B1.index.str.contains(r'((:.*_A)|(_B:))', regex=True)\n",
    "\n",
    "# Apply the filter to the dataframe\n",
    "pla_B1 = data_B1[valid_condition_B1]\n",
    "\n",
    "#remover suffix \n",
    "pla_B1.index = pla_B1.index.str.replace(r'(_A|_B)', '', regex=True)\n",
    "pla_B1 = pla_B1.loc[~pla_B1.index.str.contains('HLADPRQ'),:]"
   ]
  },
  {
   "cell_type": "code",
   "execution_count": 7,
   "id": "8c5a37c2-7daf-4c36-abad-30f546ab5858",
   "metadata": {
    "tags": []
   },
   "outputs": [],
   "source": [
    "pla_obj_B1 = SPC.sproxseqObject(pla_B1)\n",
    "pla_obj_B1.compute_protein_abundance()\n",
    "pla_obj_B1.compute_protein_pair_counts()\n"
   ]
  },
  {
   "cell_type": "code",
   "execution_count": 8,
   "id": "bff37348-dbea-49b3-90e8-af1f87728834",
   "metadata": {
    "tags": []
   },
   "outputs": [],
   "source": [
    "pla_obj_B1.compute_fisher_pvalues()"
   ]
  },
  {
   "cell_type": "code",
   "execution_count": 9,
   "id": "63a7fbf7-9907-4014-b700-eb6d11841379",
   "metadata": {
    "tags": []
   },
   "outputs": [],
   "source": [
    "pla_obj_B1.fisher_value.to_csv('B1_fisher_test.csv')"
   ]
  },
  {
   "cell_type": "code",
   "execution_count": 10,
   "id": "f79d983f-2aa8-4cb7-84f2-59e8ea49a801",
   "metadata": {
    "tags": []
   },
   "outputs": [
    {
     "name": "stderr",
     "output_type": "stream",
     "text": [
      "/var/folders/zq/r1fxzh5j34100gjpvnw5chf40000gp/T/ipykernel_19530/2132980523.py:7: UserWarning: This pattern is interpreted as a regular expression, and has match groups. To actually get the groups, use str.extract.\n",
      "  valid_condition_D1 = ~data_D1.index.str.contains(r'((:.*_A)|(_B:))', regex=True)\n"
     ]
    }
   ],
   "source": [
    "#read PLA data and transform the data\n",
    "data_D1 = pd.read_csv('D1-PLA_count_matrix.txt.gz', sep=\"\\t\",index_col=0)\n",
    "# Update row names (index)\n",
    "data_D1.index = data_D1.index.str.replace(r\"^VCAM1_B:(.*)$\", r\"CD40_A:\\1\", regex=True)\n",
    "data_D1.index = data_D1.index.str.replace(r\"^CD29_B:(.*)$\", r\"CD279_A:\\1\", regex=True)\n",
    "data_D1.index = data_D1.index.str.replace(r\"^LFA1_B:(.*)$\", r\"CD11a_A:\\1\", regex=True)\n",
    "valid_condition_D1 = ~data_D1.index.str.contains(r'((:.*_A)|(_B:))', regex=True)\n",
    "\n",
    "# Apply the filter to the dataframe\n",
    "pla_D1 = data_D1[valid_condition_D1]\n",
    "\n",
    "#remover suffix \n",
    "pla_D1.index = pla_D1.index.str.replace(r'(_A|_B)', '', regex=True)\n",
    "pla_D1 = pla_D1.loc[~pla_D1.index.str.contains('HLADPRQ'),:]"
   ]
  },
  {
   "cell_type": "code",
   "execution_count": 11,
   "id": "d6d17cbf-ed0e-4852-8480-100f03e45efd",
   "metadata": {
    "tags": []
   },
   "outputs": [],
   "source": [
    "\n",
    "pla_obj_D1 = SPC.sproxseqObject(pla_D1)\n",
    "pla_obj_D1.compute_protein_abundance()\n",
    "pla_obj_D1.compute_protein_pair_counts()"
   ]
  },
  {
   "cell_type": "code",
   "execution_count": 12,
   "id": "66ac0d58-585d-4b0e-9dc5-757b2eb161ed",
   "metadata": {
    "tags": []
   },
   "outputs": [],
   "source": [
    "pla_obj_D1.compute_fisher_pvalues()"
   ]
  },
  {
   "cell_type": "code",
   "execution_count": 13,
   "id": "7c58710f-5d7c-4936-989f-471786524d9f",
   "metadata": {
    "tags": []
   },
   "outputs": [],
   "source": [
    "pla_obj_D1.fisher_value.to_csv('D1_fisher_test.csv')"
   ]
  },
  {
   "cell_type": "code",
   "execution_count": null,
   "id": "af3f249c-37df-4213-b5e5-398e36f7911b",
   "metadata": {},
   "outputs": [],
   "source": []
  }
 ],
 "metadata": {
  "kernelspec": {
   "display_name": "scanpy-Proxseq",
   "language": "python",
   "name": "python3"
  },
  "language_info": {
   "codemirror_mode": {
    "name": "ipython",
    "version": 3
   },
   "file_extension": ".py",
   "mimetype": "text/x-python",
   "name": "python",
   "nbconvert_exporter": "python",
   "pygments_lexer": "ipython3",
   "version": "3.10.11"
  }
 },
 "nbformat": 4,
 "nbformat_minor": 5
}
