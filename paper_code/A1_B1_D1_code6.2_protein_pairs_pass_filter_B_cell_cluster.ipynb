{
 "cells": [
  {
   "cell_type": "code",
   "execution_count": 1,
   "id": "dc926096-5416-4fe9-bb82-0a1cd4643cc9",
   "metadata": {
    "tags": []
   },
   "outputs": [],
   "source": [
    "#### Load library\n",
    "import scanpy as sc\n",
    "import numpy as np\n",
    "import seaborn as sns\n",
    "import matplotlib.pyplot as plt\n",
    "import pandas as pd\n",
    "import matplotlib.image as mpimg\n",
    "import matplotlib as mpl\n",
    "from matplotlib.pyplot import rc_context\n",
    "import os\n",
    "import ProxseqClasses as PC\n",
    "import Proxseqnetwork as WPPI\n",
    "import SpatialproxseqClasses as SPC\n",
    "#*****\n",
    "mpl.rcdefaults()\n",
    "# Set font to be arial\n",
    "mpl.rc('font', **{'sans-serif':'Arial', 'size':12})\n",
    "mpl.rcParams['mathtext.rm'] = 'sans' # to have non-italic greek letter, use r'$\\mathrm{\\alpha}$', does NOT work with f-string\n",
    "mpl.rcParams['axes.titlesize'] = 12\n",
    "# Set default tick size\n",
    "mpl.rcParams['xtick.major.size'] = 5.5\n",
    "mpl.rcParams['ytick.major.size'] = 5.5\n",
    "mpl.rcParams['xtick.minor.size'] = 2.5\n",
    "mpl.rcParams['ytick.minor.size'] = 2.5\n",
    "# Default legend settings\n",
    "mpl.rcParams['legend.fancybox'] = False\n",
    "mpl.rcParams['legend.edgecolor'] = 'k'\n",
    "\n",
    "#to store text as text, not as path\n",
    "new_rc_params = {'text.usetex': False,\n",
    "                 \"svg.fonttype\": 'none'}\n",
    "mpl.rcParams.update(new_rc_params)\n",
    "sc.settings.verbosity = 3\n"
   ]
  },
  {
   "cell_type": "code",
   "execution_count": 2,
   "id": "f8e39d11-8da7-4168-a9d3-56cefd7a7e17",
   "metadata": {
    "tags": []
   },
   "outputs": [],
   "source": [
    "A1_fisher_test = pd.read_csv('A1_fisher_test.csv', index_col=0)\n",
    "B1_fisher_test = pd.read_csv('B1_fisher_test.csv', index_col=0)\n",
    "D1_fisher_test = pd.read_csv('D1_fisher_test.csv', index_col=0)\n",
    "\n",
    "A1_adata_mRNA_cell_clusters = pd.read_csv('A1_adata_mRNA_cell_clusters.csv')\n",
    "B1_adata_mRNA_cell_clusters = pd.read_csv('B1_adata_mRNA_cell_clusters.csv')\n",
    "D1_adata_mRNA_cell_clusters = pd.read_csv('D1_adata_mRNA_cell_clusters.csv')\n"
   ]
  },
  {
   "cell_type": "code",
   "execution_count": 3,
   "id": "d74d121d-cd15-4ba1-b063-48735e40fbdf",
   "metadata": {},
   "outputs": [],
   "source": [
    "def process_sample(sample_name, fisher_file, cluster_file, threshold=0.15):\n",
    "    \"\"\"\n",
    "    Process a sample to identify significant PLA pairs based on Fisher's test,\n",
    "    and categorize them into homodimers, bidirectional heterodimers, and unidirectional heterodimers.\n",
    "\n",
    "    The function filters PLA pairs that exceed the significance threshold\n",
    "    in at least one of the following clusters:\n",
    "    'Non-GC follicles', 'Dark zone', 'Light zone'.\n",
    "\n",
    "    If some of these clusters do not exist in the sample, the filtering\n",
    "    will be done using the existing clusters only.\n",
    "\n",
    "    Returns:\n",
    "    - filtered_fisher_cluster: DataFrame with filtered PLA pairs\n",
    "    - categorized_df: DataFrame categorizing PLA pairs\n",
    "    \"\"\"\n",
    "    import pandas as pd\n",
    "\n",
    "    # Load Fisher test and cluster annotation data\n",
    "    fisher_df = pd.read_csv(fisher_file, index_col=0)\n",
    "    cluster_df = pd.read_csv(cluster_file)\n",
    "    cluster_df.set_index(\"cell_index\", inplace=True)\n",
    "\n",
    "    # Extract cells belonging to this sample\n",
    "    selected_cells = cluster_df.index.tolist()\n",
    "    filtered_fisher_df = fisher_df[selected_cells]\n",
    "    cell_to_cluster = cluster_df['mrna_annotation']\n",
    "\n",
    "    # Get all clusters present in the sample\n",
    "    sample_clusters = cell_to_cluster.unique()\n",
    "\n",
    "    # Compute the fraction of significant p-values per cluster\n",
    "    clustered_fractions = pd.DataFrame(index=fisher_df.index, columns=sample_clusters)\n",
    "    for cluster in sample_clusters:\n",
    "        cells = cell_to_cluster[cell_to_cluster == cluster].index\n",
    "        if len(cells) > 0:\n",
    "            clustered_fractions[cluster] = (filtered_fisher_df[cells] < 0.05).mean(axis=1)\n",
    "\n",
    "    # Filter PLA pairs: at least one valid cluster exceeds the threshold\n",
    "    valid_clusters = [c for c in ['Non-GC follicles', 'Dark zone', 'Light zone'] if c in clustered_fractions.columns]\n",
    "\n",
    "    if len(valid_clusters) == 0:\n",
    "        raise ValueError(f\"No valid clusters found in sample {sample_name}. Available clusters: {sample_clusters}\")\n",
    "\n",
    "    filtered_fisher_cluster = clustered_fractions.loc[\n",
    "        (clustered_fractions[valid_clusters] > threshold).any(axis=1)\n",
    "    ]\n",
    "\n",
    "    # Step 2: Categorize PLA pairs\n",
    "    pla_pairs = list(filtered_fisher_cluster.index)\n",
    "\n",
    "    homodimers = []\n",
    "    bidirectional_heterodimers = set()\n",
    "    unidirectional_heterodimers = []\n",
    "    seen = set()\n",
    "\n",
    "    for pair in pla_pairs:\n",
    "        prot1, prot2 = pair.split(':')\n",
    "        reversed_pair = f\"{prot2}:{prot1}\"\n",
    "\n",
    "        if prot1 == prot2:\n",
    "            homodimers.append(pair)\n",
    "        elif reversed_pair in pla_pairs:\n",
    "            if reversed_pair not in seen:\n",
    "                bidirectional_heterodimers.add(tuple(sorted([prot1, prot2])))\n",
    "            seen.add(pair)\n",
    "        else:\n",
    "            unidirectional_heterodimers.append(pair)\n",
    "\n",
    "    bidirectional_heterodimers = [f\"{a}:{b}\" for a, b in bidirectional_heterodimers]\n",
    "\n",
    "    # Align lengths for table output\n",
    "    max_len = max(len(homodimers), len(bidirectional_heterodimers), len(unidirectional_heterodimers))\n",
    "    def pad_list(lst, length):\n",
    "        return lst + [''] * (length - len(lst))\n",
    "\n",
    "    categorized_df = pd.DataFrame({\n",
    "        \"Homodimer\": pad_list(homodimers, max_len),\n",
    "        \"Bidirectional_Heterodimer\": pad_list(bidirectional_heterodimers, max_len),\n",
    "        \"Unidirectional_Heterodimer\": pad_list(unidirectional_heterodimers, max_len),\n",
    "    })\n",
    "\n",
    "    return filtered_fisher_cluster, categorized_df\n"
   ]
  },
  {
   "cell_type": "code",
   "execution_count": 4,
   "id": "0a78c676-e491-4990-a397-57fa0ee8f547",
   "metadata": {
    "tags": []
   },
   "outputs": [],
   "source": [
    "A1_fisher, A1_categorized = process_sample(\"A1\", \"A1_fisher_test.csv\", \"A1_adata_mRNA_cell_clusters.csv\")\n",
    "B1_fisher, B1_categorized = process_sample(\"B1\", \"B1_fisher_test.csv\", \"B1_adata_mRNA_cell_clusters.csv\")\n",
    "D1_fisher, D1_categorized = process_sample(\"D1\", \"D1_fisher_test.csv\", \"D1_adata_mRNA_cell_clusters.csv\")\n",
    "\n",
    "\n",
    "A1_categorized.to_csv(\"A1_pla_pair_pass_fisher_test_0.15_B_cell_cluster.csv\", index=False)\n",
    "B1_categorized.to_csv(\"B1_pla_pair_pass_fisher_test_0.15_B_cell_cluster.csv\", index=False)\n",
    "D1_categorized.to_csv(\"D1_pla_pair_pass_fisher_test_0.15_B_cell_cluster.csv\", index=False)\n"
   ]
  },
  {
   "cell_type": "code",
   "execution_count": 5,
   "id": "e10042f3-d9a1-44ad-a28d-77a38dcd8215",
   "metadata": {
    "tags": []
   },
   "outputs": [],
   "source": [
    "A1_pla_pair_classification = pd.read_csv('A1_pla_pair_pass_fisher_test_0.15_B_cell_cluster.csv')\n",
    "B1_pla_pair_classification = pd.read_csv('B1_pla_pair_pass_fisher_test_0.15_B_cell_cluster.csv')\n",
    "D1_pla_pair_classification = pd.read_csv('D1_pla_pair_pass_fisher_test_0.15_B_cell_cluster.csv')\n"
   ]
  },
  {
   "cell_type": "code",
   "execution_count": 6,
   "id": "5194719f-3101-4668-a471-eabfe6c97c78",
   "metadata": {
    "tags": []
   },
   "outputs": [],
   "source": [
    "def extract_column_set(df, column):\n",
    "    \"\"\"Extract non-empty, standardized (sorted) protein pairs from a column as a set.\"\"\"\n",
    "    raw_values = df[column].dropna().unique()\n",
    "    raw_values = [x for x in raw_values if x != '']\n",
    "\n",
    "    standardized_set = set()\n",
    "    for val in raw_values:\n",
    "        proteins = val.split(\":\")\n",
    "        if len(proteins) == 2:\n",
    "            standardized_set.add(\":\".join(sorted(proteins)))\n",
    "        else:\n",
    "            # Handle malformed cases like missing \":\"\n",
    "            standardized_set.add(val)\n",
    "\n",
    "    return standardized_set\n",
    "\n",
    "\n",
    "def get_intersection_long_dataframe(A1_df, B1_df, D1_df, output_file):\n",
    "    \"\"\"\n",
    "    Combine Heterodimer types within each sample, then compute intersections across A1, B1, and D1.\n",
    "    Output:\n",
    "      - long-format DataFrame with 'type' and 'protein_pair'\n",
    "      - A1_heterodimer set\n",
    "      - B1_heterodimer set\n",
    "      - D1_heterodimer set\n",
    "    \"\"\"\n",
    "    intersection_list = []\n",
    "\n",
    "    # Step 1: Get Heterodimer sets per sample (Bidirectional + Unidirectional)\n",
    "    A1_heterodimer = extract_column_set(A1_df, 'Bidirectional_Heterodimer') | extract_column_set(A1_df, 'Unidirectional_Heterodimer')\n",
    "    B1_heterodimer = extract_column_set(B1_df, 'Bidirectional_Heterodimer') | extract_column_set(B1_df, 'Unidirectional_Heterodimer')\n",
    "    D1_heterodimer = extract_column_set(D1_df, 'Bidirectional_Heterodimer') | extract_column_set(D1_df, 'Unidirectional_Heterodimer')\n",
    "\n",
    "    heterodimer_intersection = sorted(A1_heterodimer & B1_heterodimer & D1_heterodimer)\n",
    "\n",
    "    for pair in heterodimer_intersection:\n",
    "        intersection_list.append({'type': 'Heterodimer', 'protein_pair': pair})\n",
    "\n",
    "    # Step 2: Homodimer intersection\n",
    "    A1_homodimer = extract_column_set(A1_df, 'Homodimer')\n",
    "    B1_homodimer = extract_column_set(B1_df, 'Homodimer')\n",
    "    D1_homodimer = extract_column_set(D1_df, 'Homodimer')\n",
    "\n",
    "    homodimer_intersection = sorted(A1_homodimer & B1_homodimer & D1_homodimer)\n",
    "\n",
    "    for pair in homodimer_intersection:\n",
    "        intersection_list.append({'type': 'Homodimer', 'protein_pair': pair})\n",
    "\n",
    "    # Step 3: Output as DataFrame\n",
    "    df_long = pd.DataFrame(intersection_list)\n",
    "    df_long.to_csv(output_file, index=False)\n",
    "    print(f\"Intersection saved to {output_file}\")\n",
    "\n",
    "    return (\n",
    "    df_long,\n",
    "    A1_heterodimer, B1_heterodimer, D1_heterodimer,\n",
    "    A1_homodimer,   B1_homodimer,   D1_homodimer,\n",
    "    set(homodimer_intersection)\n",
    ")"
   ]
  },
  {
   "cell_type": "code",
   "execution_count": 7,
   "id": "f00c8520-0a7a-4a5e-8bfc-584491c27b1e",
   "metadata": {
    "tags": []
   },
   "outputs": [
    {
     "name": "stdout",
     "output_type": "stream",
     "text": [
      "Intersection saved to A1_B1_D1_pla_pair_pass_fisher_test_0.15_B_cell_cluster.csv\n"
     ]
    }
   ],
   "source": [
    "(intersection_df,\n",
    " A1_heterodimer, B1_heterodimer, D1_heterodimer,\n",
    " A1_homodimer,   B1_homodimer,   D1_homodimer,\n",
    " homo_intersection) = get_intersection_long_dataframe( \n",
    "    A1_pla_pair_classification, B1_pla_pair_classification, D1_pla_pair_classification, \"A1_B1_D1_pla_pair_pass_fisher_test_0.15_B_cell_cluster.csv\")\n"
   ]
  },
  {
   "cell_type": "code",
   "execution_count": 8,
   "id": "4cd3b3af-faa0-4dc9-959c-98c95069ceb7",
   "metadata": {
    "tags": []
   },
   "outputs": [],
   "source": [
    "import matplotlib.pyplot as plt\n",
    "from matplotlib.patches import Circle\n",
    "\n",
    "def plot_equal_venn_from_sets(A, B, D, labels=('Sample A1', 'Sample B1', 'Sample D1'),\n",
    "                              colors=('#2F5597', '#9C0006', '#548235'),\n",
    "                             save_path=None, dpi=300, title=\"Protein Pair Intersection\"):\n",
    "    \"\"\"\n",
    "    Plot a Venn diagram with three equal-sized circles using set data.\n",
    "    Automatically computes the numbers for each region.\n",
    "    \"\"\"\n",
    "    # Calculate counts for each region\n",
    "    counts = {\n",
    "        '100': len(A - B - D),\n",
    "        '010': len(B - A - D),\n",
    "        '001': len(D - A - B),\n",
    "        '110': len((A & B) - D),\n",
    "        '101': len((A & D) - B),\n",
    "        '011': len((B & D) - A),\n",
    "        '111': len(A & B & D)\n",
    "    }\n",
    "\n",
    "    fig, ax = plt.subplots(figsize=(4, 4))\n",
    "    circle_positions = [(0, 0), (1, 0), (0.5, 0.8)]\n",
    "    radius = 1.0\n",
    "\n",
    "    # Draw the circles\n",
    "    for pos, color in zip(circle_positions, colors):\n",
    "        ax.add_patch(Circle(pos, radius, alpha=0.5, color=color))\n",
    "\n",
    "    # Place the counts\n",
    "    ax.text(-0.5, 0, counts['100'], ha='center', va='center', fontsize=12)\n",
    "    ax.text(1.5, 0, counts['010'], ha='center', va='center', fontsize=12)\n",
    "    ax.text(0.5, 1.6, counts['001'], ha='center', va='center', fontsize=12)\n",
    "    ax.text(0.25, 0, counts['110'], ha='center', va='center', fontsize=12)\n",
    "    ax.text(0, 0.8, counts['101'], ha='center', va='center', fontsize=12)\n",
    "    ax.text(1, 0.8, counts['011'], ha='center', va='center', fontsize=12)\n",
    "    ax.text(0.5, 0.4, counts['111'], ha='center', va='center', fontsize=12, fontweight='bold')\n",
    "\n",
    "    # Labels\n",
    "    ax.text(-0.7, -1.1, labels[0], fontsize=12, color=colors[0])\n",
    "    ax.text(1.7, -1.1, labels[1], fontsize=12, color=colors[1])\n",
    "    ax.text(0.5, 2.0, labels[2], fontsize=12, color=colors[2])\n",
    "\n",
    "    ax.set_xlim(-1.5, 2.5)\n",
    "    ax.set_ylim(-1.5, 2.5)\n",
    "    ax.set_aspect('equal')\n",
    "    ax.axis('off')\n",
    "    plt.title(title)\n",
    "    if save_path:\n",
    "        plt.savefig(save_path, dpi=dpi, bbox_inches='tight')\n",
    "        print(f\"Venn diagram saved to {save_path}\")\n",
    "    plt.show()\n",
    "     # Save the figure if save_path is specified\n",
    "# Example usage:\n",
    "# plot_equal_venn_from_sets(A1_set, B1_set, D1_set)\n"
   ]
  },
  {
   "cell_type": "code",
   "execution_count": 9,
   "id": "3ea409e2-4af9-4abd-90cf-838524fd8d0f",
   "metadata": {
    "tags": []
   },
   "outputs": [
    {
     "name": "stdout",
     "output_type": "stream",
     "text": [
      "Venn diagram saved to Figures/Fig-4d.svg\n"
     ]
    },
    {
     "data": {
      "image/png": "[encoded data removed]",
      "text/plain": [
       "<Figure size 400x400 with 1 Axes>"
      ]
     },
     "metadata": {},
     "output_type": "display_data"
    }
   ],
   "source": [
    "plot_equal_venn_from_sets(A1_heterodimer, B1_heterodimer, D1_heterodimer,\n",
    "                          labels=('Sample A1', 'Sample B1', 'Sample D1'), save_path = 'Figures/Fig-4d.svg', title = None)\n"
   ]
  },
  {
   "cell_type": "code",
   "execution_count": 10,
   "id": "86db6e06-3db7-4f13-8c9a-5db7ae1db7d5",
   "metadata": {
    "tags": []
   },
   "outputs": [
    {
     "name": "stdout",
     "output_type": "stream",
     "text": [
      "Venn diagram saved to Figures/Extended-Fig-11d.svg\n"
     ]
    },
    {
     "data": {
      "image/png": "[encoded data removed]",
      "text/plain": [
       "<Figure size 400x400 with 1 Axes>"
      ]
     },
     "metadata": {},
     "output_type": "display_data"
    }
   ],
   "source": [
    "plot_equal_venn_from_sets(\n",
    "    A1_homodimer,\n",
    "    B1_homodimer,\n",
    "    D1_homodimer,\n",
    "    labels=('Sample A1', 'Sample B1', 'Sample D1'),save_path = 'Figures/Extended-Fig-11d.svg',\n",
    "    title=None\n",
    ")\n"
   ]
  },
  {
   "cell_type": "code",
   "execution_count": null,
   "id": "ff736bc5-778c-45b3-be26-2eef20bc1de8",
   "metadata": {},
   "outputs": [],
   "source": []
  }
 ],
 "metadata": {
  "kernelspec": {
   "display_name": "scanpy-Proxseq",
   "language": "python",
   "name": "python3"
  },
  "language_info": {
   "codemirror_mode": {
    "name": "ipython",
    "version": 3
   },
   "file_extension": ".py",
   "mimetype": "text/x-python",
   "name": "python",
   "nbconvert_exporter": "python",
   "pygments_lexer": "ipython3",
   "version": "3.10.11"
  }
 },
 "nbformat": 4,
 "nbformat_minor": 5
}
