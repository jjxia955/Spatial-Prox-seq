{
 "cells": [
  {
   "cell_type": "code",
   "execution_count": null,
   "id": "2d8766c2-16cc-41da-91a9-484ff0469f3a",
   "metadata": {
    "tags": []
   },
   "outputs": [],
   "source": [
    "# Import libraries\n",
    "import numpy as np\n",
    "import math\n",
    "import random\n",
    "import pandas as pd\n",
    "import scipy.stats as stats\n",
    "from statsmodels.stats.multitest import multipletests\n",
    "import statsmodels.api as sm # linear regression\n",
    "import seaborn as sns\n",
    "import matplotlib as mpl\n",
    "import matplotlib.pyplot as plt\n",
    "import matplotlib.image as mpimg\n",
    "import scanpy as sc\n",
    "import os\n",
    "import SpatialproxseqClasses as SPC\n",
    "\n",
    "#*****\n",
    "mpl.rcdefaults()\n",
    "# Set font to be arial\n",
    "mpl.rc('font', **{'sans-serif':'Arial', 'size':12})\n",
    "mpl.rcParams['mathtext.rm'] = 'sans' \n",
    "mpl.rcParams['axes.titlesize'] = 12\n",
    "# Set default tick size\n",
    "mpl.rcParams['xtick.major.size'] = 5.5\n",
    "mpl.rcParams['ytick.major.size'] = 5.5\n",
    "mpl.rcParams['xtick.minor.size'] = 2.5\n",
    "mpl.rcParams['ytick.minor.size'] = 2.5\n",
    "# Default legend settings\n",
    "mpl.rcParams['legend.fancybox'] = False\n",
    "mpl.rcParams['legend.edgecolor'] = 'k'\n",
    "\n",
    "#to store text as text, not as path\n",
    "new_rc_params = {'text.usetex': False,\n",
    "                 \"svg.fonttype\": 'none'}\n",
    "mpl.rcParams.update(new_rc_params)\n",
    "#*****\n",
    "# Seed number\n",
    "np.random.seed(2025)\n",
    "random.seed(2025)"
   ]
  },
  {
   "cell_type": "code",
   "execution_count": null,
   "id": "5d7466b7-2c23-4723-bfe5-640f9630b7a9",
   "metadata": {
    "tags": []
   },
   "outputs": [],
   "source": [
    "#for spatial_RNA data load, just apply sc.read_visium \n",
    "#read_visium data \n",
    "adata = sc.read_visium('A1_outs')\n",
    "adata.var_names_make_unique()\n",
    "adata.obs['mRNA']= 'RNA'\n",
    "#mitochodria gene\n",
    "adata.var[\"mt\"] = adata.var_names.str.startswith(\"MT-\")\n",
    "sc.pp.calculate_qc_metrics(adata, qc_vars=[\"mt\"], inplace=True)\n",
    "sc.set_figure_params(figsize=(4, 4))\n"
   ]
  },
  {
   "cell_type": "code",
   "execution_count": null,
   "id": "89f5d7f6-6505-437c-ab86-61080c216e6b",
   "metadata": {
    "tags": []
   },
   "outputs": [],
   "source": [
    "print(adata.shape)"
   ]
  },
  {
   "cell_type": "code",
   "execution_count": null,
   "id": "be987f21-bd31-4f02-9e76-e66d08ebc28c",
   "metadata": {
    "tags": []
   },
   "outputs": [],
   "source": [
    "sc.pl.spatial(adata, color = ['total_counts', 'n_genes_by_counts'], size = 1.5, save = 'Fig-1d.svg')"
   ]
  },
  {
   "cell_type": "code",
   "execution_count": null,
   "id": "0ba86bb2-a121-4e84-9a98-813bc85dfb27",
   "metadata": {
    "tags": []
   },
   "outputs": [],
   "source": [
    "sc.pl.spatial(adata, color=None, spot_size=0, save = 'Fig-1c.svg')"
   ]
  },
  {
   "cell_type": "code",
   "execution_count": null,
   "id": "2b9a4951-e7c3-4103-af90-11bae55df74d",
   "metadata": {
    "tags": []
   },
   "outputs": [],
   "source": [
    "# For RNA data:\n",
    "mean_counts = np.mean(adata.obs['total_counts'])\n",
    "median_counts = np.median(adata.obs['total_counts'])\n",
    "std_counts = np.std(adata.obs['total_counts'])\n",
    "\n",
    "print(f\"Mean: {mean_counts:.1f}, Median: {median_counts:.1f}, Std: {std_counts:.1f}\")\n",
    "\n",
    "# For RNA data:\n",
    "mean_counts = np.mean(adata.obs['n_genes_by_counts'])\n",
    "median_counts = np.median(adata.obs['n_genes_by_counts'])\n",
    "std_counts = np.std(adata.obs['n_genes_by_counts'])\n",
    "\n",
    "print(f\"Mean: {mean_counts:.1f}, Median: {median_counts:.1f}, Std: {std_counts:.1f}\")\n"
   ]
  },
  {
   "cell_type": "code",
   "execution_count": null,
   "id": "cb24dcf1-ff5a-463c-9bb8-ef974d218c5a",
   "metadata": {
    "tags": []
   },
   "outputs": [],
   "source": [
    "#perform UMI based filter\n",
    "sc.pp.filter_cells(adata, min_counts = 1000)\n",
    "sc.pp.filter_genes(adata, min_cells=3)"
   ]
  },
  {
   "cell_type": "code",
   "execution_count": null,
   "id": "b6fe23eb-24a2-45a0-ba06-043aa2fcb339",
   "metadata": {
    "tags": []
   },
   "outputs": [],
   "source": [
    "adata.layers[\"counts\"] = adata.X.copy() # preserve counts\n",
    "sc.pp.normalize_total(adata, target_sum=1e4) # scale each cell to a common library size\n",
    "sc.pp.log1p(adata) # log(expression + 1)\n",
    "adata.raw = adata.copy() # freeze the state in `.raw`\n",
    "adata.write(\"adata_A1_rna_raw_data.h5ad\")"
   ]
  },
  {
   "cell_type": "code",
   "execution_count": null,
   "id": "29f9b201-c675-4ef6-854a-6703e4f4f8e5",
   "metadata": {
    "tags": []
   },
   "outputs": [],
   "source": [
    "sc.pp.highly_variable_genes(\n",
    "    adata,\n",
    "    n_top_genes=4000,\n",
    "    layer=\"counts\",\n",
    "    flavor=\"seurat_v3\"\n",
    ")"
   ]
  },
  {
   "cell_type": "code",
   "execution_count": null,
   "id": "4f9a3e3f-292d-4fba-bfd3-2018e82ac991",
   "metadata": {
    "tags": []
   },
   "outputs": [],
   "source": [
    "sc.pl.highly_variable_genes(adata, log=True)\n",
    "# subset to highly variable genes\n",
    "adata = adata[:, adata.var.highly_variable].copy()\n",
    "sc.pp.scale(adata, max_value=10) #normalize genes\n",
    "sc.tl.pca(adata, svd_solver='arpack')\n",
    "sc.pl.pca_variance_ratio(adata, log=True)"
   ]
  },
  {
   "cell_type": "code",
   "execution_count": null,
   "id": "b9d1149f-b8cf-46c3-96ca-26021b64dded",
   "metadata": {
    "tags": []
   },
   "outputs": [],
   "source": [
    "sc.pp.neighbors(adata, n_neighbors=15, n_pcs=20) \n",
    "sc.tl.umap(adata)"
   ]
  },
  {
   "cell_type": "code",
   "execution_count": null,
   "id": "8384200f-1af3-4f6f-b045-78bbd31f9684",
   "metadata": {
    "tags": []
   },
   "outputs": [],
   "source": [
    "sc.tl.leiden(adata, resolution = 0.5, key_added='leiden_mrna')\n",
    "sc.pl.spatial(adata, color = ['leiden_mrna'],)"
   ]
  },
  {
   "cell_type": "code",
   "execution_count": null,
   "id": "3567d6f3-d314-4ae9-8adf-569e18dc1c07",
   "metadata": {
    "tags": []
   },
   "outputs": [],
   "source": [
    "sc.pl.umap(adata, color = ['leiden_mrna'], )"
   ]
  },
  {
   "cell_type": "code",
   "execution_count": null,
   "id": "758a977a-78f7-483c-adab-fcc654ec555f",
   "metadata": {
    "tags": []
   },
   "outputs": [],
   "source": [
    "# Step 1: Subset GC cluster (2 and 3)\n",
    "adata_gc = adata[adata.obs[\"leiden_mrna\"] .isin([\"2\", \"3\"])].copy()\n",
    "\n",
    "# Step 2: Re-cluster\n",
    "# restore raw counts\n",
    "adata_gc.X = adata_gc.layers[\"counts\"].copy()\n",
    "\n",
    "# store raw counts for dotplot etc.\n",
    "adata_gc.raw = adata_gc.copy()\n",
    "\n",
    "# normalization and clustering\n",
    "sc.pp.normalize_total(adata_gc, target_sum=1e4)\n",
    "sc.pp.log1p(adata_gc)\n",
    "sc.pp.highly_variable_genes(adata_gc, n_top_genes=4000)\n",
    "adata_gc = adata_gc[:, adata_gc.var[\"highly_variable\"]].copy()\n",
    "sc.pp.scale(adata_gc)\n",
    "sc.tl.pca(adata_gc)\n",
    "sc.pp.neighbors(adata_gc)\n",
    "sc.tl.umap(adata_gc)\n",
    "sc.tl.leiden(adata_gc, resolution=0.2)"
   ]
  },
  {
   "cell_type": "code",
   "execution_count": null,
   "id": "40c22630-7242-43f9-b4ee-37f6c55b8aa1",
   "metadata": {
    "tags": []
   },
   "outputs": [],
   "source": [
    "sc.pl.umap(adata_gc, color = ['leiden'])"
   ]
  },
  {
   "cell_type": "code",
   "execution_count": null,
   "id": "6262d8e7-cb64-4b65-a9bd-5e1baed31a9f",
   "metadata": {
    "tags": []
   },
   "outputs": [],
   "source": [
    "# Step 3: assign back the refined cluster labels to original data\n",
    "adata.obs.loc[adata.obs[\"leiden_mrna\"].isin([\"2\", \"3\"]), \"lz_dz_subtype\"] = adata_gc.obs[\"leiden\"].values\n"
   ]
  },
  {
   "cell_type": "code",
   "execution_count": null,
   "id": "6447c729-0707-4ebc-a988-88bea70a8616",
   "metadata": {
    "tags": []
   },
   "outputs": [],
   "source": [
    "mask = adata.obs[\"leiden_mrna\"].isin([\"2\", \"3\"])\n",
    "adata.obs.loc[mask & (adata.obs[\"lz_dz_subtype\"] == \"0\"), \"leiden_mrna\"] = \"2\"\n",
    "adata.obs.loc[mask & (adata.obs[\"lz_dz_subtype\"] == \"1\"), \"leiden_mrna\"] = \"3\"\n"
   ]
  },
  {
   "cell_type": "code",
   "execution_count": null,
   "id": "bc46b2b2-2ef1-42f4-aad9-3805f46eb0d5",
   "metadata": {
    "tags": []
   },
   "outputs": [],
   "source": [
    "sc.pl.umap(adata, color = ['leiden_mrna'], save = 'Fig-1g-1.svg')"
   ]
  },
  {
   "cell_type": "code",
   "execution_count": null,
   "id": "7b0c4391-fb31-48aa-aab2-b3f5214eb10d",
   "metadata": {
    "tags": []
   },
   "outputs": [],
   "source": [
    "sc.pl.spatial(adata, color = ['leiden_mrna'], save = 'Fig-1g-2.svg')"
   ]
  },
  {
   "cell_type": "code",
   "execution_count": null,
   "id": "b75c175b-c694-4dd8-9b8f-5d20b19a032e",
   "metadata": {
    "tags": []
   },
   "outputs": [],
   "source": [
    "cluster_mapping_mrna = {\n",
    "    '0': 'Epithelial-crypt',\n",
    "    '1': 'T:B border',\n",
    "    '2': 'Light zone',\n",
    "    '3': 'Dark zone',\n",
    "    '4': 'Non-GC follicles',\n",
    "    '5': 'Epithelial-basal cells',\n",
    "    '6': 'Non-GC follicles', \n",
    "    '7': 'Mantle zone',\n",
    "    '8': 'T cell zone',\n",
    "}\n",
    "# Create a new column with the combined cluster name\n",
    "adata.obs['mrna_annotation'] = adata.obs['leiden_mrna'].map(cluster_mapping_mrna).fillna(adata.obs['leiden_mrna'])"
   ]
  },
  {
   "cell_type": "code",
   "execution_count": null,
   "id": "fa32c52a-a234-4f0f-b165-82688af371f0",
   "metadata": {},
   "outputs": [],
   "source": [
    "sc.pl.spatial(adata, color = ['mrna_annotation'],save = 'Fig-1g-3.svg' )\n"
   ]
  },
  {
   "cell_type": "code",
   "execution_count": null,
   "id": "4701064e-3d76-44b8-8eeb-a9376232f195",
   "metadata": {
    "tags": []
   },
   "outputs": [],
   "source": [
    "sc.tl.rank_genes_groups(adata, groupby='mrna_annotation', method='wilcoxon')\n",
    "sc.pl.rank_genes_groups(adata, groupby='mrna_annotation', method='wilcoxon')"
   ]
  },
  {
   "cell_type": "code",
   "execution_count": null,
   "id": "e96ffa90-caa1-4b94-b479-a37886b20588",
   "metadata": {
    "tags": []
   },
   "outputs": [],
   "source": [
    "sc.tl.dendrogram(adata, groupby='mrna_annotation', key_added='dendrogram_annotation')"
   ]
  },
  {
   "cell_type": "code",
   "execution_count": null,
   "id": "807b1d36-d499-4731-8d0d-18ca5de70f5f",
   "metadata": {
    "tags": []
   },
   "outputs": [],
   "source": [
    "sc.pl.rank_genes_groups_heatmap(adata, n_genes=5, groupby='mrna_annotation', swap_axes=True, use_raw=True, \n",
    "                                cmap='bwr', figsize=(10, 9))"
   ]
  },
  {
   "cell_type": "code",
   "execution_count": null,
   "id": "bf230f8b-a7a1-4da6-bba6-af43e0a4448b",
   "metadata": {
    "tags": []
   },
   "outputs": [],
   "source": [
    "sc.pl.umap(adata, color = ['S100A8', 'KRT5', 'SFN', 'S100A2', 'KRT14', 'SPINK5', 'S100A14', 'KRT6A', 'S100A16', 'KRT13', 'mrna_annotation' ],use_raw = True, color_map='coolwarm', ) #basal cells"
   ]
  },
  {
   "cell_type": "code",
   "execution_count": null,
   "id": "ef50f55e-1b44-4d02-98ac-4714eb973ee8",
   "metadata": {
    "tags": []
   },
   "outputs": [],
   "source": [
    "sc.pl.dotplot(adata, ['S100A8', 'KRT5', 'SFN', 'S100A2', 'KRT14', 'SPINK5', 'S100A14', 'KRT6A', 'S100A16', 'KRT13',],use_raw = True, groupby=\"mrna_annotation\") #basal"
   ]
  },
  {
   "cell_type": "code",
   "execution_count": null,
   "id": "3b394617-9cfd-46c2-89a3-cbb85e16ec82",
   "metadata": {
    "tags": []
   },
   "outputs": [],
   "source": [
    "sc.pl.umap(adata, color = ['ARHGEF16', 'ERRFI1', 'KAZN', 'EPHA2',   'ARHGEF10L', 'PLA2G2F', 'CAMK2N1', 'mrna_annotation'], vmin  = 0, vmax = 1.1, color_map='coolwarm', ) #Surface epithelium"
   ]
  },
  {
   "cell_type": "code",
   "execution_count": null,
   "id": "f1e7d878-b23c-4256-90b6-248635272130",
   "metadata": {
    "tags": []
   },
   "outputs": [],
   "source": [
    "sc.pl.dotplot(adata, ['ARHGEF16', 'ERRFI1', 'KAZN', 'EPHA2',   'ARHGEF10L', 'PLA2G2F', 'CAMK2N1',], groupby=\"mrna_annotation\") #Surface epithelium"
   ]
  },
  {
   "cell_type": "code",
   "execution_count": null,
   "id": "f38f9779-e4b2-4a81-b21c-079f4a545ee9",
   "metadata": {
    "tags": []
   },
   "outputs": [],
   "source": [
    "sc.pl.umap(adata, color = ['CD3D', 'CD3E', 'CD3G', 'CD2', 'IL7R', 'TCF7', 'CCR7', 'LEF1', 'NOSIP', 'GIMAP7', 'mrna_annotation' ], use_raw = True, color_map='coolwarm', ) #CD4 naive"
   ]
  },
  {
   "cell_type": "code",
   "execution_count": null,
   "id": "04f4d689-e8ab-4fcd-921d-8ab9aa497d34",
   "metadata": {
    "tags": []
   },
   "outputs": [],
   "source": [
    "sc.pl.dotplot(adata, ['CD3D', 'CD3E', 'CD4', 'CD3G', 'CD2', 'IL7R', 'TCF7', 'CCR7', 'LEF1', 'NOSIP', 'GIMAP7',], use_raw = True, groupby=\"mrna_annotation\") #CD4 naive"
   ]
  },
  {
   "cell_type": "code",
   "execution_count": null,
   "id": "5077d9b6-afc2-468c-9122-3ddd76e5b4e1",
   "metadata": {
    "tags": []
   },
   "outputs": [],
   "source": [
    "sc.pl.umap(adata, color = ['CD83', 'FCER2', 'NME1', 'PHACTR1', 'SYNGR2', 'CCND2', 'DDX21', 'CD72', 'PARP14', 'MIR155HG', 'mrna_annotation' ], color_map='coolwarm', ) #GC-commited NBC"
   ]
  },
  {
   "cell_type": "code",
   "execution_count": null,
   "id": "2729655a-75fd-416a-835a-27f24c8aa7ab",
   "metadata": {
    "tags": []
   },
   "outputs": [],
   "source": [
    "sc.pl.dotplot(adata, ['CD83', 'FCER2', 'NME1', 'PHACTR1', 'SYNGR2', 'CCND2', 'DDX21', 'CD72', 'PARP14', 'MIR155HG',], swap_axes=True, groupby=\"mrna_annotation\") #GC-commited NBC"
   ]
  },
  {
   "cell_type": "code",
   "execution_count": null,
   "id": "5bd38cca-4b1b-4f27-bfa4-c68125488b6b",
   "metadata": {
    "tags": []
   },
   "outputs": [],
   "source": [
    "sc.pl.dotplot(adata, ['EGR3', 'CD83', 'PHACTR1', 'CD69', 'IGHD', 'FCER2', 'CD72', 'NFKBID', 'BANK1', 'DUSP2', ], swap_axes=True, groupby=\"mrna_annotation\") #Early GC-commited NBC"
   ]
  },
  {
   "cell_type": "code",
   "execution_count": null,
   "id": "bf34edff-4c39-4473-94a7-934b103c5aa9",
   "metadata": {
    "tags": []
   },
   "outputs": [],
   "source": [
    "sc.pl.umap(adata, color = ['FCER2', 'IGHD', 'CD83', 'NFKB2', 'CD72', 'CD69', 'MYC', 'EGR3', 'REL', 'HLA-DQB1', 'mrna_annotation' ], color_map='coolwarm', ) #B active marker"
   ]
  },
  {
   "cell_type": "code",
   "execution_count": null,
   "id": "99e8cb22-e6a4-4de3-8004-0ee6062fdba4",
   "metadata": {
    "tags": []
   },
   "outputs": [],
   "source": [
    "sc.pl.dotplot(adata, ['FCER2', 'IGHD', 'CD83', 'NFKB2', 'CD72', 'CD69', 'MYC', 'EGR3', 'REL', 'HLA-DQB1','CD27'], swap_axes=True, groupby=\"mrna_annotation\") #B active marker"
   ]
  },
  {
   "cell_type": "code",
   "execution_count": null,
   "id": "e7c7febb-8ff5-4614-b96d-368522789ebd",
   "metadata": {
    "tags": []
   },
   "outputs": [],
   "source": [
    "sc.pl.umap(adata, color = ['IGHD', 'IGHM', 'TCL1A', 'BANK1', 'FCER2', 'HLA-DQB1', 'LINC02397', 'CD72', 'HLA-DQA1', 'HVCN1', 'mrna_annotation' ], color_map='coolwarm', ) #NBC"
   ]
  },
  {
   "cell_type": "code",
   "execution_count": null,
   "id": "9aaa2ff0-71cd-41a3-9160-7505ed1641e8",
   "metadata": {
    "tags": []
   },
   "outputs": [],
   "source": [
    "sc.pl.dotplot(adata, ['IGHD', 'IGHM', 'TCL1A', 'BANK1', 'FCER2', 'HLA-DQB1', 'LINC02397', 'CD72', 'HLA-DQA1', 'HVCN1',],swap_axes=True, groupby=\"mrna_annotation\") #Naive B cell"
   ]
  },
  {
   "cell_type": "code",
   "execution_count": null,
   "id": "b1d5ce95-3139-45bb-9b2b-6003890ea44f",
   "metadata": {
    "tags": []
   },
   "outputs": [],
   "source": [
    "sc.pl.umap(adata, color = ['CD83','LMO2','BCL2A1','mrna_annotation'],  color_map='coolwarm', ) # light zone marker"
   ]
  },
  {
   "cell_type": "code",
   "execution_count": null,
   "id": "ff3e5644-911d-439e-a499-d12d36acc753",
   "metadata": {
    "tags": []
   },
   "outputs": [],
   "source": [
    "sc.pl.dotplot(adata,['CD83','LMO2','BCL2A1',],  groupby=\"mrna_annotation\") # light zone marker"
   ]
  },
  {
   "cell_type": "code",
   "execution_count": null,
   "id": "62ccdb79-5edc-4e23-8fbb-b7f7b3d2b906",
   "metadata": {
    "tags": []
   },
   "outputs": [],
   "source": [
    "sc.pl.umap(adata, color = ['CXCR4','AICDA','MME','FOXP1','mrna_annotation'], color_map='coolwarm', ) #dark zone marker"
   ]
  },
  {
   "cell_type": "code",
   "execution_count": null,
   "id": "29b266b4-933b-414d-ae12-abe3198504cb",
   "metadata": {
    "tags": []
   },
   "outputs": [],
   "source": [
    "sc.pl.dotplot(adata,['CXCR4','AICDA','MME','FOXP1',],  groupby=\"mrna_annotation\") # dark zone marker"
   ]
  },
  {
   "cell_type": "code",
   "execution_count": null,
   "id": "bd4010ac-5665-4c73-9022-c0413775f255",
   "metadata": {
    "tags": []
   },
   "outputs": [],
   "source": [
    "cluster_df = pd.DataFrame({\n",
    "    'cell_index': adata.obs.index,\n",
    "    'leiden_mrna':adata.obs['leiden_mrna'],\n",
    "    'mrna_annotation': adata.obs['mrna_annotation'],\n",
    "})\n",
    "cluster_df.to_csv('A1_adata_mRNA_cell_clusters.csv', index=False)"
   ]
  },
  {
   "cell_type": "code",
   "execution_count": null,
   "id": "07659f06-2eee-410b-86b0-6ef514d5831a",
   "metadata": {
    "tags": []
   },
   "outputs": [],
   "source": [
    "sc.tl.rank_genes_groups(adata, groupby='mrna_annotation', method='wilcoxon')\n",
    "sc.pl.rank_genes_groups(adata, groupby='mrna_annotation', method='wilcoxon')"
   ]
  },
  {
   "cell_type": "code",
   "execution_count": null,
   "id": "ed427189-d562-46b8-be9e-fd963bb96ba1",
   "metadata": {
    "tags": []
   },
   "outputs": [],
   "source": [
    "custom_gene_names = [\n",
    "    'CR1', 'VCAM1', 'IGHM', 'IGHG1', 'CD86', 'PDCD1LG2', 'CR2', 'FCER2', 'IGHD',\n",
    "    'MS4A1', 'CD19', 'CD40', 'ITGA4', 'ITGB1', 'CD81', 'CD38', 'CD8A', 'CD3E', \n",
    "    'CD4', 'CD27', 'PDCD1', 'CD28', 'FCGR2A', 'CD9', 'BSG', 'ICAM1', 'ITGAL', 'CD24'\n",
    "]\n"
   ]
  },
  {
   "cell_type": "code",
   "execution_count": null,
   "id": "94e5932e-50fb-4b53-9d6d-6a503028e21b",
   "metadata": {
    "tags": []
   },
   "outputs": [],
   "source": [
    "sc.pl.heatmap(\n",
    "    adata,\n",
    "    var_names=custom_gene_names,\n",
    "    groupby='mrna_annotation',\n",
    "    swap_axes=True,\n",
    "    cmap='bwr',\n",
    "    use_raw=True,\n",
    "    vmin=-5,\n",
    "    vmax=5,\n",
    "    figsize=(10, 8)\n",
    ")"
   ]
  },
  {
   "cell_type": "code",
   "execution_count": null,
   "id": "9b7c3335-9b20-46d9-8327-dad58ffe8769",
   "metadata": {
    "tags": []
   },
   "outputs": [],
   "source": [
    "#read PLA data and transform the data\n",
    "data = pd.read_csv('A1-PLA_count_matrix.txt.gz', sep=\"\\t\",index_col=0)"
   ]
  },
  {
   "cell_type": "code",
   "execution_count": null,
   "id": "214f1917-4de3-46ec-bb6b-70ae36d0d2cc",
   "metadata": {
    "tags": []
   },
   "outputs": [],
   "source": [
    "# Update row names (index)\n",
    "data.index = data.index.str.replace(r\"^VCAM1_B:(.*)$\", r\"CD40_A:\\1\", regex=True)\n",
    "data.index = data.index.str.replace(r\"^CD29_B:(.*)$\", r\"CD279_A:\\1\", regex=True)\n",
    "data.index = data.index.str.replace(r\"^LFA1_B:(.*)$\", r\"CD11a_A:\\1\", regex=True)"
   ]
  },
  {
   "cell_type": "code",
   "execution_count": null,
   "id": "ee4f61cd-883b-4301-b9e1-4bfdc0112827",
   "metadata": {
    "tags": []
   },
   "outputs": [],
   "source": [
    "valid_condition = ~data.index.str.contains(r'((:.*_A)|(_B:))', regex=True)\n",
    "\n",
    "# Apply the filter to the dataframe\n",
    "pla = data[valid_condition]\n",
    "\n",
    "#remover suffix \n",
    "pla.index = pla.index.str.replace(r'(_A|_B)', '', regex=True)"
   ]
  },
  {
   "cell_type": "code",
   "execution_count": null,
   "id": "6c06dacd-e131-449e-a2ec-ee63df141270",
   "metadata": {
    "tags": []
   },
   "outputs": [],
   "source": [
    "# #exclude HLADPRQ\n",
    "pla = pla.loc[~pla.index.str.contains('HLADPRQ'),:]"
   ]
  },
  {
   "cell_type": "code",
   "execution_count": null,
   "id": "a2f11685-db35-4e18-a575-1430636b8bfb",
   "metadata": {
    "tags": []
   },
   "outputs": [],
   "source": [
    "pla_obj = SPC.sproxseqObject(pla)\n",
    "pla_obj.compute_protein_pair_counts()\n",
    "pla_obj.compute_protein_abundance()\n"
   ]
  },
  {
   "cell_type": "code",
   "execution_count": null,
   "id": "278584da-d981-4d7d-8b28-98e5dc765a2f",
   "metadata": {
    "tags": []
   },
   "outputs": [],
   "source": [
    "#read tissue barcode \n",
    "tissue_barcode = pd.read_csv('A1_outs/spatial/tissue_positions.csv')\n",
    "tissue_barcode = tissue_barcode.set_index('barcode')\n",
    "#keep only PLA spot barcode \n",
    "tissue_barcode = tissue_barcode.loc[pla.transpose().index,:]"
   ]
  },
  {
   "cell_type": "code",
   "execution_count": null,
   "id": "ea06a2b3-5c85-4176-a054-08a7eca73df8",
   "metadata": {
    "tags": []
   },
   "outputs": [],
   "source": [
    "#construct pla anndata object\n",
    "adata_pla = sc.AnnData(pla.transpose().to_numpy(), obsm={'spatial': tissue_barcode[['pxl_col_in_fullres','pxl_row_in_fullres']].to_numpy()}, obs=tissue_barcode[['in_tissue','array_row','array_col']])\n",
    "adata_protein = sc.AnnData(pla_obj.protein_count.transpose().to_numpy(), obsm={'spatial': tissue_barcode[['pxl_col_in_fullres','pxl_row_in_fullres']].to_numpy()}, obs=tissue_barcode[['in_tissue','array_row','array_col']])\n",
    "adata_protein_pair = sc.AnnData(pla_obj.protein_pair_count.transpose().to_numpy(), obsm={'spatial': tissue_barcode[['pxl_col_in_fullres','pxl_row_in_fullres']].to_numpy()}, obs=tissue_barcode[['in_tissue','array_row','array_col']])\n"
   ]
  },
  {
   "cell_type": "code",
   "execution_count": null,
   "id": "34352750-3de3-4126-8c82-3128868fb467",
   "metadata": {
    "tags": []
   },
   "outputs": [],
   "source": [
    "#rename var name\n",
    "adata_pla.var.index = pla.index\n",
    "adata_protein.var.index = pla_obj.protein_count.index\n",
    "adata_protein_pair.var.index = pla_obj.protein_pair_count.index\n"
   ]
  },
  {
   "cell_type": "code",
   "execution_count": null,
   "id": "e2674646-508f-481b-a2d7-2b6123d63051",
   "metadata": {
    "tags": []
   },
   "outputs": [],
   "source": [
    "#read image \n",
    "image = mpimg.imread('A1_outs/spatial/tissue_hires_image.png')\n",
    "def set_uns_parameters(adata, library_id, image):\n",
    "    spatial_key = \"spatial\"\n",
    "    adata.uns[spatial_key] = {library_id: {\"images\": {\"hires\": image},\n",
    "                                           \"scalefactors\": {'tissue_hires_scalef': 0.5177323,\n",
    "                                                            'tissue_lowres_scalef': 0.1553197,\n",
    "                                                            'fiducial_diameter_fullres': 45.467644,\n",
    "                                                            'spot_diameter_fullres': 28.146637}}}\n",
    "\n",
    "# Assuming adata_rna, adata_protein, and adata_protein_pair are your AnnData objects\n",
    "library_id = \"A1_Human_tonsil_Proxseq\"\n",
    "image = image  # Replace with your actual image variable\n",
    "\n",
    "set_uns_parameters(adata_pla, library_id, image)\n",
    "set_uns_parameters(adata_protein, library_id, image)\n",
    "set_uns_parameters(adata_protein_pair, library_id, image)\n"
   ]
  },
  {
   "cell_type": "code",
   "execution_count": null,
   "id": "394ab89b-f3f7-43c1-9d67-b8dbef58abaf",
   "metadata": {
    "tags": []
   },
   "outputs": [],
   "source": [
    "#plot it and you can get similar result as RNA \n",
    "adata_protein_pair.obs['PLA'] = 'PLA'\n",
    "#sc.pl.spatial(adata_protein_pair, color = 'PLA')\n",
    "adata_protein_pair.var['IgG'] = adata_protein_pair.var_names.str.contains('IgG1a')\n",
    "adata_protein_pair.var['feature_types'] = 'protein_pair'\n",
    "sc.pp.calculate_qc_metrics(\n",
    "    adata_protein_pair,\n",
    "    percent_top=(5, 10, 15),\n",
    "    var_type=\"protein_pair\",\n",
    "    qc_vars=(\"IgG\",),\n",
    "    inplace=True,\n",
    ")"
   ]
  },
  {
   "cell_type": "code",
   "execution_count": null,
   "id": "ab86d6d0-b79e-4629-9548-08a38b9b7d47",
   "metadata": {
    "tags": []
   },
   "outputs": [],
   "source": [
    "#keep index both in rna and pla\n",
    "obs_names = adata_protein_pair.obs.index.intersection(adata.obs.index)\n",
    "adata_protein_pair = adata_protein_pair[adata_protein_pair.obs.index.isin(list(obs_names))]\n",
    "adata = adata[adata.obs.index.isin(list(obs_names))]"
   ]
  },
  {
   "cell_type": "code",
   "execution_count": null,
   "id": "10bfd263-2334-4abc-a8ae-8f795e2b745b",
   "metadata": {
    "tags": []
   },
   "outputs": [],
   "source": [
    "sc.pl.spatial(adata_protein_pair, color = ['total_counts','n_protein_pair_by_counts'],  size = 1.5, save = 'Fig-1e.svg')"
   ]
  },
  {
   "cell_type": "code",
   "execution_count": null,
   "id": "18ec57fa-395f-4212-a912-479fe10aa081",
   "metadata": {
    "tags": []
   },
   "outputs": [],
   "source": [
    "# For PLA data:\n",
    "mean_counts = np.mean(adata_protein_pair.obs['total_counts'])\n",
    "median_counts = np.median(adata_protein_pair.obs['total_counts'])\n",
    "std_counts = np.std(adata_protein_pair.obs['total_counts'])\n",
    "\n",
    "print(f\"Mean: {mean_counts:.1f}, Median: {median_counts:.1f}, Std: {std_counts:.1f}\")\n",
    "\n",
    "# For PLA data:\n",
    "mean_counts = np.mean(adata_protein_pair.obs['n_protein_pair_by_counts'])\n",
    "median_counts = np.median(adata_protein_pair.obs['n_protein_pair_by_counts'])\n",
    "std_counts = np.std(adata_protein_pair.obs['n_protein_pair_by_counts'])\n",
    "\n",
    "print(f\"Mean: {mean_counts:.1f}, Median: {median_counts:.1f}, Std: {std_counts:.1f}\")"
   ]
  },
  {
   "cell_type": "code",
   "execution_count": null,
   "id": "2ac0548b-4409-423a-9e20-7d5625108484",
   "metadata": {
    "tags": []
   },
   "outputs": [],
   "source": [
    "#similar preprocess to PLA data\n",
    "adata_protein_pair.layers[\"counts\"] = adata_protein_pair.X.copy() # preserve counts\n",
    "sc.pp.normalize_total(adata_protein_pair, target_sum=1e4) # scale each cell to a common library size\n",
    "sc.pp.log1p(adata_protein_pair) # log(expression + 1)\n",
    "adata_protein_pair.raw = adata_protein_pair.copy() # freeze the state in `.raw`\n",
    "adata_protein_pair.write(\"adata_A1_protein_pair_raw_data.h5ad\")\n",
    "sc.pp.scale(adata_protein_pair, max_value=10)"
   ]
  },
  {
   "cell_type": "code",
   "execution_count": null,
   "id": "6aa21e11-6417-4f8a-98bd-f4356362be9f",
   "metadata": {
    "tags": []
   },
   "outputs": [],
   "source": [
    "sc.tl.pca(adata_protein_pair, svd_solver='arpack')"
   ]
  },
  {
   "cell_type": "code",
   "execution_count": null,
   "id": "aa598af4-a21f-43f9-b0b3-cc036a3e0a3d",
   "metadata": {
    "tags": []
   },
   "outputs": [],
   "source": [
    "sc.pl.pca_variance_ratio(adata_protein_pair, log=True)"
   ]
  },
  {
   "cell_type": "code",
   "execution_count": null,
   "id": "36e6d8a1-efbd-4daa-9f51-db38c685ce10",
   "metadata": {
    "tags": []
   },
   "outputs": [],
   "source": [
    "sc.pp.neighbors(adata_protein_pair, n_neighbors=10, n_pcs=11)\n",
    "sc.tl.umap(adata_protein_pair)"
   ]
  },
  {
   "cell_type": "code",
   "execution_count": null,
   "id": "4664b954-4d94-4a11-bffb-7fb81f8e4994",
   "metadata": {
    "tags": []
   },
   "outputs": [],
   "source": [
    "sc.tl.leiden(adata_protein_pair,key_added='leiden_pla',resolution=0.45)\n",
    "sc.pl.spatial(adata_protein_pair,color='leiden_pla')"
   ]
  },
  {
   "cell_type": "code",
   "execution_count": null,
   "id": "e9a7e3b1-0ad3-47bb-9f6f-a91b45b1da2f",
   "metadata": {},
   "outputs": [],
   "source": [
    "sc.pl.umap(adata_protein_pair, color='leiden_pla', save = 'Fig-1i-1.svg' )"
   ]
  },
  {
   "cell_type": "code",
   "execution_count": null,
   "id": "05260d9c-e75f-4f4d-ac01-9b58d3a5b525",
   "metadata": {},
   "outputs": [],
   "source": [
    "sc.pl.spatial(adata_protein_pair, color='leiden_pla',save = 'Fig-1i-2.svg'  )"
   ]
  },
  {
   "cell_type": "code",
   "execution_count": null,
   "id": "0d762912-5f4b-49be-b5fb-11bfcc0b7700",
   "metadata": {
    "tags": []
   },
   "outputs": [],
   "source": [
    "sc.tl.rank_genes_groups(adata_protein_pair, groupby='leiden_pla', method='wilcoxon')\n",
    "sc.pl.rank_genes_groups(adata_protein_pair, groupby='leiden_pla', method='wilcoxon')"
   ]
  },
  {
   "cell_type": "code",
   "execution_count": null,
   "id": "16407449-4e64-451b-a726-f34689d68e0e",
   "metadata": {
    "tags": []
   },
   "outputs": [],
   "source": [
    "sc.tl.dendrogram(adata_protein_pair, groupby='leiden_pla', key_added='dendrogram_annotation')"
   ]
  },
  {
   "cell_type": "code",
   "execution_count": null,
   "id": "9897ea31-a287-4705-a2bb-84038ca591ce",
   "metadata": {
    "tags": []
   },
   "outputs": [],
   "source": [
    "sc.pl.rank_genes_groups_heatmap(adata_protein_pair, n_genes=4, groupby='leiden_pla', swap_axes=True, use_raw=False, vmin=-4, vmax=4,\n",
    "                                cmap='bwr', figsize=(10, 12))"
   ]
  },
  {
   "cell_type": "code",
   "execution_count": null,
   "id": "fe71fd35-e0c0-4054-bcea-58b2393ed096",
   "metadata": {
    "tags": []
   },
   "outputs": [],
   "source": [
    "sc.pl.rank_genes_groups_dotplot(adata_protein_pair, n_genes=3)"
   ]
  },
  {
   "cell_type": "code",
   "execution_count": null,
   "id": "f898c429-61b9-4fea-be01-21e4c5d0286d",
   "metadata": {
    "tags": []
   },
   "outputs": [],
   "source": [
    "adata_protein_pair.obs['mrna_annotation'] = adata.obs['mrna_annotation']\n",
    "adata_protein_pair.obs['leiden_mrna'] = adata.obs['leiden_mrna']"
   ]
  },
  {
   "cell_type": "code",
   "execution_count": null,
   "id": "6c1c8f71-f5fb-4d31-9c54-2c0ceb83880f",
   "metadata": {
    "tags": []
   },
   "outputs": [],
   "source": [
    "sc.pl.umap(adata_protein_pair,color='leiden_mrna')"
   ]
  },
  {
   "cell_type": "code",
   "execution_count": null,
   "id": "bea6f9a8-c1e8-475d-9500-c7deca4427b3",
   "metadata": {
    "tags": []
   },
   "outputs": [],
   "source": [
    "sc.pl.umap(adata_protein_pair,color='leiden_pla')"
   ]
  },
  {
   "cell_type": "code",
   "execution_count": null,
   "id": "22207031-2faa-4d7f-beeb-ba8b8d12b586",
   "metadata": {
    "tags": []
   },
   "outputs": [],
   "source": [
    "sc.tl.dendrogram(adata_protein_pair, groupby='mrna_annotation', key_added='dendrogram_annotation')"
   ]
  },
  {
   "cell_type": "code",
   "execution_count": null,
   "id": "c0c207ca-2d4f-47ed-b1ec-12b483011edd",
   "metadata": {
    "tags": []
   },
   "outputs": [],
   "source": [
    "sc.pl.rank_genes_groups_heatmap(adata_protein_pair, n_genes=4, groupby='mrna_annotation', swap_axes=True, use_raw=False, vmin=-4, vmax=4,\n",
    "                                cmap='bwr', figsize=(10, 12))"
   ]
  },
  {
   "cell_type": "code",
   "execution_count": null,
   "id": "6c088a6e-86a7-4184-8ef2-b30b3d7c1e0c",
   "metadata": {
    "tags": []
   },
   "outputs": [],
   "source": [
    "#plot it and you can get similar result as RNA \n",
    "adata_protein = adata_protein[adata_protein.obs.index.isin(list(obs_names))]\n",
    "adata_protein.obs['protein'] = 'protein'\n",
    "#sc.pl.spatial(adata_protein, color = 'protein')\n",
    "adata_protein.var['IgG'] = adata_protein.var_names.str.contains('IgG1a')\n",
    "adata_protein.var['feature_types'] = 'protein'\n",
    "sc.pp.calculate_qc_metrics(\n",
    "    adata_protein,\n",
    "    percent_top=(5, 10, 15),\n",
    "    var_type=\"protein\",\n",
    "    qc_vars=(\"IgG\",),\n",
    "    inplace=True,\n",
    ")"
   ]
  },
  {
   "cell_type": "code",
   "execution_count": null,
   "id": "6d35a298-4662-4dfe-8c84-2df539b02c4b",
   "metadata": {
    "tags": []
   },
   "outputs": [],
   "source": [
    "sc.pl.spatial(adata_protein, color = ['total_counts','n_protein_by_counts'],  size = 1.5, save = 'Fig-1f.svg')"
   ]
  },
  {
   "cell_type": "code",
   "execution_count": null,
   "id": "e8c4a158-9541-44a3-9a78-645c81cf4458",
   "metadata": {
    "tags": []
   },
   "outputs": [],
   "source": [
    "# For protein data:\n",
    "mean_counts = np.mean(adata_protein.obs['total_counts'])\n",
    "median_counts = np.median(adata_protein.obs['total_counts'])\n",
    "std_counts = np.std(adata_protein.obs['total_counts'])\n",
    "\n",
    "print(f\"Mean: {mean_counts:.1f}, Median: {median_counts:.1f}, Std: {std_counts:.1f}\")\n",
    "\n",
    "# For protein data:\n",
    "mean_counts = np.mean(adata_protein.obs['n_protein_by_counts'])\n",
    "median_counts = np.median(adata_protein.obs['n_protein_by_counts'])\n",
    "std_counts = np.std(adata_protein.obs['n_protein_by_counts'])\n",
    "\n",
    "print(f\"Mean: {mean_counts:.1f}, Median: {median_counts:.1f}, Std: {std_counts:.1f}\")"
   ]
  },
  {
   "cell_type": "code",
   "execution_count": null,
   "id": "aec70d0f-03a2-4ebf-a92d-e0ce25256e8a",
   "metadata": {
    "tags": []
   },
   "outputs": [],
   "source": [
    "adata_protein.layers[\"counts\"] = adata_protein.X.copy() # preserve counts\n",
    "sc.pp.normalize_total(adata_protein, target_sum=1e4) # scale each cell to a common library size\n",
    "sc.pp.log1p(adata_protein) # log(expression + 1)\n",
    "adata_protein.raw = adata_protein.copy() # freeze the state in `.raw`\n",
    "adata_protein.write(\"adata_A1_protein_raw_data.h5ad\")\n",
    "sc.pp.scale(adata_protein, max_value=10)\n",
    "sc.tl.pca(adata_protein, svd_solver='arpack')"
   ]
  },
  {
   "cell_type": "code",
   "execution_count": null,
   "id": "5d6510b2-f55d-455b-b72d-fcd6073840f0",
   "metadata": {
    "tags": []
   },
   "outputs": [],
   "source": [
    "sc.pl.pca_variance_ratio(adata_protein, log=True)"
   ]
  },
  {
   "cell_type": "code",
   "execution_count": null,
   "id": "a9fedbb2-b9a6-43e3-8472-fe30d724c10d",
   "metadata": {
    "tags": []
   },
   "outputs": [],
   "source": [
    "sc.pp.neighbors(adata_protein, n_neighbors=20, n_pcs=6)\n",
    "sc.tl.umap(adata_protein)"
   ]
  },
  {
   "cell_type": "code",
   "execution_count": null,
   "id": "bfcde195-4ea6-40c9-8cd1-ef682680ac4d",
   "metadata": {
    "tags": []
   },
   "outputs": [],
   "source": [
    "sc.tl.leiden(adata_protein,key_added='leiden_protein',resolution=0.8)\n",
    "sc.pl.spatial(adata_protein, color = ['leiden_protein'])"
   ]
  },
  {
   "cell_type": "code",
   "execution_count": null,
   "id": "5d7faf2a-6a30-400a-8a99-141a97cd0223",
   "metadata": {},
   "outputs": [],
   "source": [
    "sc.pl.umap(adata_protein,color='leiden_protein', save = 'Fig-1h-1.svg' )"
   ]
  },
  {
   "cell_type": "code",
   "execution_count": null,
   "id": "ec08858b-0f29-48b2-9c7d-5cdb468c510c",
   "metadata": {},
   "outputs": [],
   "source": [
    "# Plot with updated color scheme\n",
    "sc.pl.spatial(adata_protein, color='leiden_protein', save = 'Fig-1h-2.svg')"
   ]
  },
  {
   "cell_type": "code",
   "execution_count": null,
   "id": "62e59f37-9af4-4433-8420-1f50395794b1",
   "metadata": {
    "tags": []
   },
   "outputs": [],
   "source": [
    "# Copy cluster annotation from `adata` to `adata_pearson`\n",
    "adata_protein.obs['mrna_annotation'] = adata.obs['mrna_annotation']\n",
    "adata_protein.obs['leiden_mrna'] = adata.obs['leiden_mrna']\n"
   ]
  },
  {
   "cell_type": "code",
   "execution_count": null,
   "id": "359123a2-473e-416e-af37-05d7afe4876e",
   "metadata": {
    "tags": []
   },
   "outputs": [],
   "source": [
    "sc.tl.rank_genes_groups(adata_protein, groupby='mrna_annotation', method='wilcoxon')\n",
    "sc.pl.rank_genes_groups(adata_protein, groupby='mrna_annotation', method='wilcoxon')"
   ]
  },
  {
   "cell_type": "code",
   "execution_count": null,
   "id": "b76b6e38-521a-4e4f-927b-82cb56888990",
   "metadata": {
    "tags": []
   },
   "outputs": [],
   "source": [
    "sc.tl.dendrogram(adata_protein, groupby='mrna_annotation', key_added='dendrogram_annotation')"
   ]
  },
  {
   "cell_type": "code",
   "execution_count": null,
   "id": "9a6d6063-97d2-44e6-8b15-a6ce1be6ca48",
   "metadata": {
    "tags": []
   },
   "outputs": [],
   "source": [
    "sc.pl.rank_genes_groups_heatmap(\n",
    "    adata_protein,\n",
    "    groupby='mrna_annotation',\n",
    "    swap_axes=True,\n",
    "    cmap='bwr',\n",
    "    use_raw=False,\n",
    "    n_genes = 5,\n",
    "    vmin=-5,\n",
    "    vmax=5,\n",
    "    figsize=(9,7)\n",
    ")"
   ]
  },
  {
   "cell_type": "code",
   "execution_count": null,
   "id": "917ffe9e-eb6e-4f3f-88c1-3211919fceb5",
   "metadata": {
    "tags": []
   },
   "outputs": [],
   "source": [
    "custom_protein_order = [ 'CD35', 'VCAM1',  'IgM','HIgG', 'CD86','PDL2', 'CD21', 'CD23', 'IgD', 'CD20', 'CD19',  'CD40', 'ITGA4', 'CD24', 'LFA1','CD11a',\n",
    "    'CD29','CD81','CD38', 'CD8',  'CD3',  'CD4','CD27','CD279','CD28', 'CD32','CD9', 'CD147','ICAM1',]\n",
    "\n",
    "# Plot the heatmap using your custom protein order\n",
    "sc.pl.rank_genes_groups_heatmap(\n",
    "    adata_protein,\n",
    "    groupby='mrna_annotation',\n",
    "    var_names=custom_protein_order,  # Use your custom order here\n",
    "    swap_axes=True,\n",
    "    cmap='RdBu_r',\n",
    "    use_raw=False,\n",
    "    vmin=-3.5,\n",
    "    vmax=3.5,\n",
    "    figsize=(6, 6),\n",
    "    save = 'Fig-2d.svg'\n",
    ")\n"
   ]
  },
  {
   "cell_type": "code",
   "execution_count": null,
   "id": "eb816a3e-005b-48c8-aa67-eb1e5a0d390c",
   "metadata": {},
   "outputs": [],
   "source": [
    "sc.pl.umap(adata_protein,color='leiden_mrna')"
   ]
  },
  {
   "cell_type": "code",
   "execution_count": null,
   "id": "b2453242-e5c1-49bd-bc0c-94fe96be601f",
   "metadata": {},
   "outputs": [],
   "source": [
    "sc.set_figure_params(figsize=(4, 4))\n",
    "sc.pl.spatial(adata_protein, color = ['CD21','CD35','IgD' ], cmap='coolwarm', spot_size=45, save = 'Fig-2a-1.svg')"
   ]
  },
  {
   "cell_type": "code",
   "execution_count": null,
   "id": "cd7da238-9981-4256-aa65-1e02c9e8a0bf",
   "metadata": {},
   "outputs": [],
   "source": [
    "sc.set_figure_params(figsize=(4, 4))\n",
    "sc.pl.spatial(adata_protein, color = ['HIgG','CD3','CD4' ], cmap='coolwarm', spot_size=45, save = 'Fig-2a-2.svg')"
   ]
  },
  {
   "cell_type": "code",
   "execution_count": null,
   "id": "5c0ec23e-3760-4a01-8c75-c9b849f0d093",
   "metadata": {},
   "outputs": [],
   "source": [
    "sc.set_figure_params(figsize=(4, 4))\n",
    "sc.pl.spatial(adata_protein, color = ['ITGA4', ], cmap='coolwarm', spot_size=45, save = 'Fig-6a-1.svg')"
   ]
  },
  {
   "cell_type": "code",
   "execution_count": null,
   "id": "776605e7-b654-479c-8113-6759af7738a4",
   "metadata": {},
   "outputs": [],
   "source": [
    "sc.set_figure_params(figsize=(4, 4))\n",
    "sc.pl.spatial(adata_protein, color = ['VCAM1', ], cmap='coolwarm', spot_size=45, save = 'Fig-6a-2.svg')"
   ]
  },
  {
   "cell_type": "code",
   "execution_count": null,
   "id": "228ee9e5-0721-49b4-8483-bdde67041ac9",
   "metadata": {
    "tags": []
   },
   "outputs": [],
   "source": [
    "sc.pl.spatial(adata_protein, color = [ 'CD19', 'CD20', 'CD23','IgM',  'CD38', 'CD40',  'CD24', 'PDL2', 'CD279','CD28','CD86',\n",
    "   'CD8', 'CD27', 'CD32','CD9','CD81', 'CD147','ICAM1','LFA1','CD11a', 'CD29','mIgG1','mIgG2a','mIgG2b'],\n",
    "              cmap='coolwarm', spot_size=45,save = 'Extended-Fig-5.svg') #no ITGA4 VCAM1"
   ]
  },
  {
   "cell_type": "code",
   "execution_count": null,
   "id": "3008a7be-d8ae-4010-96b2-63c62e153fe4",
   "metadata": {
    "tags": []
   },
   "outputs": [],
   "source": [
    "fraction_overlap = pd.read_csv('A1_weighted_sc_pla.csv', index_col=0)\n",
    "adata_fraction = sc.AnnData(fraction_overlap.transpose().to_numpy(), obsm={'spatial': tissue_barcode[['pxl_col_in_fullres','pxl_row_in_fullres']].to_numpy()}, obs=tissue_barcode[['in_tissue','array_row','array_col']])\n",
    "adata_fraction.var.index = fraction_overlap.index\n",
    "set_uns_parameters(adata_fraction, library_id, image)\n",
    "#keep index both in rna and pla\n",
    "obs_names = adata_fraction.obs.index.intersection(adata.obs.index)\n",
    "adata_fraction = adata_fraction[adata_fraction.obs.index.isin(list(obs_names))]\n",
    "#similar preprocess to PLA data\n",
    "adata_fraction.layers[\"counts\"] = adata_fraction.X.copy() # preserve counts\n",
    "# sc.pp.normalize_total(adata_w, target_sum=1e4) # scale each cell to a common library size\n",
    "# sc.pp.log1p(adata_w) #log(expression + 1)\n",
    "adata_fraction.raw = adata_fraction.copy() # freeze the state in `.raw`\n",
    "sc.pp.scale(adata_fraction, max_value=10)\n",
    "sc.tl.pca(adata_fraction, svd_solver='arpack')\n",
    "sc.pl.pca_variance_ratio(adata_fraction, log=True)\n",
    "sc.pp.neighbors(adata_fraction, n_neighbors=10, n_pcs=6)\n",
    "sc.tl.umap(adata_fraction)\n",
    "sc.tl.leiden(adata_fraction,key_added='Fractional_overlap',resolution=0.5)\n",
    "sc.pl.spatial(adata_fraction, color = ['Fractional_overlap'], save='Fig-3c.svg')\n"
   ]
  },
  {
   "cell_type": "code",
   "execution_count": null,
   "id": "e72c4860-8514-4876-bb38-050f58b06a3a",
   "metadata": {
    "tags": []
   },
   "outputs": [],
   "source": [
    "sc.tl.rank_genes_groups(adata_fraction, groupby='Fractional_overlap', method='wilcoxon')\n",
    "sc.pl.rank_genes_groups(adata_fraction, groupby='Fractional_overlap', method='wilcoxon')\n",
    "sc.tl.dendrogram(adata_fraction, groupby='Fractional_overlap', key_added='dendrogram_annotation')\n",
    "sc.pl.rank_genes_groups_heatmap(\n",
    "    adata_fraction,\n",
    "    groupby='Fractional_overlap',\n",
    "    swap_axes=True,\n",
    "    cmap='bwr',\n",
    "    use_raw=False,\n",
    "    n_genes = 4,\n",
    "    vmin=-5,\n",
    "    vmax=5,\n",
    "    figsize=(8,12)\n",
    ")"
   ]
  },
  {
   "cell_type": "code",
   "execution_count": null,
   "id": "41fadf9e-747f-455a-af87-5869f6216f05",
   "metadata": {},
   "outputs": [],
   "source": [
    "# Copy cluster annotation from `adata` to `adata_pearson`\n",
    "adata_fraction.obs['mrna_annotation'] = adata.obs['mrna_annotation']\n",
    "sc.tl.rank_genes_groups(adata_fraction, groupby='mrna_annotation', method='wilcoxon')\n",
    "sc.pl.rank_genes_groups(adata_fraction, groupby='mrna_annotation', method='wilcoxon')\n",
    "sc.tl.dendrogram(adata_fraction, groupby='mrna_annotation', key_added='dendrogram_annotation')\n",
    "sc.pl.rank_genes_groups_heatmap(\n",
    "    adata_fraction,\n",
    "    groupby='mrna_annotation',\n",
    "    swap_axes=True,\n",
    "    cmap='bwr',\n",
    "    use_raw=False,\n",
    "    n_genes = 4,\n",
    "    vmin=-5,\n",
    "    vmax=5,\n",
    "    figsize=(8,10)\n",
    ")"
   ]
  },
  {
   "cell_type": "code",
   "execution_count": null,
   "id": "e40b8899-0a4f-4205-a821-5e4136735eff",
   "metadata": {
    "tags": []
   },
   "outputs": [],
   "source": [
    "sc.set_figure_params(figsize=(3, 3))\n",
    "sc.pl.spatial(adata_fraction, color = ['CD19:CD21'],cmap='coolwarm', spot_size=45, vmin = 0, vmax = 0.22, save = 'Extended-Fig-12d.svg')\n",
    "sc.pl.spatial(adata_fraction, color = ['CD21:CD35'],cmap='coolwarm', spot_size=45, vmin = 0.10, vmax = 0.4, save = 'Fig-5c.svg')"
   ]
  },
  {
   "cell_type": "code",
   "execution_count": null,
   "id": "bd3b120e-7205-4b15-a55f-7ec31ed1f4f3",
   "metadata": {},
   "outputs": [],
   "source": [
    "sc.set_figure_params(figsize=(3, 3))\n",
    "sc.pl.spatial(adata_fraction, color = ['CD20:CD32'],cmap='coolwarm', spot_size=45, vmin = 0, vmax = 0.18, save = 'Fig-5i.svg')\n"
   ]
  },
  {
   "cell_type": "code",
   "execution_count": null,
   "id": "4cd177e8-a8be-4aaa-86cc-312b1f983a09",
   "metadata": {
    "tags": []
   },
   "outputs": [],
   "source": [
    "import seaborn as sns\n",
    "import matplotlib.pyplot as plt\n",
    "import pandas as pd\n",
    "from scipy.stats import mannwhitneyu\n",
    "import os\n",
    "\n",
    "# Extract data\n",
    "adata = adata_protein_pair\n",
    "pair = 'ITGA4:VCAM1'\n",
    "\n",
    "# Get raw counts from layers\n",
    "counts = adata[:, pair].layers[\"counts\"].toarray().flatten()\n",
    "zones = adata.obs[\"mrna_annotation\"]\n",
    "\n",
    "# Build DataFrame and filter only Light zone and Dark zone\n",
    "df = pd.DataFrame({\n",
    "    \"ITGA4:VCAM1\": counts,\n",
    "    \"Zone\": zones\n",
    "})\n",
    "df = df[df[\"Zone\"].isin([\"Dark zone\", \"Light zone\"])]\n",
    "\n",
    "# Define order and color palette\n",
    "order = [\"Dark zone\", \"Light zone\"]\n",
    "palette = {\n",
    "    \"Dark zone\": \"#66c2a5\",\n",
    "    \"Light zone\": \"#fc8d62\"\n",
    "}\n",
    "\n",
    "# Perform statistical test\n",
    "group1 = df[df[\"Zone\"] == \"Dark zone\"][\"ITGA4:VCAM1\"]\n",
    "group2 = df[df[\"Zone\"] == \"Light zone\"][\"ITGA4:VCAM1\"]\n",
    "stat, p_value = mannwhitneyu(group1, group2, alternative='two-sided')\n",
    "print(f\"🔍 Mann-Whitney U test p-value: {p_value:.4g}\")\n",
    "\n",
    "# Determine significance stars\n",
    "if p_value < 0.001:\n",
    "    stars = '***'\n",
    "elif p_value < 0.01:\n",
    "    stars = '**'\n",
    "elif p_value < 0.05:\n",
    "    stars = '*'\n",
    "else:\n",
    "    stars = 'ns'\n",
    "\n",
    "# Plot\n",
    "plt.figure(figsize=(3.5, 3))\n",
    "ax = sns.boxplot(\n",
    "    data=df,\n",
    "    x=\"Zone\",\n",
    "    y=\"ITGA4:VCAM1\",\n",
    "    order=order,\n",
    "    palette=palette,\n",
    "    showcaps=True,\n",
    "    boxprops=dict(linewidth=0),  # ⬅️ Remove box border\n",
    "    whiskerprops=dict(linewidth=1),\n",
    "    medianprops=dict(linewidth=1, color='black')\n",
    ")\n",
    "sns.stripplot(data=df, x=\"Zone\", y=\"ITGA4:VCAM1\", color=\"black\", size=2, jitter=True, alpha=0.3, order=order)\n",
    "\n",
    "# Draw significance bar\n",
    "y_max = df[\"ITGA4:VCAM1\"].max()\n",
    "y1 = y_max * 0.95\n",
    "y2 = y_max * 0.95\n",
    "x1, x2 = 0, 1\n",
    "ax.plot([x1, x1, x2, x2], [y1, y2, y2, y1], lw=1.2, color='black')\n",
    "ax.text((x1 + x2) / 2, y2 - 0.5, stars, ha='center', va='bottom', fontsize=10)\n",
    "\n",
    "# Labels and layout\n",
    "plt.ylabel(\"Raw counts\")\n",
    "plt.xlabel(\"\")\n",
    "plt.title(\"ITGA4:VCAM1\")\n",
    "plt.tight_layout()\n",
    "\n",
    "# Save figure\n",
    "os.makedirs(\"Figures\", exist_ok=True)\n",
    "plt.savefig(\"Fig-6d-1.svg\", dpi=300)\n",
    "\n",
    "plt.show()\n",
    "\n"
   ]
  }
 ],
 "metadata": {
  "kernelspec": {
   "display_name": "Python 3 (ipykernel)",
   "language": "python",
   "name": "python3"
  },
  "language_info": {
   "codemirror_mode": {
    "name": "ipython",
    "version": 3
   },
   "file_extension": ".py",
   "mimetype": "text/x-python",
   "name": "python",
   "nbconvert_exporter": "python",
   "pygments_lexer": "ipython3",
   "version": "3.10.9"
  }
 },
 "nbformat": 4,
 "nbformat_minor": 5
}
