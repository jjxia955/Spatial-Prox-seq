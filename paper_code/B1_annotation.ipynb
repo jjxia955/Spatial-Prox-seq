{
 "cells": [
  {
   "cell_type": "code",
   "execution_count": null,
   "id": "2d8766c2-16cc-41da-91a9-484ff0469f3a",
   "metadata": {
    "tags": []
   },
   "outputs": [],
   "source": [
    "# Import libraries\n",
    "import numpy as np\n",
    "import math\n",
    "import random\n",
    "import pandas as pd\n",
    "import scipy.stats as stats\n",
    "from statsmodels.stats.multitest import multipletests\n",
    "import statsmodels.api as sm # linear regression\n",
    "import seaborn as sns\n",
    "import matplotlib as mpl\n",
    "import matplotlib.pyplot as plt\n",
    "import matplotlib.image as mpimg\n",
    "import scanpy as sc\n",
    "import os\n",
    "import ProxseqClasses as PC\n",
    "import SpatialproxseqClasses as SPC\n",
    "\n",
    "\n",
    "#*****\n",
    "mpl.rcdefaults()\n",
    "# Set font to be arial\n",
    "mpl.rc('font', **{'sans-serif':'Arial', 'size':12})\n",
    "mpl.rcParams['mathtext.rm'] = 'sans' \n",
    "mpl.rcParams['axes.titlesize'] = 12\n",
    "# Set default tick size\n",
    "mpl.rcParams['xtick.major.size'] = 5.5\n",
    "mpl.rcParams['ytick.major.size'] = 5.5\n",
    "mpl.rcParams['xtick.minor.size'] = 2.5\n",
    "mpl.rcParams['ytick.minor.size'] = 2.5\n",
    "# Default legend settings\n",
    "mpl.rcParams['legend.fancybox'] = False\n",
    "mpl.rcParams['legend.edgecolor'] = 'k'\n",
    "\n",
    "#to store text as text, not as path\n",
    "new_rc_params = {'text.usetex': False,\n",
    "                 \"svg.fonttype\": 'none'}\n",
    "mpl.rcParams.update(new_rc_params)\n",
    "#*****\n",
    "# Seed number\n",
    "np.random.seed(2025)\n",
    "random.seed(2025)"
   ]
  },
  {
   "cell_type": "code",
   "execution_count": null,
   "id": "5d7466b7-2c23-4723-bfe5-640f9630b7a9",
   "metadata": {
    "tags": []
   },
   "outputs": [],
   "source": [
    "#for spatial_RNA data load, just apply sc.read_visium \n",
    "#read_visium data \n",
    "adata = sc.read_visium('B1_outs')\n",
    "adata.var_names_make_unique()\n",
    "adata.obs['mRNA']= 'RNA'\n",
    "#mitochodria gene\n",
    "adata.var[\"mt\"] = adata.var_names.str.startswith(\"MT-\")\n",
    "sc.pp.calculate_qc_metrics(adata, qc_vars=[\"mt\"], inplace=True)\n",
    "sc.set_figure_params(figsize=(4, 4))"
   ]
  },
  {
   "cell_type": "code",
   "execution_count": null,
   "id": "b654206b-02e4-4098-8f6f-8300bb96c226",
   "metadata": {
    "tags": []
   },
   "outputs": [],
   "source": [
    "print(adata.shape)"
   ]
  },
  {
   "cell_type": "code",
   "execution_count": null,
   "id": "f0a6f97e-4eef-4851-b2fb-51a25bb06346",
   "metadata": {
    "tags": []
   },
   "outputs": [],
   "source": [
    "sc.pl.spatial(adata, color = ['total_counts', 'n_genes_by_counts'], size = 1.5,save = 'Extended-Fig-2b.svg')"
   ]
  },
  {
   "cell_type": "code",
   "execution_count": null,
   "id": "7d6749e1-d9ff-49c9-8090-6442793bfa15",
   "metadata": {},
   "outputs": [],
   "source": [
    "sc.pl.spatial(adata, color=None, spot_size=0, save = 'Extended-Fig-2a.svg')"
   ]
  },
  {
   "cell_type": "code",
   "execution_count": null,
   "id": "77bebdc3-60b2-4637-88cc-dd41c45d1b40",
   "metadata": {
    "tags": []
   },
   "outputs": [],
   "source": [
    "# For RNA data:\n",
    "mean_counts = np.mean(adata.obs['total_counts'])\n",
    "median_counts = np.median(adata.obs['total_counts'])\n",
    "std_counts = np.std(adata.obs['total_counts'])\n",
    "\n",
    "print(f\"Mean: {mean_counts:.1f}, Median: {median_counts:.1f}, Std: {std_counts:.1f}\")\n",
    "\n",
    "# For RNA data:\n",
    "mean_counts = np.mean(adata.obs['n_genes_by_counts'])\n",
    "median_counts = np.median(adata.obs['n_genes_by_counts'])\n",
    "std_counts = np.std(adata.obs['n_genes_by_counts'])\n",
    "\n",
    "print(f\"Mean: {mean_counts:.1f}, Median: {median_counts:.1f}, Std: {std_counts:.1f}\")"
   ]
  },
  {
   "cell_type": "code",
   "execution_count": null,
   "id": "cb24dcf1-ff5a-463c-9bb8-ef974d218c5a",
   "metadata": {
    "tags": []
   },
   "outputs": [],
   "source": [
    "#perform UMI based filter\n",
    "sc.pp.filter_cells(adata, min_counts = 1000)\n",
    "sc.pp.filter_genes(adata, min_cells=3)"
   ]
  },
  {
   "cell_type": "code",
   "execution_count": null,
   "id": "b6fe23eb-24a2-45a0-ba06-043aa2fcb339",
   "metadata": {
    "tags": []
   },
   "outputs": [],
   "source": [
    "adata.layers[\"counts\"] = adata.X.copy() # preserve counts\n",
    "sc.pp.normalize_total(adata, target_sum=1e4) # scale each cell to a common library size\n",
    "sc.pp.log1p(adata) # log(expression + 1)\n",
    "adata.raw = adata.copy() # freeze the state in `.raw`\n",
    "adata.write(\"adata_B1_rna_raw_data.h5ad\")"
   ]
  },
  {
   "cell_type": "code",
   "execution_count": null,
   "id": "29f9b201-c675-4ef6-854a-6703e4f4f8e5",
   "metadata": {
    "tags": []
   },
   "outputs": [],
   "source": [
    "sc.pp.highly_variable_genes(\n",
    "    adata,\n",
    "    n_top_genes=4000,\n",
    "    layer=\"counts\",\n",
    "    flavor=\"seurat_v3\"\n",
    ")"
   ]
  },
  {
   "cell_type": "code",
   "execution_count": null,
   "id": "4f9a3e3f-292d-4fba-bfd3-2018e82ac991",
   "metadata": {
    "tags": []
   },
   "outputs": [],
   "source": [
    "sc.set_figure_params(figsize=(4, 4))\n",
    "sc.pl.highly_variable_genes(adata, log=True)\n",
    "# subset to highly variable genes\n",
    "adata = adata[:, adata.var.highly_variable].copy()\n",
    "sc.pp.scale(adata, max_value=10) #normalize genes\n",
    "sc.tl.pca(adata, svd_solver='arpack')\n",
    "sc.pl.pca_variance_ratio(adata, log=True)\n"
   ]
  },
  {
   "cell_type": "code",
   "execution_count": null,
   "id": "b9d1149f-b8cf-46c3-96ca-26021b64dded",
   "metadata": {
    "tags": []
   },
   "outputs": [],
   "source": [
    "sc.pp.neighbors(adata, n_neighbors=15, n_pcs=15) \n",
    "sc.tl.umap(adata)"
   ]
  },
  {
   "cell_type": "code",
   "execution_count": null,
   "id": "8384200f-1af3-4f6f-b045-78bbd31f9684",
   "metadata": {
    "tags": []
   },
   "outputs": [],
   "source": [
    "sc.tl.leiden(adata, resolution = 0.5, key_added='leiden_mrna') \n",
    "sc.pl.spatial(adata, color = ['leiden_mrna'], save = 'Extended-Fig-4a-2.svg')"
   ]
  },
  {
   "cell_type": "code",
   "execution_count": null,
   "id": "cda99aed-7d2a-443b-add5-6b30ca8c41d4",
   "metadata": {
    "tags": []
   },
   "outputs": [],
   "source": [
    "sc.pl.umap(adata, color = ['leiden_mrna'], size = 30, save = 'Extended-Fig-4a-1.svg')"
   ]
  },
  {
   "cell_type": "code",
   "execution_count": null,
   "id": "267190c3-eef8-410a-a97f-c772357592b5",
   "metadata": {
    "tags": []
   },
   "outputs": [],
   "source": [
    "# Step 1: Subset GC cluster (2 and 3)\n",
    "adata_gc = adata[adata.obs[\"leiden_mrna\"] .isin([\"3\", \"6\",])].copy()\n",
    "\n",
    "# Step 2: Re-cluster\n",
    "# restore raw counts\n",
    "adata_gc.X = adata_gc.layers[\"counts\"].copy()\n",
    "\n",
    "# store raw counts for dotplot etc.\n",
    "adata_gc.raw = adata_gc.copy()\n",
    "\n",
    "# normalization and clustering\n",
    "sc.pp.normalize_total(adata_gc, target_sum=1e4)\n",
    "sc.pp.log1p(adata_gc)\n",
    "sc.pp.highly_variable_genes(adata_gc, n_top_genes=4000)\n",
    "adata_gc = adata_gc[:, adata_gc.var[\"highly_variable\"]].copy()\n",
    "sc.pp.scale(adata_gc)\n",
    "sc.tl.pca(adata_gc)\n",
    "sc.pp.neighbors(adata_gc)\n",
    "sc.tl.umap(adata_gc)"
   ]
  },
  {
   "cell_type": "code",
   "execution_count": null,
   "id": "89593a6d-7c1d-4e78-8552-a02c8aa74f81",
   "metadata": {
    "tags": []
   },
   "outputs": [],
   "source": [
    "sc.tl.leiden(adata_gc, resolution=0.2)"
   ]
  },
  {
   "cell_type": "code",
   "execution_count": null,
   "id": "a45e1c81-ac2e-4cbf-9487-0aee50447a7e",
   "metadata": {
    "tags": []
   },
   "outputs": [],
   "source": [
    "sc.pl.umap(adata_gc, color = ['leiden'], size = 30)\n"
   ]
  },
  {
   "cell_type": "code",
   "execution_count": null,
   "id": "45c432b1-521e-4863-8cd4-39a5b7d4581d",
   "metadata": {
    "tags": []
   },
   "outputs": [],
   "source": [
    "sc.pl.spatial(adata_gc, color = ['leiden'], )\n"
   ]
  },
  {
   "cell_type": "code",
   "execution_count": null,
   "id": "06f27251-50db-42f1-a544-831486a65c95",
   "metadata": {
    "tags": []
   },
   "outputs": [],
   "source": [
    "# Step 3: assign back the refined cluster labels to original data\n",
    "adata.obs.loc[adata.obs[\"leiden_mrna\"].isin([\"3\", \"6\"]), \"lz_dz_subtype\"] = adata_gc.obs[\"leiden\"].values"
   ]
  },
  {
   "cell_type": "code",
   "execution_count": null,
   "id": "7de434d2-aeb7-45e8-94cb-abb7a2adad98",
   "metadata": {
    "tags": []
   },
   "outputs": [],
   "source": [
    "mask = adata.obs[\"leiden_mrna\"].isin([\"3\", \"6\"])\n",
    "adata.obs.loc[mask & (adata.obs[\"lz_dz_subtype\"] == \"0\"), \"leiden_mrna\"] = \"6\"\n",
    "adata.obs.loc[mask & (adata.obs[\"lz_dz_subtype\"] == \"1\"), \"leiden_mrna\"] = \"3\""
   ]
  },
  {
   "cell_type": "code",
   "execution_count": null,
   "id": "a91caca9-dd13-41d8-a676-ec5db8cc2a76",
   "metadata": {
    "tags": []
   },
   "outputs": [],
   "source": [
    "# Step 1: Subset GC cluster (2 and 3)\n",
    "adata_gc_border = adata[adata.obs[\"leiden_mrna\"] .isin([\"8\",])].copy()\n",
    "\n",
    "# Step 2: Re-cluster\n",
    "# restore raw counts\n",
    "adata_gc_border.X = adata_gc_border.layers[\"counts\"].copy()\n",
    "\n",
    "# store raw counts for dotplot etc.\n",
    "adata_gc_border.raw = adata_gc_border.copy()\n",
    "\n",
    "# normalization and clustering\n",
    "sc.pp.normalize_total(adata_gc_border, target_sum=1e4)\n",
    "sc.pp.log1p(adata_gc_border)\n",
    "sc.pp.highly_variable_genes(adata_gc_border, n_top_genes=4000)\n",
    "adata_gc_border = adata_gc_border[:, adata_gc_border.var[\"highly_variable\"]].copy()\n",
    "sc.pp.scale(adata_gc_border)\n",
    "sc.tl.pca(adata_gc_border)\n",
    "sc.pp.neighbors(adata_gc_border)\n",
    "sc.tl.umap(adata_gc_border)"
   ]
  },
  {
   "cell_type": "code",
   "execution_count": null,
   "id": "d7b6a300-1bf6-45c9-854c-b1f77472d8b1",
   "metadata": {
    "tags": []
   },
   "outputs": [],
   "source": [
    "sc.tl.leiden(adata_gc_border, resolution=0.35)\n",
    "sc.pl.umap(adata_gc_border, color = ['leiden'], size = 30)"
   ]
  },
  {
   "cell_type": "code",
   "execution_count": null,
   "id": "fcaf1c97-10aa-4799-9d44-3f8f15b9933c",
   "metadata": {
    "tags": []
   },
   "outputs": [],
   "source": [
    "# Step 3: assign back the refined cluster labels to original data\n",
    "adata.obs.loc[adata.obs[\"leiden_mrna\"].isin([\"8\"]), \"lz_dz_subtype\"] = adata_gc_border.obs[\"leiden\"].values"
   ]
  },
  {
   "cell_type": "code",
   "execution_count": null,
   "id": "804b0672-f068-41f1-a3db-d731b536aac0",
   "metadata": {
    "tags": []
   },
   "outputs": [],
   "source": [
    "# Ensure the column is Categorical\n",
    "adata.obs[\"leiden_mrna\"] = adata.obs[\"leiden_mrna\"].astype(\"category\")\n",
    "\n",
    "# Add the new category \"10\" before assigning it\n",
    "adata.obs[\"leiden_mrna\"] = adata.obs[\"leiden_mrna\"].cat.add_categories([\"10\"])\n",
    "\n",
    "# Step 1: Create a boolean mask to identify cells from the original cluster 8\n",
    "mask = adata.obs[\"leiden_mrna\"] == \"8\"\n",
    "\n",
    "# Step 2: Update the leiden_mrna labels based on refined subcluster assignments\n",
    "# Assign subcluster \"0\" back to leiden cluster \"8\"\n",
    "adata.obs.loc[mask & (adata.obs[\"lz_dz_subtype\"] == \"0\"), \"leiden_mrna\"] = \"8\"\n",
    "\n",
    "# Assign subcluster \"1\" a new leiden cluster label \"10\"\n",
    "adata.obs.loc[mask & (adata.obs[\"lz_dz_subtype\"] == \"1\"), \"leiden_mrna\"] = \"10\"\n"
   ]
  },
  {
   "cell_type": "code",
   "execution_count": null,
   "id": "79305811-b641-4ade-9848-63798f173e11",
   "metadata": {
    "tags": []
   },
   "outputs": [],
   "source": [
    "sc.pl.umap(adata, color = ['leiden_mrna'])\n",
    "sc.pl.spatial(adata, color = ['leiden_mrna'])"
   ]
  },
  {
   "cell_type": "code",
   "execution_count": null,
   "id": "a6a2d15d-9175-4359-a7fe-6355369d6625",
   "metadata": {
    "tags": []
   },
   "outputs": [],
   "source": [
    "cluster_mapping_mrna = {\n",
    "    '0': 'T:B border',\n",
    "    '1': 'Epithelial-basal cell',\n",
    "    '2': 'Non-GC follicles',\n",
    "    '3': 'Dark zone',\n",
    "    '4': 'Non-GC follicles', \n",
    "    '5': 'Epithelial-crypt',\n",
    "    '6': 'Light zone',\n",
    "    '7': 'Mantle zone',\n",
    "    '8': 'Light zone',\n",
    "    '9': 'T:B border',\n",
    "    '10': 'Dark zone',\n",
    "}\n",
    "# Create a new column with the combined cluster name\n",
    "adata.obs['mrna_annotation'] = adata.obs['leiden_mrna'].map(cluster_mapping_mrna).fillna(adata.obs['leiden_mrna'])\n"
   ]
  },
  {
   "cell_type": "code",
   "execution_count": null,
   "id": "baff05b1-a396-469b-9396-4556027526a4",
   "metadata": {
    "tags": []
   },
   "outputs": [],
   "source": [
    "sc.pl.spatial(adata, color = ['mrna_annotation'], save = 'Extended-Fig-4a-3.svg')"
   ]
  },
  {
   "cell_type": "code",
   "execution_count": null,
   "id": "9190fae8-53a7-42df-9058-55974f6ff94f",
   "metadata": {
    "tags": []
   },
   "outputs": [],
   "source": [
    "sc.tl.rank_genes_groups(adata, groupby='mrna_annotation', method='wilcoxon')\n",
    "sc.pl.rank_genes_groups(adata, groupby='mrna_annotation', method='wilcoxon')\n"
   ]
  },
  {
   "cell_type": "code",
   "execution_count": null,
   "id": "da7c5c4a-d7df-4b2f-9019-2878232ce742",
   "metadata": {
    "tags": []
   },
   "outputs": [],
   "source": [
    "sc.tl.dendrogram(adata, groupby='mrna_annotation', key_added='dendrogram_annotation')\n",
    "sc.pl.rank_genes_groups_heatmap(adata, n_genes=5, groupby='mrna_annotation', swap_axes=True, use_raw=True, \n",
    "                                cmap='bwr', figsize=(10, 9))"
   ]
  },
  {
   "cell_type": "code",
   "execution_count": null,
   "id": "c51c76b6-90bb-4330-a02f-60352cde0f23",
   "metadata": {
    "tags": []
   },
   "outputs": [],
   "source": [
    "sc.pl.umap(adata, color = ['S100A8', 'KRT5', 'SFN', 'S100A2', 'KRT14', 'SPINK5', 'S100A14', 'KRT6A', 'S100A16', 'KRT13', 'mrna_annotation' ], color_map='coolwarm', ) #basal cells"
   ]
  },
  {
   "cell_type": "code",
   "execution_count": null,
   "id": "d7e31623-4169-4f13-a96d-67f1586361ea",
   "metadata": {
    "tags": []
   },
   "outputs": [],
   "source": [
    "sc.pl.dotplot(adata, ['S100A8', 'KRT5', 'SFN', 'S100A2', 'KRT14', 'SPINK5', 'S100A14', 'KRT6A', 'S100A16', 'KRT13',], groupby=\"mrna_annotation\") #basal"
   ]
  },
  {
   "cell_type": "code",
   "execution_count": null,
   "id": "c6ee691f-23c1-476c-b6e5-f603a5f4998e",
   "metadata": {
    "tags": []
   },
   "outputs": [],
   "source": [
    "sc.pl.umap(adata, color = ['ARHGEF16', 'ERRFI1', 'KAZN', 'EPHA2',   'ARHGEF10L', 'PLA2G2F', 'CAMK2N1', 'mrna_annotation'], vmin  = 0, vmax = 1.1, color_map='coolwarm', ) #Surface epithelium"
   ]
  },
  {
   "cell_type": "code",
   "execution_count": null,
   "id": "9c6afff9-4d33-4b08-a07c-0e6c08f54f86",
   "metadata": {
    "tags": []
   },
   "outputs": [],
   "source": [
    "sc.pl.dotplot(adata, ['ARHGEF16', 'ERRFI1', 'KAZN', 'EPHA2',   'ARHGEF10L', 'PLA2G2F', 'CAMK2N1',], groupby=\"mrna_annotation\") #Surface epithelium"
   ]
  },
  {
   "cell_type": "code",
   "execution_count": null,
   "id": "3d42a41d-fc3b-452c-aed9-7cfe10cf23b7",
   "metadata": {
    "tags": []
   },
   "outputs": [],
   "source": [
    "sc.pl.umap(adata, color = ['CD3D', 'CD3E', 'CD3G', 'CD2', 'IL7R', 'TCF7', 'CCR7', 'LEF1', 'NOSIP', 'GIMAP7', 'mrna_annotation' ], color_map='coolwarm', ) #CD4 naive"
   ]
  },
  {
   "cell_type": "code",
   "execution_count": null,
   "id": "d41701c2-4adf-47f0-9bf1-e6a4bfe44914",
   "metadata": {
    "tags": []
   },
   "outputs": [],
   "source": [
    "sc.pl.dotplot(adata, ['CD3D', 'CD3E', 'CD4', 'CD3G', 'CD2', 'IL7R', 'TCF7', 'CCR7', 'LEF1', 'NOSIP', 'GIMAP7',], groupby=\"mrna_annotation\") #CD4 naive"
   ]
  },
  {
   "cell_type": "code",
   "execution_count": null,
   "id": "8f64eb19-0192-4785-846d-142cfebfe4ea",
   "metadata": {
    "tags": []
   },
   "outputs": [],
   "source": [
    "sc.pl.umap(adata, color = ['FCER2', 'IGHD', 'CD83', 'NFKB2', 'CD72', 'CD69', 'MYC', 'EGR3', 'REL', 'HLA-DQB1', 'mrna_annotation' ], color_map='coolwarm', ) #B active marker"
   ]
  },
  {
   "cell_type": "code",
   "execution_count": null,
   "id": "ecd132da-a5e1-413f-b76d-70a072c9cb12",
   "metadata": {
    "tags": []
   },
   "outputs": [],
   "source": [
    "sc.pl.dotplot(adata, ['FCER2', 'IGHD', 'CD83', 'NFKB2', 'CD72', 'CD69', 'MYC', 'EGR3', 'REL', 'HLA-DQB1','CD27'], groupby=\"mrna_annotation\") #B active marker"
   ]
  },
  {
   "cell_type": "code",
   "execution_count": null,
   "id": "e0a8cd6c-e371-4af0-8278-a46a95214573",
   "metadata": {
    "tags": []
   },
   "outputs": [],
   "source": [
    "sc.pl.umap(adata, color = ['IGHD', 'IGHM', 'BANK1', 'FCER2', 'TCL1A', 'CD79B', 'MEF2C', 'MS4A1', 'CD79A', 'CD22','CD38', 'mrna_annotation' ], color_map='coolwarm', ) #B naive marker"
   ]
  },
  {
   "cell_type": "code",
   "execution_count": null,
   "id": "24491b8a-27b2-4a67-be31-09d2a447b4fc",
   "metadata": {
    "tags": []
   },
   "outputs": [],
   "source": [
    "sc.pl.dotplot(adata, ['IGHD', 'IGHM', 'BANK1', 'FCER2', 'TCL1A', 'CD79B', 'MEF2C', 'MS4A1', 'CD79A', 'CD22',], groupby=\"mrna_annotation\") #B naive marker"
   ]
  },
  {
   "cell_type": "code",
   "execution_count": null,
   "id": "65a865ed-547a-45ee-a3af-4d4c8d81c55c",
   "metadata": {
    "tags": []
   },
   "outputs": [],
   "source": [
    "sc.pl.dotplot(adata, ['CD83', 'FCER2', 'NME1', 'PHACTR1', 'SYNGR2', 'CCND2', 'DDX21', 'CD72', 'PARP14', 'MIR155HG',], groupby=\"mrna_annotation\") #GC-commited NBC"
   ]
  },
  {
   "cell_type": "code",
   "execution_count": null,
   "id": "897b2e29-b5b7-43cf-b3c5-5ea5ef25a4b0",
   "metadata": {
    "tags": []
   },
   "outputs": [],
   "source": [
    "sc.pl.umap(adata, color = ['CD83','LMO2','BCL2A1','mrna_annotation'],  color_map='coolwarm', ) # light zone marker"
   ]
  },
  {
   "cell_type": "code",
   "execution_count": null,
   "id": "5499b720-e767-4745-8a7a-34ac7d08533f",
   "metadata": {
    "tags": []
   },
   "outputs": [],
   "source": [
    "sc.pl.dotplot(adata,['CD83','LMO2','BCL2A1',],  groupby=\"mrna_annotation\") # light zone marker"
   ]
  },
  {
   "cell_type": "code",
   "execution_count": null,
   "id": "0b419ea4-83f6-4561-aab5-d25a7cb99e31",
   "metadata": {
    "tags": []
   },
   "outputs": [],
   "source": [
    "sc.pl.dotplot(adata,['PASK','ICOS','TIGIT','IL21','IFITM1'],  groupby=\"mrna_annotation\") # Tfh marker"
   ]
  },
  {
   "cell_type": "code",
   "execution_count": null,
   "id": "52a1ca42-3a16-4cdb-9828-170e5e68467c",
   "metadata": {
    "tags": []
   },
   "outputs": [],
   "source": [
    "sc.pl.dotplot(adata,['FDCSP','CLU','CR2','CXCL13'],  groupby=\"mrna_annotation\") # FDC marker"
   ]
  },
  {
   "cell_type": "code",
   "execution_count": null,
   "id": "ae0120cc-954f-4e45-b029-c8caa41b9c77",
   "metadata": {
    "tags": []
   },
   "outputs": [],
   "source": [
    "sc.pl.umap(adata, color = ['CXCR4','AICDA','MME','FOXP1','mrna_annotation'], color_map='coolwarm', ) #dark zone marker"
   ]
  },
  {
   "cell_type": "code",
   "execution_count": null,
   "id": "5d703448-86a0-4d4b-91f6-27c2f2d5b6a0",
   "metadata": {
    "tags": []
   },
   "outputs": [],
   "source": [
    "sc.pl.dotplot(adata,['CXCR4','AICDA','MME','FOXP1',],  groupby=\"mrna_annotation\") # dark zone marker"
   ]
  },
  {
   "cell_type": "code",
   "execution_count": null,
   "id": "bd4010ac-5665-4c73-9022-c0413775f255",
   "metadata": {
    "tags": []
   },
   "outputs": [],
   "source": [
    "cluster_df = pd.DataFrame({\n",
    "    'cell_index': adata.obs.index,\n",
    "    'leiden_mrna':adata.obs['leiden_mrna'],\n",
    "    'mrna_annotation': adata.obs['mrna_annotation'],\n",
    "})\n",
    "cluster_df.to_csv('B1_adata_mRNA_cell_clusters.csv', index=False)"
   ]
  },
  {
   "cell_type": "code",
   "execution_count": null,
   "id": "07659f06-2eee-410b-86b0-6ef514d5831a",
   "metadata": {
    "tags": []
   },
   "outputs": [],
   "source": [
    "sc.tl.rank_genes_groups(adata, groupby='mrna_annotation', method='wilcoxon')\n",
    "sc.pl.rank_genes_groups(adata, groupby='mrna_annotation', method='wilcoxon')"
   ]
  },
  {
   "cell_type": "code",
   "execution_count": null,
   "id": "ed427189-d562-46b8-be9e-fd963bb96ba1",
   "metadata": {
    "tags": []
   },
   "outputs": [],
   "source": [
    "custom_gene_names = [\n",
    "    'CR1', 'VCAM1', 'IGHM', 'IGHG1', 'CD86', 'PDCD1LG2', 'CR2', 'FCER2', 'IGHD',\n",
    "    'MS4A1', 'CD19', 'CD40', 'ITGA4', 'ITGB1', 'CD81', 'CD38', 'CD8A', 'CD3E', \n",
    "    'CD4', 'CD27', 'PDCD1', 'CD28', 'FCGR2A', 'CD9', 'BSG', 'ICAM1', 'ITGAL', 'CD24'\n",
    "]\n"
   ]
  },
  {
   "cell_type": "code",
   "execution_count": null,
   "id": "94e5932e-50fb-4b53-9d6d-6a503028e21b",
   "metadata": {
    "tags": []
   },
   "outputs": [],
   "source": [
    "sc.pl.heatmap(\n",
    "    adata,\n",
    "    var_names=custom_gene_names,\n",
    "    groupby='mrna_annotation',\n",
    "    swap_axes=True,\n",
    "    cmap='bwr',\n",
    "    use_raw=True,\n",
    "    vmin=-5,\n",
    "    vmax=5,\n",
    "    figsize=(10, 8)\n",
    ")"
   ]
  },
  {
   "cell_type": "code",
   "execution_count": null,
   "id": "9b7c3335-9b20-46d9-8327-dad58ffe8769",
   "metadata": {
    "tags": []
   },
   "outputs": [],
   "source": [
    "#read PLA data and transform the data\n",
    "data = pd.read_csv('B1-PLA_count_matrix.txt.gz', sep=\"\\t\",index_col=0)"
   ]
  },
  {
   "cell_type": "code",
   "execution_count": null,
   "id": "214f1917-4de3-46ec-bb6b-70ae36d0d2cc",
   "metadata": {
    "tags": []
   },
   "outputs": [],
   "source": [
    "# Update row names (index)\n",
    "data.index = data.index.str.replace(r\"^VCAM1_B:(.*)$\", r\"CD40_A:\\1\", regex=True)\n",
    "data.index = data.index.str.replace(r\"^CD29_B:(.*)$\", r\"CD279_A:\\1\", regex=True)\n",
    "data.index = data.index.str.replace(r\"^LFA1_B:(.*)$\", r\"CD11a_A:\\1\", regex=True)"
   ]
  },
  {
   "cell_type": "code",
   "execution_count": null,
   "id": "ee4f61cd-883b-4301-b9e1-4bfdc0112827",
   "metadata": {
    "tags": []
   },
   "outputs": [],
   "source": [
    "valid_condition = ~data.index.str.contains(r'((:.*_A)|(_B:))', regex=True)\n",
    "\n",
    "# Apply the filter to the dataframe\n",
    "pla = data[valid_condition]\n",
    "\n",
    "#remover suffix \n",
    "pla.index = pla.index.str.replace(r'(_A|_B)', '', regex=True)"
   ]
  },
  {
   "cell_type": "code",
   "execution_count": null,
   "id": "6c06dacd-e131-449e-a2ec-ee63df141270",
   "metadata": {
    "tags": []
   },
   "outputs": [],
   "source": [
    "# #exclude HLADPRQ\n",
    "pla = pla.loc[~pla.index.str.contains('HLADPRQ'),:]"
   ]
  },
  {
   "cell_type": "code",
   "execution_count": null,
   "id": "a2f11685-db35-4e18-a575-1430636b8bfb",
   "metadata": {
    "tags": []
   },
   "outputs": [],
   "source": [
    "pla_obj = SPC.sproxseqObject(pla)\n",
    "pla_obj.compute_protein_pair_counts()\n",
    "pla_obj.compute_protein_abundance()\n"
   ]
  },
  {
   "cell_type": "code",
   "execution_count": null,
   "id": "278584da-d981-4d7d-8b28-98e5dc765a2f",
   "metadata": {
    "tags": []
   },
   "outputs": [],
   "source": [
    "#read tissue barcode \n",
    "tissue_barcode = pd.read_csv('B1_outs/spatial/tissue_positions.csv')\n",
    "tissue_barcode = tissue_barcode.set_index('barcode')\n",
    "#keep only PLA spot barcode \n",
    "tissue_barcode = tissue_barcode.loc[pla.transpose().index,:]"
   ]
  },
  {
   "cell_type": "code",
   "execution_count": null,
   "id": "ea06a2b3-5c85-4176-a054-08a7eca73df8",
   "metadata": {
    "tags": []
   },
   "outputs": [],
   "source": [
    "#construct pla anndata object\n",
    "adata_pla = sc.AnnData(pla.transpose().to_numpy(), obsm={'spatial': tissue_barcode[['pxl_col_in_fullres','pxl_row_in_fullres']].to_numpy()}, obs=tissue_barcode[['in_tissue','array_row','array_col']])\n",
    "adata_protein = sc.AnnData(pla_obj.protein_count.transpose().to_numpy(), obsm={'spatial': tissue_barcode[['pxl_col_in_fullres','pxl_row_in_fullres']].to_numpy()}, obs=tissue_barcode[['in_tissue','array_row','array_col']])\n",
    "adata_protein_pair = sc.AnnData(pla_obj.protein_pair_count.transpose().to_numpy(), obsm={'spatial': tissue_barcode[['pxl_col_in_fullres','pxl_row_in_fullres']].to_numpy()}, obs=tissue_barcode[['in_tissue','array_row','array_col']])\n"
   ]
  },
  {
   "cell_type": "code",
   "execution_count": null,
   "id": "34352750-3de3-4126-8c82-3128868fb467",
   "metadata": {
    "tags": []
   },
   "outputs": [],
   "source": [
    "#rename var name\n",
    "adata_pla.var.index = pla.index\n",
    "adata_protein.var.index = pla_obj.protein_count.index\n",
    "adata_protein_pair.var.index = pla_obj.protein_pair_count.index\n"
   ]
  },
  {
   "cell_type": "code",
   "execution_count": null,
   "id": "e2674646-508f-481b-a2d7-2b6123d63051",
   "metadata": {
    "tags": []
   },
   "outputs": [],
   "source": [
    "#read image \n",
    "image = mpimg.imread('B1_outs/spatial/tissue_hires_image.png')\n",
    "def set_uns_parameters(adata, library_id, image):\n",
    "    spatial_key = \"spatial\"\n",
    "    adata.uns[spatial_key] = {library_id: {\"images\": {\"hires\": image},\n",
    "                                           \"scalefactors\": {'tissue_hires_scalef': 0.53748995,\n",
    "                                                            'tissue_lowres_scalef': 0.16124697,\n",
    "                                                            'fiducial_diameter_fullres': 45.46590400000001,\n",
    "                                                            'spot_diameter_fullres': 28.145561000000004}}}\n",
    "\n",
    "# Assuming adata_rna, adata_protein, and adata_protein_pair are your AnnData objects\n",
    "library_id = \"B1_Human_tonsil_Proxseq\"\n",
    "image = image  # Replace with your actual image variable\n",
    "\n",
    "set_uns_parameters(adata_pla, library_id, image)\n",
    "set_uns_parameters(adata_protein, library_id, image)\n",
    "set_uns_parameters(adata_protein_pair, library_id, image)\n"
   ]
  },
  {
   "cell_type": "code",
   "execution_count": null,
   "id": "394ab89b-f3f7-43c1-9d67-b8dbef58abaf",
   "metadata": {
    "tags": []
   },
   "outputs": [],
   "source": [
    "#plot it and you can get similar result as RNA \n",
    "adata_protein_pair.obs['PLA'] = 'PLA'\n",
    "# plt.rcParams[\"figure.figsize\"] = (8, 8)\n",
    "#sc.pl.spatial(adata_protein_pair, color = 'PLA')\n",
    "adata_protein_pair.var['IgG'] = adata_protein_pair.var_names.str.contains('IgG1a')\n",
    "adata_protein_pair.var['feature_types'] = 'protein_pair'\n",
    "sc.pp.calculate_qc_metrics(\n",
    "    adata_protein_pair,\n",
    "    percent_top=(5, 10, 15),\n",
    "    var_type=\"protein_pair\",\n",
    "    qc_vars=(\"IgG\",),\n",
    "    inplace=True,\n",
    ")"
   ]
  },
  {
   "cell_type": "code",
   "execution_count": null,
   "id": "ab86d6d0-b79e-4629-9548-08a38b9b7d47",
   "metadata": {
    "tags": []
   },
   "outputs": [],
   "source": [
    "#keep index both in rna and pla\n",
    "obs_names = adata_protein_pair.obs.index.intersection(adata.obs.index)\n",
    "adata_protein_pair = adata_protein_pair[adata_protein_pair.obs.index.isin(list(obs_names))]\n",
    "adata = adata[adata.obs.index.isin(list(obs_names))]"
   ]
  },
  {
   "cell_type": "code",
   "execution_count": null,
   "id": "10bfd263-2334-4abc-a8ae-8f795e2b745b",
   "metadata": {
    "tags": []
   },
   "outputs": [],
   "source": [
    "sc.pl.spatial(adata_protein_pair, color = ['total_counts', 'n_protein_pair_by_counts'], size = 1.5, save = 'Extended-Fig-2c.svg')"
   ]
  },
  {
   "cell_type": "code",
   "execution_count": null,
   "id": "bae0c1d4-ffc5-47c1-afeb-c98bf7a396c2",
   "metadata": {
    "tags": []
   },
   "outputs": [],
   "source": [
    "# For PLA data:\n",
    "mean_counts = np.mean(adata_protein_pair.obs['total_counts'])\n",
    "median_counts = np.median(adata_protein_pair.obs['total_counts'])\n",
    "std_counts = np.std(adata_protein_pair.obs['total_counts'])\n",
    "\n",
    "print(f\"Mean: {mean_counts:.1f}, Median: {median_counts:.1f}, Std: {std_counts:.1f}\")\n",
    "\n",
    "# For PLA data:\n",
    "mean_counts = np.mean(adata_protein_pair.obs['n_protein_pair_by_counts'])\n",
    "median_counts = np.median(adata_protein_pair.obs['n_protein_pair_by_counts'])\n",
    "std_counts = np.std(adata_protein_pair.obs['n_protein_pair_by_counts'])\n",
    "\n",
    "print(f\"Mean: {mean_counts:.1f}, Median: {median_counts:.1f}, Std: {std_counts:.1f}\")\n"
   ]
  },
  {
   "cell_type": "code",
   "execution_count": null,
   "id": "2ac0548b-4409-423a-9e20-7d5625108484",
   "metadata": {
    "tags": []
   },
   "outputs": [],
   "source": [
    "#similar preprocess to PLA data\n",
    "adata_protein_pair.layers[\"counts\"] = adata_protein_pair.X.copy() # preserve counts\n",
    "sc.pp.normalize_total(adata_protein_pair, target_sum=1e4) # scale each cell to a common library size\n",
    "sc.pp.log1p(adata_protein_pair) # log(expression + 1)\n",
    "adata_protein_pair.raw = adata_protein_pair.copy() # freeze the state in `.raw`\n",
    "adata_protein_pair.write(\"adata_B1_protein_pair_raw_data.h5ad\")\n",
    "sc.pp.scale(adata_protein_pair, max_value=10)"
   ]
  },
  {
   "cell_type": "code",
   "execution_count": null,
   "id": "6aa21e11-6417-4f8a-98bd-f4356362be9f",
   "metadata": {
    "tags": []
   },
   "outputs": [],
   "source": [
    "sc.tl.pca(adata_protein_pair, svd_solver='arpack')"
   ]
  },
  {
   "cell_type": "code",
   "execution_count": null,
   "id": "aa598af4-a21f-43f9-b0b3-cc036a3e0a3d",
   "metadata": {
    "tags": []
   },
   "outputs": [],
   "source": [
    "sc.pl.pca_variance_ratio(adata_protein_pair, log=True)"
   ]
  },
  {
   "cell_type": "code",
   "execution_count": null,
   "id": "36e6d8a1-efbd-4daa-9f51-db38c685ce10",
   "metadata": {
    "tags": []
   },
   "outputs": [],
   "source": [
    "sc.pp.neighbors(adata_protein_pair, n_neighbors=15, n_pcs=15)\n",
    "sc.tl.umap(adata_protein_pair)"
   ]
  },
  {
   "cell_type": "code",
   "execution_count": null,
   "id": "4664b954-4d94-4a11-bffb-7fb81f8e4994",
   "metadata": {
    "tags": []
   },
   "outputs": [],
   "source": [
    "sc.tl.leiden(adata_protein_pair,key_added='leiden_pla',resolution=0.6)\n",
    "sc.pl.spatial(adata_protein_pair,color='leiden_pla', save = 'Extended-Fig-4c-2.svg' )"
   ]
  },
  {
   "cell_type": "code",
   "execution_count": null,
   "id": "71b55547-5c33-4537-9a4b-ed339de47b3d",
   "metadata": {
    "tags": []
   },
   "outputs": [],
   "source": [
    "sc.pl.umap(adata_protein_pair,color='leiden_pla', save = 'Extended-Fig-4c-1.svg' )"
   ]
  },
  {
   "cell_type": "code",
   "execution_count": null,
   "id": "b0d4f177-d72c-440a-8d5b-2d907079abf6",
   "metadata": {
    "tags": []
   },
   "outputs": [],
   "source": [
    "sc.tl.rank_genes_groups(adata_protein_pair, groupby='leiden_pla', method='wilcoxon')\n",
    "sc.pl.rank_genes_groups(adata_protein_pair, groupby='leiden_pla', method='wilcoxon')"
   ]
  },
  {
   "cell_type": "code",
   "execution_count": null,
   "id": "a7ca9611-2936-4804-9b7c-6dcf6d16fc72",
   "metadata": {
    "tags": []
   },
   "outputs": [],
   "source": [
    "sc.tl.dendrogram(adata_protein_pair, groupby='leiden_pla', key_added='dendrogram_annotation')"
   ]
  },
  {
   "cell_type": "code",
   "execution_count": null,
   "id": "70e139a9-2e60-4a85-85c5-bff1c3951a14",
   "metadata": {
    "tags": []
   },
   "outputs": [],
   "source": [
    "sc.pl.rank_genes_groups_heatmap(adata_protein_pair, n_genes=4, groupby='leiden_pla', swap_axes=True, use_raw=False, vmin=-4, vmax=4,\n",
    "                                cmap='bwr', figsize=(10, 10))"
   ]
  },
  {
   "cell_type": "code",
   "execution_count": null,
   "id": "69a66a9b-33a6-4dff-a51e-ea6b2ed5cc8a",
   "metadata": {
    "tags": []
   },
   "outputs": [],
   "source": [
    "adata_protein_pair.obs['leiden_mrna'] = adata.obs['leiden_mrna']\n",
    "adata_protein_pair.obs['mrna_annotation'] = adata.obs['mrna_annotation']"
   ]
  },
  {
   "cell_type": "code",
   "execution_count": null,
   "id": "f25a5de9-4b6d-4635-91da-f4ecdce3f976",
   "metadata": {
    "tags": []
   },
   "outputs": [],
   "source": [
    "sc.pl.umap(adata_protein_pair,color='mrna_annotation')"
   ]
  },
  {
   "cell_type": "code",
   "execution_count": null,
   "id": "f4770106-576b-454f-a68c-8f12d4ba0798",
   "metadata": {
    "tags": []
   },
   "outputs": [],
   "source": [
    "sc.pl.umap(adata_protein_pair,color='leiden_pla')"
   ]
  },
  {
   "cell_type": "code",
   "execution_count": null,
   "id": "387fd11d-60b8-476a-9403-043573dddc11",
   "metadata": {
    "tags": []
   },
   "outputs": [],
   "source": [
    "sc.tl.dendrogram(adata_protein_pair, groupby='mrna_annotation', key_added='dendrogram_annotation')"
   ]
  },
  {
   "cell_type": "code",
   "execution_count": null,
   "id": "539afe21-6234-43f4-bbc2-0fc1adfc891e",
   "metadata": {
    "tags": []
   },
   "outputs": [],
   "source": [
    "sc.pl.rank_genes_groups_heatmap(adata_protein_pair, n_genes=5, groupby='mrna_annotation', swap_axes=True, use_raw=False, vmin=-4, vmax=4,\n",
    "                                cmap='bwr', figsize=(10, 15))"
   ]
  },
  {
   "cell_type": "code",
   "execution_count": null,
   "id": "6c088a6e-86a7-4184-8ef2-b30b3d7c1e0c",
   "metadata": {
    "tags": []
   },
   "outputs": [],
   "source": [
    "#plot it and you can get similar result as RNA \n",
    "adata_protein = adata_protein[adata_protein.obs.index.isin(list(obs_names))]\n",
    "adata_protein.obs['protein'] = 'protein'\n",
    "# plt.rcParams[\"figure.figsize\"] = (8, 8)\n",
    "#sc.pl.spatial(adata_protein, color = 'protein')\n",
    "adata_protein.var['IgG'] = adata_protein.var_names.str.contains('IgG1a')\n",
    "adata_protein.var['feature_types'] = 'protein'\n",
    "sc.pp.calculate_qc_metrics(\n",
    "    adata_protein,\n",
    "    percent_top=(5, 10, 15),\n",
    "    var_type=\"protein\",\n",
    "    qc_vars=(\"IgG\",),\n",
    "    inplace=True,\n",
    ")"
   ]
  },
  {
   "cell_type": "code",
   "execution_count": null,
   "id": "5ec8a901-42ff-4151-9d82-574c9e287f5d",
   "metadata": {
    "tags": []
   },
   "outputs": [],
   "source": [
    "sc.pl.spatial(adata_protein, color = ['total_counts','n_protein_by_counts'],  size = 1.5, save = 'Extended-Fig-2d.svg')"
   ]
  },
  {
   "cell_type": "code",
   "execution_count": null,
   "id": "05c56e25-4aaf-416b-90c1-b1294abcc5b6",
   "metadata": {
    "tags": []
   },
   "outputs": [],
   "source": [
    "# For protein data:\n",
    "mean_counts = np.mean(adata_protein.obs['total_counts'])\n",
    "median_counts = np.median(adata_protein.obs['total_counts'])\n",
    "std_counts = np.std(adata_protein.obs['total_counts'])\n",
    "\n",
    "print(f\"Mean: {mean_counts:.1f}, Median: {median_counts:.1f}, Std: {std_counts:.1f}\")\n",
    "\n",
    "# For protein data:\n",
    "mean_counts = np.mean(adata_protein.obs['n_protein_by_counts'])\n",
    "median_counts = np.median(adata_protein.obs['n_protein_by_counts'])\n",
    "std_counts = np.std(adata_protein.obs['n_protein_by_counts'])\n",
    "\n",
    "print(f\"Mean: {mean_counts:.1f}, Median: {median_counts:.1f}, Std: {std_counts:.1f}\")\n"
   ]
  },
  {
   "cell_type": "code",
   "execution_count": null,
   "id": "aec70d0f-03a2-4ebf-a92d-e0ce25256e8a",
   "metadata": {
    "tags": []
   },
   "outputs": [],
   "source": [
    "adata_protein.layers[\"counts\"] = adata_protein.X.copy() # preserve counts\n",
    "sc.pp.normalize_total(adata_protein, target_sum=1e4) # scale each cell to a common library size\n",
    "sc.pp.log1p(adata_protein) # log(expression + 1)\n",
    "adata_protein.raw = adata_protein.copy() # freeze the state in `.raw`\n",
    "adata_protein.write(\"adata_B1_protein_raw_data.h5ad\")\n",
    "sc.pp.scale(adata_protein, max_value=10)\n",
    "sc.tl.pca(adata_protein, svd_solver='arpack')"
   ]
  },
  {
   "cell_type": "code",
   "execution_count": null,
   "id": "5d6510b2-f55d-455b-b72d-fcd6073840f0",
   "metadata": {
    "tags": []
   },
   "outputs": [],
   "source": [
    "sc.pl.pca_variance_ratio(adata_protein, log=True)"
   ]
  },
  {
   "cell_type": "code",
   "execution_count": null,
   "id": "a9fedbb2-b9a6-43e3-8472-fe30d724c10d",
   "metadata": {
    "tags": []
   },
   "outputs": [],
   "source": [
    "sc.pp.neighbors(adata_protein, n_neighbors=10, n_pcs=20)\n",
    "sc.tl.umap(adata_protein)"
   ]
  },
  {
   "cell_type": "code",
   "execution_count": null,
   "id": "bfcde195-4ea6-40c9-8cd1-ef682680ac4d",
   "metadata": {
    "tags": []
   },
   "outputs": [],
   "source": [
    "sc.tl.leiden(adata_protein,key_added='leiden_protein',resolution=0.5)\n",
    "sc.pl.spatial(adata_protein, color = ['leiden_protein'], save = 'Extended-Fig-4b-2.svg' )"
   ]
  },
  {
   "cell_type": "code",
   "execution_count": null,
   "id": "ff737a47-ce34-47ac-867d-5cce6d385077",
   "metadata": {
    "tags": []
   },
   "outputs": [],
   "source": [
    "sc.pl.umap(adata_protein, color = ['leiden_protein'], save = 'Extended-Fig-4b-1.svg')"
   ]
  },
  {
   "cell_type": "code",
   "execution_count": null,
   "id": "014104ac-6f5d-4907-afda-7c2b860b2f26",
   "metadata": {
    "tags": []
   },
   "outputs": [],
   "source": [
    "# Copy cluster annotation from `adata` to `adata_pearson`\n",
    "adata_protein.obs['mrna_annotation'] = adata.obs['mrna_annotation']\n"
   ]
  },
  {
   "cell_type": "code",
   "execution_count": null,
   "id": "66282212-a48f-4953-9794-fe74405df862",
   "metadata": {
    "tags": []
   },
   "outputs": [],
   "source": [
    "sc.tl.rank_genes_groups(adata_protein, groupby='mrna_annotation', method='wilcoxon')\n",
    "sc.pl.rank_genes_groups(adata_protein, groupby='mrna_annotation', method='wilcoxon')"
   ]
  },
  {
   "cell_type": "code",
   "execution_count": null,
   "id": "375bf695-63eb-4538-b7b3-eb09c5e5d89a",
   "metadata": {
    "tags": []
   },
   "outputs": [],
   "source": [
    "sc.tl.dendrogram(adata_protein, groupby='mrna_annotation', key_added='dendrogram_annotation')"
   ]
  },
  {
   "cell_type": "code",
   "execution_count": null,
   "id": "75132b92-74f8-4065-837f-c688a6232f6e",
   "metadata": {
    "tags": []
   },
   "outputs": [],
   "source": [
    "sc.pl.rank_genes_groups_heatmap(\n",
    "    adata_protein,\n",
    "    groupby='mrna_annotation',\n",
    "    swap_axes=True,\n",
    "    cmap='bwr',\n",
    "    use_raw=False,\n",
    "    n_genes = 5,\n",
    "    vmin=-5,\n",
    "    vmax=5,\n",
    "    figsize=(10,9)\n",
    ")"
   ]
  },
  {
   "cell_type": "code",
   "execution_count": null,
   "id": "cfc072bd-e693-481a-8126-5ad96f1dd6f2",
   "metadata": {},
   "outputs": [],
   "source": [
    "custom_protein_order = [ 'CD35', 'VCAM1',  'IgM','HIgG', 'CD86','PDL2', 'CD21', 'CD23', 'IgD', 'CD20', 'CD19',  'CD40', 'ITGA4', 'CD24', 'LFA1','CD11a',\n",
    "    'CD29','CD81','CD38', 'CD8',  'CD3',  'CD4','CD27','CD279','CD28', 'CD32','CD9', 'CD147','ICAM1',]\n",
    "\n",
    "# Plot the heatmap using your custom protein order\n",
    "sc.pl.rank_genes_groups_heatmap(\n",
    "    adata_protein,\n",
    "    groupby='mrna_annotation',\n",
    "    var_names=custom_protein_order,  # Use your custom order here\n",
    "    swap_axes=True,\n",
    "    cmap='RdBu_r',\n",
    "    use_raw=False,\n",
    "    vmin=-3.5,\n",
    "    vmax=3.5,\n",
    "    save='Extended-Fig-6a.svg',\n",
    "    figsize=(7, 7)\n",
    ")\n"
   ]
  },
  {
   "cell_type": "code",
   "execution_count": null,
   "id": "c012ef11-3918-4dc6-9cf6-51a4d198015c",
   "metadata": {
    "tags": []
   },
   "outputs": [],
   "source": [
    "sc.pl.umap(adata_protein,color='leiden_protein')"
   ]
  },
  {
   "cell_type": "code",
   "execution_count": null,
   "id": "888cc094-afa7-4225-bf67-cb6731392832",
   "metadata": {
    "tags": []
   },
   "outputs": [],
   "source": [
    "sc.pl.umap(adata_protein,color='mrna_annotation')"
   ]
  },
  {
   "cell_type": "code",
   "execution_count": null,
   "id": "d4a24355-909e-4ba7-99e9-3286bf0628b8",
   "metadata": {
    "tags": []
   },
   "outputs": [],
   "source": [
    "sc.pl.spatial(adata_protein, color = ['VCAM1', ], cmap='coolwarm', spot_size=45, save = 'Fig-6b-2.svg')"
   ]
  },
  {
   "cell_type": "code",
   "execution_count": null,
   "id": "8edb6c8b-c701-48cf-9cee-cec3851f3b8a",
   "metadata": {
    "tags": []
   },
   "outputs": [],
   "source": [
    "sc.pl.spatial(adata_protein, color = ['ITGA4', ], cmap='coolwarm', spot_size=45, save = 'Fig-6b-1.svg')"
   ]
  },
  {
   "cell_type": "code",
   "execution_count": null,
   "id": "7835b90a-2f3d-43f0-a4e7-8d4a518778d8",
   "metadata": {},
   "outputs": [],
   "source": [
    "fraction_overlap = pd.read_csv('B1_weighted_sc_pla.csv', index_col=0)\n",
    "adata_fraction = sc.AnnData(fraction_overlap.transpose().to_numpy(), obsm={'spatial': tissue_barcode[['pxl_col_in_fullres','pxl_row_in_fullres']].to_numpy()}, obs=tissue_barcode[['in_tissue','array_row','array_col']])\n",
    "adata_fraction.var.index = fraction_overlap.index\n",
    "set_uns_parameters(adata_fraction, library_id, image)\n",
    "#keep index both in rna and pla\n",
    "obs_names = adata_fraction.obs.index.intersection(adata.obs.index)\n",
    "adata_fraction = adata_fraction[adata_fraction.obs.index.isin(list(obs_names))]\n",
    "#similar preprocess to PLA data\n",
    "adata_fraction.layers[\"counts\"] = adata_fraction.X.copy() # preserve counts\n",
    "# sc.pp.normalize_total(adata_w, target_sum=1e4) # scale each cell to a common library size\n",
    "# sc.pp.log1p(adata_w) #log(expression + 1)\n",
    "adata_fraction.raw = adata_fraction.copy() # freeze the state in `.raw`\n",
    "sc.pp.scale(adata_fraction, max_value=10)\n",
    "sc.tl.pca(adata_fraction, svd_solver='arpack')\n",
    "sc.pl.pca_variance_ratio(adata_fraction, log=True)\n",
    "sc.pp.neighbors(adata_fraction, n_neighbors=10, n_pcs=6)\n",
    "sc.tl.umap(adata_fraction)\n",
    "sc.tl.leiden(adata_fraction,key_added='Fractional_overlap',resolution=0.5)\n",
    "sc.pl.spatial(adata_fraction, color = ['Fractional_overlap'], save='Extended-Fig-9c.svg')\n"
   ]
  },
  {
   "cell_type": "code",
   "execution_count": null,
   "id": "0961334a-1d25-4270-a2b1-2f009c4c18f5",
   "metadata": {},
   "outputs": [],
   "source": [
    "sc.pl.spatial(adata_protein_pair, color = ['ITGA4:VCAM1' ], layer = 'counts', cmap='coolwarm', spot_size=45,vmin = 0, vmax = 45, save = 'Fig-6b-3.svg')"
   ]
  },
  {
   "cell_type": "code",
   "execution_count": null,
   "id": "5bd37f8b-516d-4350-92a7-e9c2b54d0636",
   "metadata": {},
   "outputs": [],
   "source": [
    "# Copy cluster annotation from `adata` to `adata_pearson`\n",
    "adata_fraction.obs['mrna_annotation'] = adata.obs['mrna_annotation']"
   ]
  },
  {
   "cell_type": "code",
   "execution_count": null,
   "id": "8d4b5ddc-7234-431d-8a62-026733082eb9",
   "metadata": {},
   "outputs": [],
   "source": [
    "sc.tl.rank_genes_groups(adata_fraction, groupby='mrna_annotation', method='wilcoxon')\n",
    "sc.pl.rank_genes_groups(adata_fraction, groupby='mrna_annotation', method='wilcoxon')"
   ]
  },
  {
   "cell_type": "code",
   "execution_count": null,
   "id": "4f12d306-675a-40a5-a07d-6319a5d6e917",
   "metadata": {},
   "outputs": [],
   "source": [
    "sc.tl.dendrogram(adata_fraction, groupby='mrna_annotation', key_added='dendrogram_annotation')"
   ]
  },
  {
   "cell_type": "code",
   "execution_count": null,
   "id": "d66eef35-3bf3-4671-ac01-b7be678558f5",
   "metadata": {},
   "outputs": [],
   "source": [
    "sc.pl.rank_genes_groups_heatmap(\n",
    "    adata_fraction,\n",
    "    groupby='mrna_annotation',\n",
    "    swap_axes=True,\n",
    "    cmap='bwr',\n",
    "    use_raw=False,\n",
    "    n_genes = 4,\n",
    "    vmin=-5,\n",
    "    vmax=5,\n",
    "    figsize=(8,10)\n",
    ")\n"
   ]
  },
  {
   "cell_type": "code",
   "execution_count": null,
   "id": "6b23cb4e-6cec-4aef-98f7-246d7df8d21f",
   "metadata": {
    "tags": []
   },
   "outputs": [],
   "source": [
    "import seaborn as sns\n",
    "import matplotlib.pyplot as plt\n",
    "import pandas as pd\n",
    "from scipy.stats import mannwhitneyu\n",
    "import os\n",
    "\n",
    "# Extract data\n",
    "adata = adata_protein_pair\n",
    "pair = 'ITGA4:VCAM1'\n",
    "\n",
    "# Get raw counts from layers\n",
    "counts = adata[:, pair].layers[\"counts\"].toarray().flatten()\n",
    "zones = adata.obs[\"mrna_annotation\"]\n",
    "\n",
    "# Build DataFrame and filter only Light zone and Dark zone\n",
    "df = pd.DataFrame({\n",
    "    \"ITGA4:VCAM1\": counts,\n",
    "    \"Zone\": zones\n",
    "})\n",
    "df = df[df[\"Zone\"].isin([\"Dark zone\", \"Light zone\"])]\n",
    "\n",
    "# Define order and color palette\n",
    "order = [\"Dark zone\", \"Light zone\"]\n",
    "palette = {\n",
    "    \"Dark zone\": \"#66c2a5\",\n",
    "    \"Light zone\": \"#fc8d62\"\n",
    "}\n",
    "\n",
    "# Perform statistical test\n",
    "group1 = df[df[\"Zone\"] == \"Dark zone\"][\"ITGA4:VCAM1\"]\n",
    "group2 = df[df[\"Zone\"] == \"Light zone\"][\"ITGA4:VCAM1\"]\n",
    "stat, p_value = mannwhitneyu(group1, group2, alternative='two-sided')\n",
    "print(f\"🔍 Mann-Whitney U test p-value: {p_value:.4g}\")\n",
    "\n",
    "# Determine significance stars\n",
    "if p_value < 0.001:\n",
    "    stars = '***'\n",
    "elif p_value < 0.01:\n",
    "    stars = '**'\n",
    "elif p_value < 0.05:\n",
    "    stars = '*'\n",
    "else:\n",
    "    stars = 'ns'\n",
    "\n",
    "# Plot\n",
    "plt.figure(figsize=(3.5, 3))\n",
    "ax = sns.boxplot(\n",
    "    data=df,\n",
    "    x=\"Zone\",\n",
    "    y=\"ITGA4:VCAM1\",\n",
    "    order=order,\n",
    "    palette=palette,\n",
    "    showcaps=True,\n",
    "    boxprops=dict(linewidth=0),  # ⬅️ Remove box border\n",
    "    whiskerprops=dict(linewidth=1),\n",
    "    medianprops=dict(linewidth=1, color='black')\n",
    ")\n",
    "sns.stripplot(data=df, x=\"Zone\", y=\"ITGA4:VCAM1\", color=\"black\", size=2, jitter=True, alpha=0.3, order=order)\n",
    "\n",
    "# Draw significance bar\n",
    "y_max = df[\"ITGA4:VCAM1\"].max()\n",
    "y1 = y_max * 0.95\n",
    "y2 = y_max * 0.95\n",
    "x1, x2 = 0, 1\n",
    "ax.plot([x1, x1, x2, x2], [y1, y2, y2, y1], lw=1.2, color='black')\n",
    "ax.text((x1 + x2) / 2, y2 - 0.5, stars, ha='center', va='bottom', fontsize=10)\n",
    "\n",
    "# Labels and layout\n",
    "plt.ylabel(\"Raw counts\")\n",
    "plt.xlabel(\"\")\n",
    "plt.title(\"ITGA4:VCAM1\")\n",
    "plt.tight_layout()\n",
    "\n",
    "# Save figure\n",
    "os.makedirs(\"Figures\", exist_ok=True)\n",
    "plt.savefig(\"Fig-6d-2.svg\", dpi=300)\n",
    "\n",
    "plt.show()\n"
   ]
  },
  {
   "cell_type": "code",
   "execution_count": null,
   "id": "1faac0f0-6749-4d4b-bcc3-4e327e9c8c15",
   "metadata": {},
   "outputs": [],
   "source": []
  }
 ],
 "metadata": {
  "kernelspec": {
   "display_name": "Python 3 (ipykernel)",
   "language": "python",
   "name": "python3"
  },
  "language_info": {
   "codemirror_mode": {
    "name": "ipython",
    "version": 3
   },
   "file_extension": ".py",
   "mimetype": "text/x-python",
   "name": "python",
   "nbconvert_exporter": "python",
   "pygments_lexer": "ipython3",
   "version": "3.10.9"
  }
 },
 "nbformat": 4,
 "nbformat_minor": 5
}
