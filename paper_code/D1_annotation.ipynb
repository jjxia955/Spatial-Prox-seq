{
 "cells": [
  {
   "cell_type": "code",
   "execution_count": null,
   "id": "2d8766c2-16cc-41da-91a9-484ff0469f3a",
   "metadata": {
    "tags": []
   },
   "outputs": [],
   "source": [
    "# Import libraries\n",
    "import numpy as np\n",
    "import math\n",
    "import random\n",
    "import pandas as pd\n",
    "import scipy.stats as stats\n",
    "from statsmodels.stats.multitest import multipletests\n",
    "import statsmodels.api as sm # linear regression\n",
    "import seaborn as sns\n",
    "import matplotlib as mpl\n",
    "import matplotlib.pyplot as plt\n",
    "import matplotlib.image as mpimg\n",
    "import scanpy as sc\n",
    "import os\n",
    "import ProxseqClasses as PC\n",
    "import SpatialproxseqClasses as SPC\n",
    "\n",
    "#*****\n",
    "mpl.rcdefaults()\n",
    "# Set font to be arial\n",
    "mpl.rc('font', **{'sans-serif':'Arial', 'size':12})\n",
    "mpl.rcParams['mathtext.rm'] = 'sans' \n",
    "mpl.rcParams['axes.titlesize'] = 12\n",
    "# Set default tick size\n",
    "mpl.rcParams['xtick.major.size'] = 5.5\n",
    "mpl.rcParams['ytick.major.size'] = 5.5\n",
    "mpl.rcParams['xtick.minor.size'] = 2.5\n",
    "mpl.rcParams['ytick.minor.size'] = 2.5\n",
    "# Default legend settings\n",
    "mpl.rcParams['legend.fancybox'] = False\n",
    "mpl.rcParams['legend.edgecolor'] = 'k'\n",
    "\n",
    "#to store text as text, not as path\n",
    "new_rc_params = {'text.usetex': False,\n",
    "                 \"svg.fonttype\": 'none'}\n",
    "mpl.rcParams.update(new_rc_params)\n",
    "#*****\n",
    "# Seed number\n",
    "np.random.seed(2025)\n",
    "random.seed(2025)"
   ]
  },
  {
   "cell_type": "code",
   "execution_count": null,
   "id": "5d7466b7-2c23-4723-bfe5-640f9630b7a9",
   "metadata": {
    "tags": []
   },
   "outputs": [],
   "source": [
    "#for spatial_RNA data load, just apply sc.read_visium \n",
    "#read_visium data \n",
    "adata = sc.read_visium('D1_outs')\n",
    "adata.var_names_make_unique()\n",
    "adata.obs['mRNA']= 'RNA'\n",
    "#mitochodria gene\n",
    "adata.var[\"mt\"] = adata.var_names.str.startswith(\"MT-\")\n",
    "sc.pp.calculate_qc_metrics(adata, qc_vars=[\"mt\"], inplace=True)\n",
    "sc.set_figure_params(figsize=(4, 4))\n"
   ]
  },
  {
   "cell_type": "code",
   "execution_count": null,
   "id": "eb222b06-bb32-47f2-bfbd-e5caf2266db9",
   "metadata": {
    "tags": []
   },
   "outputs": [],
   "source": [
    "print(adata.shape)"
   ]
  },
  {
   "cell_type": "code",
   "execution_count": null,
   "id": "b576c8be-522e-46f0-b0b3-d0e8354020bf",
   "metadata": {
    "tags": []
   },
   "outputs": [],
   "source": [
    "sc.pl.spatial(adata, color = ['total_counts', 'n_genes_by_counts'], size = 1.5,save = 'Extended-Fig-2f.svg')"
   ]
  },
  {
   "cell_type": "code",
   "execution_count": null,
   "id": "a11efe6b-4afd-4d99-9eeb-248a3314ea41",
   "metadata": {},
   "outputs": [],
   "source": [
    "sc.pl.spatial(adata, color=None, spot_size=0, save = 'Extended-Fig-2e.svg')"
   ]
  },
  {
   "cell_type": "code",
   "execution_count": null,
   "id": "b11bc497-639a-4ccc-b9ca-c015a8c84614",
   "metadata": {
    "tags": []
   },
   "outputs": [],
   "source": [
    "# For RNA data:\n",
    "mean_counts = np.mean(adata.obs['total_counts'])\n",
    "median_counts = np.median(adata.obs['total_counts'])\n",
    "std_counts = np.std(adata.obs['total_counts'])\n",
    "\n",
    "print(f\"Mean: {mean_counts:.1f}, Median: {median_counts:.1f}, Std: {std_counts:.1f}\")\n",
    "\n",
    "# For RNA data:\n",
    "mean_counts = np.mean(adata.obs['n_genes_by_counts'])\n",
    "median_counts = np.median(adata.obs['n_genes_by_counts'])\n",
    "std_counts = np.std(adata.obs['n_genes_by_counts'])\n",
    "\n",
    "print(f\"Mean: {mean_counts:.1f}, Median: {median_counts:.1f}, Std: {std_counts:.1f}\")\n"
   ]
  },
  {
   "cell_type": "code",
   "execution_count": null,
   "id": "b7896b78-67d0-454c-9f8f-69cad021e7a7",
   "metadata": {
    "tags": []
   },
   "outputs": [],
   "source": [
    "#QC_scatter_plot\n",
    "plt.rcParams[\"figure.figsize\"] = (4, 4)\n",
    "sc.pl.scatter(adata, x='total_counts', y='pct_counts_mt')\n",
    "sc.pl.scatter(adata, x='total_counts', y='n_genes_by_counts')"
   ]
  },
  {
   "cell_type": "code",
   "execution_count": null,
   "id": "cb24dcf1-ff5a-463c-9bb8-ef974d218c5a",
   "metadata": {
    "tags": []
   },
   "outputs": [],
   "source": [
    "#perform UMI based filter\n",
    "sc.pp.filter_cells(adata, min_counts = 1000)\n",
    "sc.pp.filter_genes(adata, min_cells=3)"
   ]
  },
  {
   "cell_type": "code",
   "execution_count": null,
   "id": "b6fe23eb-24a2-45a0-ba06-043aa2fcb339",
   "metadata": {
    "tags": []
   },
   "outputs": [],
   "source": [
    "adata.layers[\"counts\"] = adata.X.copy() # preserve counts\n",
    "sc.pp.normalize_total(adata, target_sum=1e4) # scale each cell to a common library size\n",
    "sc.pp.log1p(adata) # log(expression + 1)\n",
    "adata.raw = adata.copy() # freeze the state in `.raw`\n",
    "adata.write(\"adata_D1_rna_raw_data.h5ad\")"
   ]
  },
  {
   "cell_type": "code",
   "execution_count": null,
   "id": "29f9b201-c675-4ef6-854a-6703e4f4f8e5",
   "metadata": {
    "tags": []
   },
   "outputs": [],
   "source": [
    "sc.pp.highly_variable_genes(\n",
    "    adata,\n",
    "    n_top_genes=4000,\n",
    "    layer=\"counts\",\n",
    "    flavor=\"seurat_v3\"\n",
    ")"
   ]
  },
  {
   "cell_type": "code",
   "execution_count": null,
   "id": "4f9a3e3f-292d-4fba-bfd3-2018e82ac991",
   "metadata": {
    "tags": []
   },
   "outputs": [],
   "source": [
    "sc.pl.highly_variable_genes(adata, log=True)\n",
    "# subset to highly variable genes\n",
    "adata = adata[:, adata.var.highly_variable].copy()\n",
    "sc.pp.scale(adata, max_value=10) #normalize genes\n",
    "sc.tl.pca(adata, svd_solver='arpack')\n",
    "sc.pl.pca_variance_ratio(adata, log=True)"
   ]
  },
  {
   "cell_type": "code",
   "execution_count": null,
   "id": "b9d1149f-b8cf-46c3-96ca-26021b64dded",
   "metadata": {
    "tags": []
   },
   "outputs": [],
   "source": [
    "sc.pp.neighbors(adata, n_neighbors=20, n_pcs=15) # compute nearest neighbors, k=10 here and n_pcs=30 according to the variance ratio\n",
    "sc.tl.umap(adata)"
   ]
  },
  {
   "cell_type": "code",
   "execution_count": null,
   "id": "8384200f-1af3-4f6f-b045-78bbd31f9684",
   "metadata": {
    "tags": []
   },
   "outputs": [],
   "source": [
    "sc.tl.leiden(adata, resolution = 0.5, key_added='leiden_mrna') # resolution is customly chosen\n",
    "sc.pl.spatial(adata, color = ['leiden_mrna'],save = 'Extended-Fig-4d-2.svg')"
   ]
  },
  {
   "cell_type": "code",
   "execution_count": null,
   "id": "d84a851c-6853-4cc8-9318-c0bd74b9c73c",
   "metadata": {
    "tags": []
   },
   "outputs": [],
   "source": [
    "sc.pl.umap(adata, color = ['leiden_mrna'],save = 'Extended-Fig-4d-1.svg')"
   ]
  },
  {
   "cell_type": "code",
   "execution_count": null,
   "id": "8e55b1a6-13b1-4c10-9ab6-898636e3dccf",
   "metadata": {
    "tags": []
   },
   "outputs": [],
   "source": [
    "# Step 1: Subset GC cluster (2 and 3)\n",
    "adata_gc = adata[adata.obs[\"leiden_mrna\"] .isin([\"0\", \"6\",])].copy()\n",
    "\n",
    "# Step 2: Re-cluster\n",
    "# restore raw counts\n",
    "adata_gc.X = adata_gc.layers[\"counts\"].copy()\n",
    "\n",
    "# store raw counts for dotplot etc.\n",
    "adata_gc.raw = adata_gc.copy()\n",
    "\n",
    "# normalization and clustering\n",
    "sc.pp.normalize_total(adata_gc, target_sum=1e4)\n",
    "sc.pp.log1p(adata_gc)\n",
    "sc.pp.highly_variable_genes(adata_gc, n_top_genes=4000)\n",
    "adata_gc = adata_gc[:, adata_gc.var[\"highly_variable\"]].copy()\n",
    "sc.pp.scale(adata_gc)\n",
    "sc.tl.pca(adata_gc)\n",
    "sc.pp.neighbors(adata_gc)\n",
    "sc.tl.umap(adata_gc)"
   ]
  },
  {
   "cell_type": "code",
   "execution_count": null,
   "id": "9fc4a8dd-ab24-4745-b1b0-aef74c049628",
   "metadata": {
    "tags": []
   },
   "outputs": [],
   "source": [
    "sc.tl.leiden(adata_gc, resolution=0.2)"
   ]
  },
  {
   "cell_type": "code",
   "execution_count": null,
   "id": "5a43723f-f5bf-46b1-81a8-e70ac1459b50",
   "metadata": {
    "tags": []
   },
   "outputs": [],
   "source": [
    "sc.pl.umap(adata_gc, color = ['leiden'], size = 30)"
   ]
  },
  {
   "cell_type": "code",
   "execution_count": null,
   "id": "599ad5dc-9a83-4cb2-bddd-aaed460c4544",
   "metadata": {
    "tags": []
   },
   "outputs": [],
   "source": [
    "# Step 3: assign back the refined cluster labels to original data\n",
    "adata.obs.loc[adata.obs[\"leiden_mrna\"].isin([\"0\", \"6\"]), \"lz_dz_subtype\"] = adata_gc.obs[\"leiden\"].values\n",
    "\n"
   ]
  },
  {
   "cell_type": "code",
   "execution_count": null,
   "id": "00098111-c870-4ca1-b38a-eaf1b8d6801b",
   "metadata": {
    "tags": []
   },
   "outputs": [],
   "source": [
    "mask = adata.obs[\"leiden_mrna\"].isin([\"0\", \"6\"])\n",
    "adata.obs.loc[mask & (adata.obs[\"lz_dz_subtype\"] == \"0\"), \"leiden_mrna\"] = \"0\"\n",
    "adata.obs.loc[mask & (adata.obs[\"lz_dz_subtype\"] == \"1\"), \"leiden_mrna\"] = \"6\""
   ]
  },
  {
   "cell_type": "code",
   "execution_count": null,
   "id": "14c511d0-5dc0-422a-a121-20221f62d4fa",
   "metadata": {
    "tags": []
   },
   "outputs": [],
   "source": [
    "sc.pl.umap(adata, color = ['leiden_mrna'])"
   ]
  },
  {
   "cell_type": "code",
   "execution_count": null,
   "id": "211e77d1-f1ee-4574-a0e2-61cc148f4ac0",
   "metadata": {
    "tags": []
   },
   "outputs": [],
   "source": [
    "cluster_mapping_mrna = {\n",
    "    '0': 'Light zone',\n",
    "    '1': 'Epithelial-basal cell',\n",
    "    '2': 'T:B border',\n",
    "    '3': 'Mantle zone',\n",
    "    '4': 'Epithelial-crypt',\n",
    "    '5': 'Epithelial-crypt',\n",
    "    '6': 'Dark zone',\n",
    "    '7': 'T cell zone',\n",
    "    '8': 'T cell zone',\n",
    "    '9': 'Epithelial-crypt',\n",
    "}\n",
    "# Create a new column with the combined cluster name\n",
    "adata.obs['mrna_annotation'] = adata.obs['leiden_mrna'].map(cluster_mapping_mrna).fillna(adata.obs['leiden_mrna'])\n"
   ]
  },
  {
   "cell_type": "code",
   "execution_count": null,
   "id": "3dd974fd-701b-48ba-8978-03c8598d7296",
   "metadata": {
    "tags": []
   },
   "outputs": [],
   "source": [
    "sc.tl.rank_genes_groups(adata, groupby='leiden_mrna', method='wilcoxon')\n",
    "sc.pl.rank_genes_groups(adata, groupby='leiden_mrna', method='wilcoxon')"
   ]
  },
  {
   "cell_type": "code",
   "execution_count": null,
   "id": "a6a7855f-c1ee-43c3-9e7b-0b920f6cd888",
   "metadata": {
    "tags": []
   },
   "outputs": [],
   "source": [
    "sc.tl.dendrogram(adata, groupby='leiden_mrna', key_added='dendrogram_annotation')"
   ]
  },
  {
   "cell_type": "code",
   "execution_count": null,
   "id": "490ea886-9871-44d3-8c45-5db3175104bb",
   "metadata": {
    "tags": []
   },
   "outputs": [],
   "source": [
    "sc.pl.rank_genes_groups_heatmap(adata, n_genes=5, groupby='leiden_mrna', swap_axes=True, use_raw=True, \n",
    "                                cmap='bwr', figsize=(10, 9))"
   ]
  },
  {
   "cell_type": "code",
   "execution_count": null,
   "id": "f35020e6-5417-4054-a2be-d94c628d9193",
   "metadata": {
    "tags": []
   },
   "outputs": [],
   "source": [
    "sc.pl.umap(adata, color = ['S100A8', 'KRT5', 'SFN', 'S100A2', 'KRT14', 'SPINK5', 'S100A14', 'KRT6A', 'S100A16', 'KRT13', 'mrna_annotation' ], color_map='coolwarm', ) #basal cells"
   ]
  },
  {
   "cell_type": "code",
   "execution_count": null,
   "id": "3570a3f3-5b32-4d3b-aa0f-7ed232281013",
   "metadata": {
    "tags": []
   },
   "outputs": [],
   "source": [
    "sc.pl.dotplot(adata, ['S100A8', 'KRT5', 'SFN', 'S100A2', 'KRT14', 'SPINK5', 'S100A14', 'KRT6A', 'S100A16', 'KRT13',], groupby=\"mrna_annotation\") #basal"
   ]
  },
  {
   "cell_type": "code",
   "execution_count": null,
   "id": "fac254c2-50ca-4f28-ab85-4aa7be9b5023",
   "metadata": {
    "tags": []
   },
   "outputs": [],
   "source": [
    "sc.pl.umap(adata, color = ['ARHGEF16', 'ERRFI1', 'KAZN', 'EPHA2',   'ARHGEF10L', 'PLA2G2F', 'CAMK2N1', 'mrna_annotation'], vmin  = 0, vmax = 1.1, color_map='coolwarm', ) #Surface epithelium"
   ]
  },
  {
   "cell_type": "code",
   "execution_count": null,
   "id": "06a408d0-cfe4-47a8-97a6-9acb03abb1ea",
   "metadata": {
    "tags": []
   },
   "outputs": [],
   "source": [
    "sc.pl.dotplot(adata, ['ARHGEF16', 'ERRFI1', 'KAZN', 'EPHA2',   'ARHGEF10L', 'PLA2G2F', 'CAMK2N1',], groupby=\"mrna_annotation\") #Surface epithelium"
   ]
  },
  {
   "cell_type": "code",
   "execution_count": null,
   "id": "61e37b12-8e48-4a8f-b1e7-d539ad71ae5e",
   "metadata": {
    "tags": []
   },
   "outputs": [],
   "source": [
    "sc.pl.umap(adata, color = ['CD3D', 'CD3E', 'CD3G', 'CD2', 'IL7R', 'TCF7', 'CCR7', 'LEF1', 'NOSIP', 'GIMAP7', 'mrna_annotation' ], color_map='coolwarm', ) #CD4 naive"
   ]
  },
  {
   "cell_type": "code",
   "execution_count": null,
   "id": "79a61205-cc44-48cf-baaf-119a20b26c6e",
   "metadata": {
    "tags": []
   },
   "outputs": [],
   "source": [
    "sc.pl.dotplot(adata, ['CD3D', 'CD3E', 'CD4', 'CD3G', 'CD2', 'IL7R', 'TCF7', 'CCR7', 'LEF1', 'NOSIP', 'GIMAP7',], groupby=\"mrna_annotation\") #CD4 naive"
   ]
  },
  {
   "cell_type": "code",
   "execution_count": null,
   "id": "c7871b24-f4d2-4e2a-b100-d4a94b976e43",
   "metadata": {
    "tags": []
   },
   "outputs": [],
   "source": [
    "sc.pl.umap(adata, color = ['FCER2', 'IGHD', 'CD83', 'NFKB2', 'CD72', 'CD69', 'MYC', 'EGR3', 'REL', 'HLA-DQB1', 'mrna_annotation' ], color_map='coolwarm', ) #B active marker"
   ]
  },
  {
   "cell_type": "code",
   "execution_count": null,
   "id": "904fcebd-ee71-4619-b0da-5d5d8bdcc726",
   "metadata": {
    "tags": []
   },
   "outputs": [],
   "source": [
    "sc.pl.dotplot(adata, ['FCER2', 'IGHD', 'CD83', 'NFKB2', 'CD72', 'CD69', 'MYC', 'EGR3', 'REL', 'HLA-DQB1','CD27'], groupby=\"mrna_annotation\") #B active marker"
   ]
  },
  {
   "cell_type": "code",
   "execution_count": null,
   "id": "8ae82913-1859-4cc1-ac04-940a113e8a73",
   "metadata": {
    "tags": []
   },
   "outputs": [],
   "source": [
    "sc.pl.umap(adata, color = ['IGHD', 'IGHM', 'BANK1', 'FCER2', 'TCL1A', 'CD79B', 'MEF2C', 'MS4A1', 'CD79A', 'CD22','CD38', 'mrna_annotation' ], color_map='coolwarm', ) #B naive marker"
   ]
  },
  {
   "cell_type": "code",
   "execution_count": null,
   "id": "ed0b69a6-c82a-4199-bd08-e5c59ff41415",
   "metadata": {
    "tags": []
   },
   "outputs": [],
   "source": [
    "sc.pl.dotplot(adata, ['IGHD', 'IGHM', 'BANK1', 'FCER2', 'TCL1A', 'CD79B', 'MEF2C', 'MS4A1', 'CD79A', 'CD22',], groupby=\"mrna_annotation\") #B naive marker"
   ]
  },
  {
   "cell_type": "code",
   "execution_count": null,
   "id": "31792dca-76c6-430a-9fc3-ab8a012aaf3e",
   "metadata": {
    "tags": []
   },
   "outputs": [],
   "source": [
    "sc.pl.umap(adata, color = ['CD83','LMO2','BCL2A1','mrna_annotation'],  color_map='coolwarm', ) # light zone marker"
   ]
  },
  {
   "cell_type": "code",
   "execution_count": null,
   "id": "770fe616-07c6-4223-bdc0-51eee892266a",
   "metadata": {
    "tags": []
   },
   "outputs": [],
   "source": [
    "sc.pl.dotplot(adata,['CD83','LMO2','BCL2A1',],  groupby=\"mrna_annotation\") # light zone marker"
   ]
  },
  {
   "cell_type": "code",
   "execution_count": null,
   "id": "db663e10-35d7-4a95-9a8f-ae9155fad0cf",
   "metadata": {
    "tags": []
   },
   "outputs": [],
   "source": [
    "sc.pl.dotplot(adata,['PASK','ICOS','TIGIT','IL21','IFITM1'],  groupby=\"mrna_annotation\") # Tfh marker"
   ]
  },
  {
   "cell_type": "code",
   "execution_count": null,
   "id": "db02f2b8-706a-423f-9b54-85d43ec2808d",
   "metadata": {
    "tags": []
   },
   "outputs": [],
   "source": [
    "sc.pl.dotplot(adata,['FDCSP','CLU','CR2','CXCL13'],  groupby=\"mrna_annotation\") # FDC marker"
   ]
  },
  {
   "cell_type": "code",
   "execution_count": null,
   "id": "09902a63-c826-4bcf-870e-4ee7dfd22630",
   "metadata": {
    "tags": []
   },
   "outputs": [],
   "source": [
    "sc.pl.umap(adata, color = ['CXCR4','AICDA','MME','FOXP1','mrna_annotation'], color_map='coolwarm', ) #dark zone marker"
   ]
  },
  {
   "cell_type": "code",
   "execution_count": null,
   "id": "8d1b2a6b-279d-4af8-b8d8-a581eb985ac6",
   "metadata": {
    "tags": []
   },
   "outputs": [],
   "source": [
    "sc.pl.dotplot(adata,['CXCR4','AICDA','MME','FOXP1',],  groupby=\"mrna_annotation\") # dark zone marker"
   ]
  },
  {
   "cell_type": "code",
   "execution_count": null,
   "id": "5fc34343-f124-4c35-8f68-d16fc9564aac",
   "metadata": {
    "tags": []
   },
   "outputs": [],
   "source": [
    "sc.pl.umap(adata, color = ['LYZ', 'CST3', 'LGALS2', 'CPVL', 'FGL2', 'AIF1', 'LST1', 'SAMHD1', 'GSN', 'FCER1G','mrna_annotation'], color_map='coolwarm', ) #DC"
   ]
  },
  {
   "cell_type": "code",
   "execution_count": null,
   "id": "1f39bc0e-4377-4537-a749-10b50255182e",
   "metadata": {
    "tags": []
   },
   "outputs": [],
   "source": [
    "sc.pl.dotplot(adata,['LYZ', 'CST3', 'LGALS2', 'CPVL', 'FGL2', 'AIF1', 'LST1', 'SAMHD1', 'GSN', 'FCER1G',],  groupby=\"mrna_annotation\") #DC"
   ]
  },
  {
   "cell_type": "code",
   "execution_count": null,
   "id": "fbd910bc-169a-4e86-8037-30116c6562dc",
   "metadata": {
    "tags": []
   },
   "outputs": [],
   "source": [
    "sc.pl.spatial(adata, color = ['mrna_annotation'], save = 'Extended-Fig-4d-3.svg')"
   ]
  },
  {
   "cell_type": "code",
   "execution_count": null,
   "id": "bd4010ac-5665-4c73-9022-c0413775f255",
   "metadata": {
    "tags": []
   },
   "outputs": [],
   "source": [
    "cluster_df = pd.DataFrame({\n",
    "    'cell_index': adata.obs.index,\n",
    "    'leiden_mrna':adata.obs['leiden_mrna'],\n",
    "    'mrna_annotation': adata.obs['mrna_annotation'],\n",
    "})\n",
    "cluster_df.to_csv('D1_adata_mRNA_cell_clusters.csv', index=False)"
   ]
  },
  {
   "cell_type": "code",
   "execution_count": null,
   "id": "07659f06-2eee-410b-86b0-6ef514d5831a",
   "metadata": {
    "tags": []
   },
   "outputs": [],
   "source": [
    "sc.tl.rank_genes_groups(adata, groupby='leiden_mrna', method='wilcoxon')\n",
    "sc.pl.rank_genes_groups(adata, groupby='leiden_mrna', method='wilcoxon')"
   ]
  },
  {
   "cell_type": "code",
   "execution_count": null,
   "id": "ed427189-d562-46b8-be9e-fd963bb96ba1",
   "metadata": {
    "tags": []
   },
   "outputs": [],
   "source": [
    "custom_gene_names = [\n",
    "    'CR1', 'VCAM1', 'IGHM', 'IGHG1', 'CD86', 'PDCD1LG2', 'CR2', 'FCER2', 'IGHD',\n",
    "    'MS4A1', 'CD19', 'CD40', 'ITGA4', 'ITGB1', 'CD81', 'CD38', 'CD8A', 'CD3E', \n",
    "    'CD4', 'CD27', 'PDCD1', 'CD28', 'FCGR2A', 'CD9', 'BSG', 'ICAM1', 'ITGAL', 'CD24'\n",
    "]\n"
   ]
  },
  {
   "cell_type": "code",
   "execution_count": null,
   "id": "94e5932e-50fb-4b53-9d6d-6a503028e21b",
   "metadata": {
    "tags": []
   },
   "outputs": [],
   "source": [
    "\n",
    "sc.pl.heatmap(\n",
    "    adata,\n",
    "    var_names=custom_gene_names,\n",
    "    groupby='leiden_mrna',\n",
    "    swap_axes=True,\n",
    "    cmap='bwr',\n",
    "    use_raw=True,\n",
    "    vmin=-5,\n",
    "    vmax=5,\n",
    "    figsize=(10, 8)\n",
    ")"
   ]
  },
  {
   "cell_type": "code",
   "execution_count": null,
   "id": "9b7c3335-9b20-46d9-8327-dad58ffe8769",
   "metadata": {
    "tags": []
   },
   "outputs": [],
   "source": [
    "#read PLA data and transform the data\n",
    "data = pd.read_csv('D1-PLA_count_matrix.txt.gz', sep=\"\\t\",index_col=0)"
   ]
  },
  {
   "cell_type": "code",
   "execution_count": null,
   "id": "214f1917-4de3-46ec-bb6b-70ae36d0d2cc",
   "metadata": {
    "tags": []
   },
   "outputs": [],
   "source": [
    "# Update row names (index)\n",
    "data.index = data.index.str.replace(r\"^VCAM1_B:(.*)$\", r\"CD40_A:\\1\", regex=True)\n",
    "data.index = data.index.str.replace(r\"^CD29_B:(.*)$\", r\"CD279_A:\\1\", regex=True)\n",
    "data.index = data.index.str.replace(r\"^LFA1_B:(.*)$\", r\"CD11a_A:\\1\", regex=True)"
   ]
  },
  {
   "cell_type": "code",
   "execution_count": null,
   "id": "ee4f61cd-883b-4301-b9e1-4bfdc0112827",
   "metadata": {
    "tags": []
   },
   "outputs": [],
   "source": [
    "valid_condition = ~data.index.str.contains(r'((:.*_A)|(_B:))', regex=True)\n",
    "\n",
    "# Apply the filter to the dataframe\n",
    "pla = data[valid_condition]\n",
    "\n",
    "#remover suffix \n",
    "pla.index = pla.index.str.replace(r'(_A|_B)', '', regex=True)"
   ]
  },
  {
   "cell_type": "code",
   "execution_count": null,
   "id": "6c06dacd-e131-449e-a2ec-ee63df141270",
   "metadata": {
    "tags": []
   },
   "outputs": [],
   "source": [
    "# #exclude HLADPRQ\n",
    "pla = pla.loc[~pla.index.str.contains('HLADPRQ'),:]"
   ]
  },
  {
   "cell_type": "code",
   "execution_count": null,
   "id": "a2f11685-db35-4e18-a575-1430636b8bfb",
   "metadata": {
    "tags": []
   },
   "outputs": [],
   "source": [
    "pla_obj = SPC.sproxseqObject(pla)\n",
    "pla_obj.compute_protein_pair_counts()\n",
    "pla_obj.compute_protein_abundance()\n"
   ]
  },
  {
   "cell_type": "code",
   "execution_count": null,
   "id": "278584da-d981-4d7d-8b28-98e5dc765a2f",
   "metadata": {
    "tags": []
   },
   "outputs": [],
   "source": [
    "#read tissue barcode \n",
    "tissue_barcode = pd.read_csv('D1_outs/spatial/tissue_positions.csv')\n",
    "tissue_barcode = tissue_barcode.set_index('barcode')\n",
    "#keep only PLA spot barcode \n",
    "tissue_barcode = tissue_barcode.loc[pla.transpose().index,:]"
   ]
  },
  {
   "cell_type": "code",
   "execution_count": null,
   "id": "ea06a2b3-5c85-4176-a054-08a7eca73df8",
   "metadata": {
    "tags": []
   },
   "outputs": [],
   "source": [
    "#construct pla anndata object\n",
    "adata_pla = sc.AnnData(pla.transpose().to_numpy(), obsm={'spatial': tissue_barcode[['pxl_col_in_fullres','pxl_row_in_fullres']].to_numpy()}, obs=tissue_barcode[['in_tissue','array_row','array_col']])\n",
    "adata_protein = sc.AnnData(pla_obj.protein_count.transpose().to_numpy(), obsm={'spatial': tissue_barcode[['pxl_col_in_fullres','pxl_row_in_fullres']].to_numpy()}, obs=tissue_barcode[['in_tissue','array_row','array_col']])\n",
    "adata_protein_pair = sc.AnnData(pla_obj.protein_pair_count.transpose().to_numpy(), obsm={'spatial': tissue_barcode[['pxl_col_in_fullres','pxl_row_in_fullres']].to_numpy()}, obs=tissue_barcode[['in_tissue','array_row','array_col']])\n"
   ]
  },
  {
   "cell_type": "code",
   "execution_count": null,
   "id": "34352750-3de3-4126-8c82-3128868fb467",
   "metadata": {
    "tags": []
   },
   "outputs": [],
   "source": [
    "#rename var name\n",
    "adata_pla.var.index = pla.index\n",
    "adata_protein.var.index = pla_obj.protein_count.index\n",
    "adata_protein_pair.var.index = pla_obj.protein_pair_count.index\n"
   ]
  },
  {
   "cell_type": "code",
   "execution_count": null,
   "id": "e2674646-508f-481b-a2d7-2b6123d63051",
   "metadata": {
    "tags": []
   },
   "outputs": [],
   "source": [
    "#read image \n",
    "image = mpimg.imread('D1_outs/spatial/tissue_hires_image.png')\n",
    "def set_uns_parameters(adata, library_id, image):\n",
    "    spatial_key = \"spatial\"\n",
    "    adata.uns[spatial_key] = {library_id: {\"images\": {\"hires\": image},\n",
    "                                           \"scalefactors\": {'tissue_hires_scalef': 0.53590566,\n",
    "                                                            'tissue_lowres_scalef': 0.1607717,\n",
    "                                                            'fiducial_diameter_fullres': 45.420517,\n",
    "                                                            'spot_diameter_fullres': 28.117462}}}\n",
    "\n",
    "# Assuming adata_rna, adata_protein, and adata_protein_pair are your AnnData objects\n",
    "library_id = \"D1_Human_tonsil_Proxseq\"\n",
    "image = image  # Replace with your actual image variable\n",
    "\n",
    "set_uns_parameters(adata_pla, library_id, image)\n",
    "set_uns_parameters(adata_protein, library_id, image)\n",
    "set_uns_parameters(adata_protein_pair, library_id, image)\n"
   ]
  },
  {
   "cell_type": "code",
   "execution_count": null,
   "id": "394ab89b-f3f7-43c1-9d67-b8dbef58abaf",
   "metadata": {
    "tags": []
   },
   "outputs": [],
   "source": [
    "#plot it and you can get similar result as RNA \n",
    "adata_protein_pair.obs['PLA'] = 'PLA'\n",
    "# plt.rcParams[\"figure.figsize\"] = (8, 8)\n",
    "#sc.pl.spatial(adata_protein_pair, color = 'PLA')\n",
    "adata_protein_pair.var['IgG'] = adata_protein_pair.var_names.str.contains('IgG1a')\n",
    "adata_protein_pair.var['feature_types'] = 'protein_pair'\n",
    "sc.pp.calculate_qc_metrics(\n",
    "    adata_protein_pair,\n",
    "    percent_top=(5, 10, 15),\n",
    "    var_type=\"protein_pair\",\n",
    "    qc_vars=(\"IgG\",),\n",
    "    inplace=True,\n",
    ")"
   ]
  },
  {
   "cell_type": "code",
   "execution_count": null,
   "id": "b951ac89-63e6-48c6-8770-a14a7335d6c4",
   "metadata": {
    "tags": []
   },
   "outputs": [],
   "source": [
    "sc.pl.spatial(adata_protein_pair, color = ['total_counts','n_protein_pair_by_counts'],  size = 1.5, save = 'Extended-Fig-2g.svg')"
   ]
  },
  {
   "cell_type": "code",
   "execution_count": null,
   "id": "0c72f4dd-cded-47b2-b299-817af754f582",
   "metadata": {
    "tags": []
   },
   "outputs": [],
   "source": [
    "# For PLA data:\n",
    "mean_counts = np.mean(adata_protein_pair.obs['total_counts'])\n",
    "median_counts = np.median(adata_protein_pair.obs['total_counts'])\n",
    "std_counts = np.std(adata_protein_pair.obs['total_counts'])\n",
    "\n",
    "print(f\"Mean: {mean_counts:.1f}, Median: {median_counts:.1f}, Std: {std_counts:.1f}\")\n",
    "\n",
    "# For PLA data:\n",
    "mean_counts = np.mean(adata_protein_pair.obs['n_protein_pair_by_counts'])\n",
    "median_counts = np.median(adata_protein_pair.obs['n_protein_pair_by_counts'])\n",
    "std_counts = np.std(adata_protein_pair.obs['n_protein_pair_by_counts'])\n",
    "\n",
    "print(f\"Mean: {mean_counts:.1f}, Median: {median_counts:.1f}, Std: {std_counts:.1f}\")"
   ]
  },
  {
   "cell_type": "code",
   "execution_count": null,
   "id": "ab86d6d0-b79e-4629-9548-08a38b9b7d47",
   "metadata": {
    "tags": []
   },
   "outputs": [],
   "source": [
    "#keep index both in rna and pla\n",
    "obs_names = adata_protein_pair.obs.index.intersection(adata.obs.index)\n",
    "adata_protein_pair = adata_protein_pair[adata_protein_pair.obs.index.isin(list(obs_names))]\n",
    "adata = adata[adata.obs.index.isin(list(obs_names))]"
   ]
  },
  {
   "cell_type": "code",
   "execution_count": null,
   "id": "2ac0548b-4409-423a-9e20-7d5625108484",
   "metadata": {
    "tags": []
   },
   "outputs": [],
   "source": [
    "#similar preprocess to PLA data\n",
    "adata_protein_pair.layers[\"counts\"] = adata_protein_pair.X.copy() # preserve counts\n",
    "sc.pp.normalize_total(adata_protein_pair, target_sum=1e4) # scale each cell to a common library size\n",
    "sc.pp.log1p(adata_protein_pair) # log(expression + 1)\n",
    "adata_protein_pair.raw = adata_protein_pair.copy() # freeze the state in `.raw`\n",
    "adata_protein_pair.write(\"adata_D1_protein_pair_raw_data.h5ad\")\n",
    "sc.pp.scale(adata_protein_pair, max_value=10)"
   ]
  },
  {
   "cell_type": "code",
   "execution_count": null,
   "id": "6aa21e11-6417-4f8a-98bd-f4356362be9f",
   "metadata": {
    "tags": []
   },
   "outputs": [],
   "source": [
    "sc.tl.pca(adata_protein_pair, svd_solver='arpack')"
   ]
  },
  {
   "cell_type": "code",
   "execution_count": null,
   "id": "aa598af4-a21f-43f9-b0b3-cc036a3e0a3d",
   "metadata": {
    "tags": []
   },
   "outputs": [],
   "source": [
    "sc.pl.pca_variance_ratio(adata_protein_pair, log=True)"
   ]
  },
  {
   "cell_type": "code",
   "execution_count": null,
   "id": "36e6d8a1-efbd-4daa-9f51-db38c685ce10",
   "metadata": {
    "tags": []
   },
   "outputs": [],
   "source": [
    "sc.pp.neighbors(adata_protein_pair, n_neighbors=30, n_pcs=20)\n",
    "sc.tl.umap(adata_protein_pair)\n"
   ]
  },
  {
   "cell_type": "code",
   "execution_count": null,
   "id": "4664b954-4d94-4a11-bffb-7fb81f8e4994",
   "metadata": {
    "tags": []
   },
   "outputs": [],
   "source": [
    "sc.tl.leiden(adata_protein_pair,key_added='leiden_pla',resolution=0.7)\n",
    "sc.pl.spatial(adata_protein_pair,color='leiden_pla', save = 'Extended-Fig-4f-2.svg')"
   ]
  },
  {
   "cell_type": "code",
   "execution_count": null,
   "id": "717af94f-7f5c-4eae-b3b5-6f16abe1a80d",
   "metadata": {
    "tags": []
   },
   "outputs": [],
   "source": [
    "sc.pl.umap(adata_protein_pair,color='leiden_pla', save = 'Extended-Fig-4f-1.svg')"
   ]
  },
  {
   "cell_type": "code",
   "execution_count": null,
   "id": "0d762912-5f4b-49be-b5fb-11bfcc0b7700",
   "metadata": {
    "tags": []
   },
   "outputs": [],
   "source": [
    "sc.tl.rank_genes_groups(adata_protein_pair, groupby='leiden_pla', method='wilcoxon')\n",
    "sc.pl.rank_genes_groups(adata_protein_pair, groupby='leiden_pla', method='wilcoxon')"
   ]
  },
  {
   "cell_type": "code",
   "execution_count": null,
   "id": "16407449-4e64-451b-a726-f34689d68e0e",
   "metadata": {
    "tags": []
   },
   "outputs": [],
   "source": [
    "sc.tl.dendrogram(adata_protein_pair, groupby='leiden_pla', key_added='dendrogram_annotation')"
   ]
  },
  {
   "cell_type": "code",
   "execution_count": null,
   "id": "9897ea31-a287-4705-a2bb-84038ca591ce",
   "metadata": {
    "tags": []
   },
   "outputs": [],
   "source": [
    "sc.pl.rank_genes_groups_heatmap(adata_protein_pair, n_genes=4, groupby='leiden_pla', swap_axes=True, use_raw=False, vmin=-4, vmax=4,\n",
    "                                cmap='bwr', figsize=(10, 10))"
   ]
  },
  {
   "cell_type": "code",
   "execution_count": null,
   "id": "fe71fd35-e0c0-4054-bcea-58b2393ed096",
   "metadata": {
    "tags": []
   },
   "outputs": [],
   "source": [
    "sc.pl.rank_genes_groups_dotplot(adata_protein_pair, n_genes=3)"
   ]
  },
  {
   "cell_type": "code",
   "execution_count": null,
   "id": "f650ff02-6b34-4d3d-8054-e395167e3a12",
   "metadata": {
    "tags": []
   },
   "outputs": [],
   "source": [
    "adata_protein_pair.obs['mrna_annotation'] = adata.obs['mrna_annotation']"
   ]
  },
  {
   "cell_type": "code",
   "execution_count": null,
   "id": "124fe84e-ef51-4a36-8b61-213e8e4058e7",
   "metadata": {
    "tags": []
   },
   "outputs": [],
   "source": [
    "sc.pl.umap(adata_protein_pair,color='mrna_annotation')"
   ]
  },
  {
   "cell_type": "code",
   "execution_count": null,
   "id": "04e2a152-2521-4070-9c7b-e1978b32111c",
   "metadata": {
    "tags": []
   },
   "outputs": [],
   "source": [
    "sc.pl.umap(adata_protein_pair,color='leiden_pla')"
   ]
  },
  {
   "cell_type": "code",
   "execution_count": null,
   "id": "5596eef7-0aaf-4725-8400-7dabc81aa012",
   "metadata": {
    "tags": []
   },
   "outputs": [],
   "source": [
    "sc.tl.dendrogram(adata_protein_pair, groupby='mrna_annotation', key_added='dendrogram_annotation')"
   ]
  },
  {
   "cell_type": "code",
   "execution_count": null,
   "id": "64c60aab-00e5-448a-a8f2-138990f4092e",
   "metadata": {
    "tags": []
   },
   "outputs": [],
   "source": [
    "sc.pl.rank_genes_groups_heatmap(adata_protein_pair, n_genes=5, groupby='mrna_annotation', swap_axes=True, use_raw=False, vmin=-4, vmax=4,\n",
    "                                cmap='bwr', figsize=(10, 14))"
   ]
  },
  {
   "cell_type": "code",
   "execution_count": null,
   "id": "6c088a6e-86a7-4184-8ef2-b30b3d7c1e0c",
   "metadata": {
    "tags": []
   },
   "outputs": [],
   "source": [
    "#plot it and you can get similar result as RNA \n",
    "adata_protein = adata_protein[adata_protein.obs.index.isin(list(obs_names))]\n",
    "adata_protein.obs['protein'] = 'protein'\n",
    "# plt.rcParams[\"figure.figsize\"] = (8, 8)\n",
    "#sc.pl.spatial(adata_protein, color = 'protein')\n",
    "adata_protein.var['IgG'] = adata_protein.var_names.str.contains('IgG1a')\n",
    "adata_protein.var['feature_types'] = 'protein'\n",
    "sc.pp.calculate_qc_metrics(\n",
    "    adata_protein,\n",
    "    percent_top=(5, 10, 15),\n",
    "    var_type=\"protein\",\n",
    "    qc_vars=(\"IgG\",),\n",
    "    inplace=True,\n",
    ")"
   ]
  },
  {
   "cell_type": "code",
   "execution_count": null,
   "id": "85fb040d-152a-47dd-9c92-5885316e51fa",
   "metadata": {
    "tags": []
   },
   "outputs": [],
   "source": [
    "sc.pl.spatial(adata_protein, color = ['total_counts','n_protein_by_counts'],  size = 1.5, save = 'Extended-Fig-2h.svg')"
   ]
  },
  {
   "cell_type": "code",
   "execution_count": null,
   "id": "58d64ed7-9572-4496-b5d9-f146af21cfc5",
   "metadata": {
    "tags": []
   },
   "outputs": [],
   "source": [
    "# For protein data:\n",
    "mean_counts = np.mean(adata_protein.obs['total_counts'])\n",
    "median_counts = np.median(adata_protein.obs['total_counts'])\n",
    "std_counts = np.std(adata_protein.obs['total_counts'])\n",
    "\n",
    "print(f\"Mean: {mean_counts:.1f}, Median: {median_counts:.1f}, Std: {std_counts:.1f}\")\n",
    "\n",
    "# For protein data:\n",
    "mean_counts = np.mean(adata_protein.obs['n_protein_by_counts'])\n",
    "median_counts = np.median(adata_protein.obs['n_protein_by_counts'])\n",
    "std_counts = np.std(adata_protein.obs['n_protein_by_counts'])\n",
    "\n",
    "print(f\"Mean: {mean_counts:.1f}, Median: {median_counts:.1f}, Std: {std_counts:.1f}\")\n"
   ]
  },
  {
   "cell_type": "code",
   "execution_count": null,
   "id": "aec70d0f-03a2-4ebf-a92d-e0ce25256e8a",
   "metadata": {
    "tags": []
   },
   "outputs": [],
   "source": [
    "adata_protein.layers[\"counts\"] = adata_protein.X.copy() # preserve counts\n",
    "sc.pp.normalize_total(adata_protein, target_sum=1e4) # scale each cell to a common library size\n",
    "sc.pp.log1p(adata_protein) # log(expression + 1)\n",
    "adata_protein.raw = adata_protein.copy() # freeze the state in `.raw`\n",
    "adata_protein.write(\"adata_D1_protein_raw_data.h5ad\")\n",
    "sc.pp.scale(adata_protein, max_value=10)\n",
    "sc.tl.pca(adata_protein, svd_solver='arpack')"
   ]
  },
  {
   "cell_type": "code",
   "execution_count": null,
   "id": "5d6510b2-f55d-455b-b72d-fcd6073840f0",
   "metadata": {
    "tags": []
   },
   "outputs": [],
   "source": [
    "sc.pl.pca_variance_ratio(adata_protein, log=True)"
   ]
  },
  {
   "cell_type": "code",
   "execution_count": null,
   "id": "a9fedbb2-b9a6-43e3-8472-fe30d724c10d",
   "metadata": {
    "tags": []
   },
   "outputs": [],
   "source": [
    "sc.pp.neighbors(adata_protein, n_neighbors=20, n_pcs=23)\n",
    "sc.tl.umap(adata_protein)"
   ]
  },
  {
   "cell_type": "code",
   "execution_count": null,
   "id": "bfcde195-4ea6-40c9-8cd1-ef682680ac4d",
   "metadata": {
    "tags": []
   },
   "outputs": [],
   "source": [
    "sc.tl.leiden(adata_protein,key_added='leiden_protein',resolution=0.7)\n",
    "sc.pl.spatial(adata_protein, color = ['leiden_protein'], save = 'Extended-Fig-4e-2.svg')"
   ]
  },
  {
   "cell_type": "code",
   "execution_count": null,
   "id": "a2e86e1f-9810-49d2-b2aa-04e59033d9dd",
   "metadata": {
    "tags": []
   },
   "outputs": [],
   "source": [
    "sc.pl.umap(adata_protein, color = ['leiden_protein'], save = 'Extended-Fig-4e-1.svg')"
   ]
  },
  {
   "cell_type": "code",
   "execution_count": null,
   "id": "62e59f37-9af4-4433-8420-1f50395794b1",
   "metadata": {
    "tags": []
   },
   "outputs": [],
   "source": [
    "# Copy cluster annotation from `adata` to `adata_pearson`\n",
    "adata_protein.obs['mrna_annotation'] = adata.obs['mrna_annotation']\n"
   ]
  },
  {
   "cell_type": "code",
   "execution_count": null,
   "id": "359123a2-473e-416e-af37-05d7afe4876e",
   "metadata": {
    "tags": []
   },
   "outputs": [],
   "source": [
    "sc.tl.rank_genes_groups(adata_protein, groupby='mrna_annotation', method='wilcoxon')\n",
    "sc.pl.rank_genes_groups(adata_protein, groupby='mrna_annotation', method='wilcoxon')"
   ]
  },
  {
   "cell_type": "code",
   "execution_count": null,
   "id": "b76b6e38-521a-4e4f-927b-82cb56888990",
   "metadata": {
    "tags": []
   },
   "outputs": [],
   "source": [
    "sc.tl.dendrogram(adata_protein, groupby='mrna_annotation', key_added='dendrogram_annotation')\n"
   ]
  },
  {
   "cell_type": "code",
   "execution_count": null,
   "id": "9a6d6063-97d2-44e6-8b15-a6ce1be6ca48",
   "metadata": {
    "tags": []
   },
   "outputs": [],
   "source": [
    "sc.pl.rank_genes_groups_heatmap(\n",
    "    adata_protein,\n",
    "    groupby='mrna_annotation',\n",
    "    swap_axes=True,\n",
    "    cmap='bwr',\n",
    "    use_raw=False,\n",
    "    n_genes = 4,\n",
    "    vmin=-5,\n",
    "    vmax=5,\n",
    "    figsize=(8,10)\n",
    ")\n"
   ]
  },
  {
   "cell_type": "code",
   "execution_count": null,
   "id": "7de3f8cc-3f2b-412f-85e4-a64c6912a428",
   "metadata": {
    "tags": []
   },
   "outputs": [],
   "source": [
    "custom_protein_order = [ 'CD35', 'VCAM1',  'IgM','HIgG', 'CD86','PDL2', 'CD21', 'CD23', 'IgD', 'CD20', 'CD19',  'CD40', 'ITGA4', 'CD24', 'LFA1','CD11a',\n",
    "    'CD29','CD81','CD38', 'CD8',  'CD3',  'CD4','CD27','CD279','CD28', 'CD32','CD9', 'CD147','ICAM1',]\n",
    "\n",
    "# Plot the heatmap using your custom protein order\n",
    "sc.pl.rank_genes_groups_heatmap(\n",
    "    adata_protein,\n",
    "    groupby='mrna_annotation',\n",
    "    var_names=custom_protein_order,  # Use your custom order here\n",
    "    swap_axes=True,\n",
    "    cmap='RdBu_r',\n",
    "    use_raw=False,\n",
    "    vmin=-3.5,\n",
    "    vmax=3.5,\n",
    "    save='Extended-Fig-6b.svg',\n",
    "    figsize=(7, 7)\n",
    ")\n"
   ]
  },
  {
   "cell_type": "code",
   "execution_count": null,
   "id": "cfc072bd-e693-481a-8126-5ad96f1dd6f2",
   "metadata": {},
   "outputs": [],
   "source": [
    "sc.pl.umap(adata_protein,color='leiden_protein')"
   ]
  },
  {
   "cell_type": "code",
   "execution_count": null,
   "id": "087bf010-6dca-4560-b930-625844f638eb",
   "metadata": {
    "tags": []
   },
   "outputs": [],
   "source": [
    "sc.pl.umap(adata_protein,color='mrna_annotation')"
   ]
  },
  {
   "cell_type": "code",
   "execution_count": null,
   "id": "42700fe2-0f30-4850-8a4c-f37ea2b677dd",
   "metadata": {},
   "outputs": [],
   "source": [
    "fraction_overlap = pd.read_csv('D1_weighted_sc_pla.csv', index_col=0)\n",
    "adata_fraction = sc.AnnData(fraction_overlap.transpose().to_numpy(), obsm={'spatial': tissue_barcode[['pxl_col_in_fullres','pxl_row_in_fullres']].to_numpy()}, obs=tissue_barcode[['in_tissue','array_row','array_col']])\n",
    "adata_fraction.var.index = fraction_overlap.index\n",
    "set_uns_parameters(adata_fraction, library_id, image)\n",
    "#keep index both in rna and pla\n",
    "obs_names = adata_fraction.obs.index.intersection(adata.obs.index)\n",
    "adata_fraction = adata_fraction[adata_fraction.obs.index.isin(list(obs_names))]\n",
    "#similar preprocess to PLA data\n",
    "adata_fraction.layers[\"counts\"] = adata_fraction.X.copy() # preserve counts\n",
    "# sc.pp.normalize_total(adata_w, target_sum=1e4) # scale each cell to a common library size\n",
    "# sc.pp.log1p(adata_w) #log(expression + 1)\n",
    "adata_fraction.raw = adata_fraction.copy() # freeze the state in `.raw`\n",
    "sc.pp.scale(adata_fraction, max_value=10)\n",
    "sc.tl.pca(adata_fraction, svd_solver='arpack')\n",
    "sc.pl.pca_variance_ratio(adata_fraction, log=True)\n",
    "sc.pp.neighbors(adata_fraction, n_neighbors=10, n_pcs=6)\n",
    "sc.tl.umap(adata_fraction)\n",
    "sc.tl.leiden(adata_fraction,key_added='Fractional_overlap',resolution=0.5)\n",
    "sc.pl.spatial(adata_fraction, color = ['Fractional_overlap'], save='Extended-Fig-10c.svg')\n"
   ]
  },
  {
   "cell_type": "code",
   "execution_count": null,
   "id": "91acffcb-bf42-4053-af76-734033d206ad",
   "metadata": {
    "tags": []
   },
   "outputs": [],
   "source": [
    "sc.pl.spatial(adata_protein, color = ['CD29', ], cmap='coolwarm', spot_size=45,)"
   ]
  },
  {
   "cell_type": "code",
   "execution_count": null,
   "id": "e48b2366-54f6-43f8-aca2-b6d0f9d1707c",
   "metadata": {
    "tags": []
   },
   "outputs": [],
   "source": [
    "sc.pl.spatial(adata_protein, color = ['ITGA4', ], cmap='coolwarm', spot_size=45,save = 'Fig-6c-1.svg')"
   ]
  },
  {
   "cell_type": "code",
   "execution_count": null,
   "id": "9c9f79ac-0e80-41c4-abae-604ee6898f7d",
   "metadata": {
    "tags": []
   },
   "outputs": [],
   "source": [
    "sc.pl.spatial(adata_protein, color = ['VCAM1', ], cmap='coolwarm', spot_size=45,save = 'Fig-6c-2.svg')"
   ]
  },
  {
   "cell_type": "code",
   "execution_count": null,
   "id": "9225df55-f455-41c8-82fb-1cf3fc794a07",
   "metadata": {},
   "outputs": [],
   "source": [
    "sc.pl.spatial(adata_protein_pair, color = ['ITGA4:VCAM1' ], layer = 'counts', cmap='coolwarm', spot_size=45,vmin = 0, vmax = 45, save = 'Fig-6c-3.svg')"
   ]
  },
  {
   "cell_type": "code",
   "execution_count": null,
   "id": "899c1228-39e4-4b9b-acc6-72d58581fe70",
   "metadata": {},
   "outputs": [],
   "source": [
    "import seaborn as sns\n",
    "import matplotlib.pyplot as plt\n",
    "import pandas as pd\n",
    "from scipy.stats import mannwhitneyu\n",
    "import os\n",
    "\n",
    "# Extract data\n",
    "adata = adata_protein_pair\n",
    "pair = 'ITGA4:VCAM1'\n",
    "\n",
    "# Get raw counts from layers\n",
    "counts = adata[:, pair].layers[\"counts\"].toarray().flatten()\n",
    "zones = adata.obs[\"mrna_annotation\"]\n",
    "\n",
    "# Build DataFrame and filter only Light zone and Dark zone\n",
    "df = pd.DataFrame({\n",
    "    \"ITGA4:VCAM1\": counts,\n",
    "    \"Zone\": zones\n",
    "})\n",
    "df = df[df[\"Zone\"].isin([\"Dark zone\", \"Light zone\"])]\n",
    "\n",
    "# Define order and color palette\n",
    "order = [\"Dark zone\", \"Light zone\"]\n",
    "palette = {\n",
    "    \"Dark zone\": \"#66c2a5\",\n",
    "    \"Light zone\": \"#fc8d62\"\n",
    "}\n",
    "\n",
    "# Perform statistical test\n",
    "group1 = df[df[\"Zone\"] == \"Dark zone\"][\"ITGA4:VCAM1\"]\n",
    "group2 = df[df[\"Zone\"] == \"Light zone\"][\"ITGA4:VCAM1\"]\n",
    "stat, p_value = mannwhitneyu(group1, group2, alternative='two-sided')\n",
    "print(f\"🔍 Mann-Whitney U test p-value: {p_value:.4g}\")\n",
    "\n",
    "# Determine significance stars\n",
    "if p_value < 0.001:\n",
    "    stars = '***'\n",
    "elif p_value < 0.01:\n",
    "    stars = '**'\n",
    "elif p_value < 0.05:\n",
    "    stars = '*'\n",
    "else:\n",
    "    stars = 'ns'\n",
    "\n",
    "# Plot\n",
    "plt.figure(figsize=(3.5, 3))\n",
    "ax = sns.boxplot(\n",
    "    data=df,\n",
    "    x=\"Zone\",\n",
    "    y=\"ITGA4:VCAM1\",\n",
    "    order=order,\n",
    "    palette=palette,\n",
    "    showcaps=True,\n",
    "    boxprops=dict(linewidth=0),  # ⬅️ Remove box border\n",
    "    whiskerprops=dict(linewidth=1),\n",
    "    medianprops=dict(linewidth=1, color='black')\n",
    ")\n",
    "sns.stripplot(data=df, x=\"Zone\", y=\"ITGA4:VCAM1\", color=\"black\", size=2, jitter=True, alpha=0.3, order=order)\n",
    "\n",
    "# Draw significance bar\n",
    "y_max = df[\"ITGA4:VCAM1\"].max()\n",
    "y1 = y_max * 0.95\n",
    "y2 = y_max * 0.95\n",
    "x1, x2 = 0, 1\n",
    "ax.plot([x1, x1, x2, x2], [y1, y2, y2, y1], lw=1.2, color='black')\n",
    "ax.text((x1 + x2) / 2, y2 - 0.5, stars, ha='center', va='bottom', fontsize=10)\n",
    "\n",
    "# Labels and layout\n",
    "plt.ylabel(\"Raw counts\")\n",
    "plt.xlabel(\"\")\n",
    "plt.title(\"ITGA4:VCAM1\")\n",
    "plt.tight_layout()\n",
    "\n",
    "# Save figure\n",
    "os.makedirs(\"Figures\", exist_ok=True)\n",
    "plt.savefig(\"Fig-6d-3.png\", dpi=300)\n",
    "plt.savefig(\"Fig-6d-3.svg\", dpi=300)\n",
    "\n",
    "plt.show()\n"
   ]
  },
  {
   "cell_type": "code",
   "execution_count": null,
   "id": "fbbff3d2-bdc4-4582-9bb1-049f195f1c96",
   "metadata": {},
   "outputs": [],
   "source": []
  }
 ],
 "metadata": {
  "kernelspec": {
   "display_name": "Python 3 (ipykernel)",
   "language": "python",
   "name": "python3"
  },
  "language_info": {
   "codemirror_mode": {
    "name": "ipython",
    "version": 3
   },
   "file_extension": ".py",
   "mimetype": "text/x-python",
   "name": "python",
   "nbconvert_exporter": "python",
   "pygments_lexer": "ipython3",
   "version": "3.10.9"
  }
 },
 "nbformat": 4,
 "nbformat_minor": 5
}
